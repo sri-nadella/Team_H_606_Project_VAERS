{
 "cells": [
  {
   "cell_type": "markdown",
   "id": "9f123fae-9cc9-4cdf-a634-a605b899a6b3",
   "metadata": {},
   "source": [
    "# PHASE 1- Vaxshield\n"
   ]
  },
  {
   "cell_type": "markdown",
   "id": "5214c87a-b0b5-4cb7-b4fc-7ba92cfe28f5",
   "metadata": {},
   "source": [
    "## Analysis of VAERS Reports for Vaccine Safety Assessment"
   ]
  },
  {
   "cell_type": "markdown",
   "id": "399226af-68b7-4da6-8a85-f5f2e3e9b49f",
   "metadata": {},
   "source": [
    "### VAERS Data overview"
   ]
  },
  {
   "cell_type": "markdown",
   "id": "af4c0d69-2898-4dc2-b2dd-3c6167473541",
   "metadata": {},
   "source": [
    "The Vaccine Adverse Event Reporting System (VAERS) is a crucial tool for monitoring vaccine safety in the United States. Key points about VAERS data include:\n",
    "\n",
    "1. Open Reporting System: VAERS accepts reports from healthcare providers, vaccine manufacturers, and the general public.\n",
    "2. Broad Scope: The system encourages reporting of any clinically significant health issues following vaccination, even if causality is uncertain.\n",
    "3. Limitations: VAERS reports alone cannot determine if a vaccine caused an adverse event, as they may include coincidental events\n",
    "4. Mandatory Reporting: In certain situations, healthcare providers and vaccine manufacturers are required to report to VAERS."
   ]
  },
  {
   "cell_type": "markdown",
   "id": "530fa97a-be4a-45d2-8fb0-2561a28b98c5",
   "metadata": {},
   "source": [
    "### Data Structure"
   ]
  },
  {
   "cell_type": "markdown",
   "id": "afff0712-039b-4b86-b50e-241631ba373a",
   "metadata": {},
   "source": [
    "VAERS data is distributed in three CSV files per year, containing demographic information, vaccine details, and symptom data. The data is from the years 1990 to 2024.\n",
    "\n",
    "1. VAERSDATA.csv\n",
    "2. VAERSSYMPTOMS.csv\n",
    "3. VAERSVAX.csv"
   ]
  },
  {
   "cell_type": "markdown",
   "id": "90f6c875-30a2-46a8-b9b3-46c64e635c2c",
   "metadata": {},
   "source": [
    "### We are working on recent data from the years 2015 to 2025."
   ]
  },
  {
   "cell_type": "markdown",
   "id": "72ef98ec-a320-45ed-aed8-675061ad6968",
   "metadata": {},
   "source": [
    "## Data Loading"
   ]
  },
  {
   "cell_type": "code",
   "execution_count": 85,
   "id": "087c29cf-fa51-4083-ad8a-d6ed09c4a837",
   "metadata": {},
   "outputs": [],
   "source": [
    "# import the necessary libraries\n",
    "import pandas as pd\n",
    "import os\n",
    "import glob\n",
    "import numpy as np\n",
    "import matplotlib.pyplot as plt\n",
    "import seaborn as sns\n",
    "import re\n",
    "import warnings\n",
    "warnings.filterwarnings(action='ignore')"
   ]
  },
  {
   "cell_type": "code",
   "execution_count": 87,
   "id": "19c4af28-d804-4fcc-b99f-ddc08eb093c3",
   "metadata": {},
   "outputs": [
    {
     "name": "stdout",
     "output_type": "stream",
     "text": [
      "['1990VAERSDATA.csv', '1990VAERSSYMPTOMS.csv', '1990VAERSVAX.csv', '1991VAERSDATA.csv', '1991VAERSSYMPTOMS.csv', '1991VAERSVAX.csv', '1992VAERSDATA.csv', '1992VAERSSYMPTOMS.csv', '1992VAERSVAX.csv', '1993VAERSDATA.csv', '1993VAERSSYMPTOMS.csv', '1993VAERSVAX.csv', '1994VAERSDATA.csv', '1994VAERSSYMPTOMS.csv', '1994VAERSVAX.csv', '1995VAERSDATA.csv', '1995VAERSSYMPTOMS.csv', '1995VAERSVAX.csv', '1996VAERSDATA.csv', '1996VAERSSYMPTOMS.csv', '1996VAERSVAX.csv', '1997VAERSDATA.csv', '1997VAERSSYMPTOMS.csv', '1997VAERSVAX.csv', '1998VAERSDATA.csv', '1998VAERSSYMPTOMS.csv', '1998VAERSVAX.csv', '1999VAERSDATA.csv', '1999VAERSSYMPTOMS.csv', '1999VAERSVAX.csv', '2000VAERSDATA.csv', '2000VAERSSYMPTOMS.csv', '2000VAERSVAX.csv', '2001VAERSDATA.csv', '2001VAERSSYMPTOMS.csv', '2001VAERSVAX.csv', '2002VAERSDATA.csv', '2002VAERSSYMPTOMS.csv', '2002VAERSVAX.csv', '2003VAERSDATA.csv', '2003VAERSSYMPTOMS.csv', '2003VAERSVAX.csv', '2004VAERSDATA.csv', '2004VAERSSYMPTOMS.csv', '2004VAERSVAX.csv', '2005VAERSDATA.csv', '2005VAERSSYMPTOMS.csv', '2005VAERSVAX.csv', '2006VAERSDATA.csv', '2006VAERSSYMPTOMS.csv', '2006VAERSVAX.csv', '2007VAERSDATA.csv', '2007VAERSSYMPTOMS.csv', '2007VAERSVAX.csv', '2008VAERSDATA.csv', '2008VAERSSYMPTOMS.csv', '2008VAERSVAX.csv', '2009VAERSDATA.csv', '2009VAERSSYMPTOMS.csv', '2009VAERSVAX.csv', '2010VAERSDATA.csv', '2010VAERSSYMPTOMS.csv', '2010VAERSVAX.csv', '2011VAERSDATA.csv', '2011VAERSSYMPTOMS.csv', '2011VAERSVAX.csv', '2012VAERSDATA.csv', '2012VAERSSYMPTOMS.csv', '2012VAERSVAX.csv', '2013VAERSDATA.csv', '2013VAERSSYMPTOMS.csv', '2013VAERSVAX.csv', '2014VAERSDATA.csv', '2014VAERSSYMPTOMS.csv', '2014VAERSVAX.csv', '2015VAERSDATA.csv', '2015VAERSSYMPTOMS.csv', '2015VAERSVAX.csv', '2016VAERSDATA.csv', '2016VAERSSYMPTOMS.csv', '2016VAERSVAX.csv', '2017VAERSDATA.csv', '2017VAERSSYMPTOMS.csv', '2017VAERSVAX.csv', '2018VAERSDATA.csv', '2018VAERSSYMPTOMS.csv', '2018VAERSVAX.csv', '2019VAERSDATA.csv', '2019VAERSSYMPTOMS.csv', '2019VAERSVAX.csv', '2020VAERSDATA.csv', '2020VAERSSYMPTOMS.csv', '2020VAERSVAX.csv', '2021VAERSDATA.csv', '2021VAERSSYMPTOMS.csv', '2021VAERSVAX.csv', '2022VAERSDATA.csv', '2022VAERSSYMPTOMS.csv', '2022VAERSVAX.csv', '2023VAERSDATA.csv', '2023VAERSSYMPTOMS.csv', '2023VAERSVAX.csv', '2024VAERSDATA.csv', '2024VAERSSYMPTOMS.csv', '2024VAERSVAX.csv', '2025VAERSDATA.csv', '2025VAERSSYMPTOMS.csv', '2025VAERSVAX.csv', 'NonDomesticVAERSDATA.csv', 'NonDomesticVAERSSYMPTOMS.csv', 'NonDomesticVAERSVAX.csv']\n"
     ]
    }
   ],
   "source": [
    "# Read the files\n",
    "path = r\"C:\\Users\\Admin\\Downloads\\AllVAERSDataCSVS\"\n",
    "files = os.listdir(path)\n",
    "print(files)"
   ]
  },
  {
   "cell_type": "markdown",
   "id": "9eebd451-ad87-41bb-baf4-f1515aa8ef9f",
   "metadata": {},
   "source": [
    "## Filter files from year 2015 to 2025 and then concatenate the contents of the filtered CSV files into a single DataFrame for each dataset."
   ]
  },
  {
   "cell_type": "code",
   "execution_count": 91,
   "id": "bf166d56-c6f7-4b37-9395-c575bb1be1a4",
   "metadata": {},
   "outputs": [],
   "source": [
    "# Function to filter CSV files from years 2015-2025\n",
    "def filter_files(files):\n",
    "    return [f for f in files if f.split(os.path.sep)[-1][:4].isdigit() and 2015 <= int(f.split(os.path.sep)[-1][:4]) <= 2025]\n",
    "\n",
    "# Use glob to get all the CSV files for each dataset type (DATA, SYMPTOMS, VAX)\n",
    "data_files = filter_files(glob.glob(os.path.join(path, '*VAERSDATA.csv')))\n",
    "symptom_files = filter_files(glob.glob(os.path.join(path, '*VAERSSYMPTOMS.csv')))\n",
    "vaccine_files = filter_files(glob.glob(os.path.join(path, '*VAERSVAX.csv')))\n",
    "\n",
    "# Function to read and concatenate multiple the csv files\n",
    "def read_and_concat(files):\n",
    "    return pd.concat([pd.read_csv(f, encoding='latin1', low_memory=False) for f in files], ignore_index=True)"
   ]
  },
  {
   "cell_type": "code",
   "execution_count": 93,
   "id": "5cd26f68-d4d2-4eb4-8225-d2d897a32607",
   "metadata": {},
   "outputs": [],
   "source": [
    "# Read and concatenate the data\n",
    "data_df = read_and_concat(data_files)\n",
    "symptom_df = read_and_concat(symptom_files)\n",
    "vaccine_df = read_and_concat(vaccine_files)"
   ]
  },
  {
   "cell_type": "markdown",
   "id": "c3ff044d-2f8e-4fad-851c-1108dd9e8fbb",
   "metadata": {},
   "source": [
    "## Understanding patient data"
   ]
  },
  {
   "cell_type": "code",
   "execution_count": 97,
   "id": "e33e675a-0377-4013-bf3c-a2e5d9bf7056",
   "metadata": {},
   "outputs": [
    {
     "data": {
      "text/html": [
       "<div>\n",
       "<style scoped>\n",
       "    .dataframe tbody tr th:only-of-type {\n",
       "        vertical-align: middle;\n",
       "    }\n",
       "\n",
       "    .dataframe tbody tr th {\n",
       "        vertical-align: top;\n",
       "    }\n",
       "\n",
       "    .dataframe thead th {\n",
       "        text-align: right;\n",
       "    }\n",
       "</style>\n",
       "<table border=\"1\" class=\"dataframe\">\n",
       "  <thead>\n",
       "    <tr style=\"text-align: right;\">\n",
       "      <th></th>\n",
       "      <th>VAERS_ID</th>\n",
       "      <th>RECVDATE</th>\n",
       "      <th>STATE</th>\n",
       "      <th>AGE_YRS</th>\n",
       "      <th>CAGE_YR</th>\n",
       "      <th>CAGE_MO</th>\n",
       "      <th>SEX</th>\n",
       "      <th>RPT_DATE</th>\n",
       "      <th>SYMPTOM_TEXT</th>\n",
       "      <th>DIED</th>\n",
       "      <th>...</th>\n",
       "      <th>HISTORY</th>\n",
       "      <th>PRIOR_VAX</th>\n",
       "      <th>SPLTTYPE</th>\n",
       "      <th>FORM_VERS</th>\n",
       "      <th>TODAYS_DATE</th>\n",
       "      <th>BIRTH_DEFECT</th>\n",
       "      <th>OFC_VISIT</th>\n",
       "      <th>ER_ED_VISIT</th>\n",
       "      <th>ALLERGIES</th>\n",
       "      <th>ORDER</th>\n",
       "    </tr>\n",
       "  </thead>\n",
       "  <tbody>\n",
       "    <tr>\n",
       "      <th>0</th>\n",
       "      <td>509124</td>\n",
       "      <td>01/01/2015</td>\n",
       "      <td>NaN</td>\n",
       "      <td>NaN</td>\n",
       "      <td>NaN</td>\n",
       "      <td>NaN</td>\n",
       "      <td>M</td>\n",
       "      <td>11/21/2014</td>\n",
       "      <td>Case number PHHY2014US000955, is an initial sp...</td>\n",
       "      <td>NaN</td>\n",
       "      <td>...</td>\n",
       "      <td>Hypertension; Diabetes mellitus</td>\n",
       "      <td>NaN</td>\n",
       "      <td>PHHY2014US000955</td>\n",
       "      <td>1</td>\n",
       "      <td>NaN</td>\n",
       "      <td>NaN</td>\n",
       "      <td>NaN</td>\n",
       "      <td>NaN</td>\n",
       "      <td>NaN</td>\n",
       "      <td>2</td>\n",
       "    </tr>\n",
       "    <tr>\n",
       "      <th>1</th>\n",
       "      <td>560330</td>\n",
       "      <td>01/01/2015</td>\n",
       "      <td>UT</td>\n",
       "      <td>1.3</td>\n",
       "      <td>1.0</td>\n",
       "      <td>0.3</td>\n",
       "      <td>M</td>\n",
       "      <td>01/01/2015</td>\n",
       "      <td>Pinpoint rash on torso, belly, back, neck, chi...</td>\n",
       "      <td>NaN</td>\n",
       "      <td>...</td>\n",
       "      <td>NaN</td>\n",
       "      <td>NaN</td>\n",
       "      <td>NaN</td>\n",
       "      <td>1</td>\n",
       "      <td>NaN</td>\n",
       "      <td>NaN</td>\n",
       "      <td>NaN</td>\n",
       "      <td>NaN</td>\n",
       "      <td>NaN</td>\n",
       "      <td>1</td>\n",
       "    </tr>\n",
       "  </tbody>\n",
       "</table>\n",
       "<p>2 rows × 36 columns</p>\n",
       "</div>"
      ],
      "text/plain": [
       "   VAERS_ID    RECVDATE STATE  AGE_YRS  CAGE_YR  CAGE_MO SEX    RPT_DATE  \\\n",
       "0    509124  01/01/2015   NaN      NaN      NaN      NaN   M  11/21/2014   \n",
       "1    560330  01/01/2015    UT      1.3      1.0      0.3   M  01/01/2015   \n",
       "\n",
       "                                        SYMPTOM_TEXT DIED  ...  \\\n",
       "0  Case number PHHY2014US000955, is an initial sp...  NaN  ...   \n",
       "1  Pinpoint rash on torso, belly, back, neck, chi...  NaN  ...   \n",
       "\n",
       "                           HISTORY PRIOR_VAX          SPLTTYPE FORM_VERS  \\\n",
       "0  Hypertension; Diabetes mellitus       NaN  PHHY2014US000955         1   \n",
       "1                              NaN       NaN               NaN         1   \n",
       "\n",
       "   TODAYS_DATE BIRTH_DEFECT OFC_VISIT ER_ED_VISIT ALLERGIES ORDER  \n",
       "0          NaN          NaN       NaN         NaN       NaN     2  \n",
       "1          NaN          NaN       NaN         NaN       NaN     1  \n",
       "\n",
       "[2 rows x 36 columns]"
      ]
     },
     "execution_count": 97,
     "metadata": {},
     "output_type": "execute_result"
    }
   ],
   "source": [
    "\n",
    "data_df.head(2)"
   ]
  },
  {
   "cell_type": "code",
   "execution_count": 99,
   "id": "0cab7c38-a3f5-414a-b062-7f2056b498c5",
   "metadata": {},
   "outputs": [
    {
     "name": "stdout",
     "output_type": "stream",
     "text": [
      "<class 'pandas.core.frame.DataFrame'>\n",
      "RangeIndex: 1498898 entries, 0 to 1498897\n",
      "Data columns (total 36 columns):\n",
      " #   Column        Non-Null Count    Dtype  \n",
      "---  ------        --------------    -----  \n",
      " 0   VAERS_ID      1498898 non-null  int64  \n",
      " 1   RECVDATE      1498898 non-null  object \n",
      " 2   STATE         1237275 non-null  object \n",
      " 3   AGE_YRS       1263405 non-null  float64\n",
      " 4   CAGE_YR       1125043 non-null  float64\n",
      " 5   CAGE_MO       42572 non-null    float64\n",
      " 6   SEX           1496585 non-null  object \n",
      " 7   RPT_DATE      132580 non-null   object \n",
      " 8   SYMPTOM_TEXT  1496817 non-null  object \n",
      " 9   DIED          22639 non-null    object \n",
      " 10  DATEDIED      19582 non-null    object \n",
      " 11  L_THREAT      20727 non-null    object \n",
      " 12  ER_VISIT      27855 non-null    object \n",
      " 13  HOSPITAL      110555 non-null   object \n",
      " 14  HOSPDAYS      65680 non-null    float64\n",
      " 15  X_STAY        896 non-null      object \n",
      " 16  DISABLE       28004 non-null    object \n",
      " 17  RECOVD        1334665 non-null  object \n",
      " 18  VAX_DATE      1337961 non-null  object \n",
      " 19  ONSET_DATE    1292945 non-null  object \n",
      " 20  NUMDAYS       1236832 non-null  float64\n",
      " 21  LAB_DATA      425632 non-null   object \n",
      " 22  V_ADMINBY     1498898 non-null  object \n",
      " 23  V_FUNDBY      134773 non-null   object \n",
      " 24  OTHER_MEDS    694317 non-null   object \n",
      " 25  CUR_ILL       447597 non-null   object \n",
      " 26  HISTORY       653819 non-null   object \n",
      " 27  PRIOR_VAX     64334 non-null    object \n",
      " 28  SPLTTYPE      533525 non-null   object \n",
      " 29  FORM_VERS     1498898 non-null  int64  \n",
      " 30  TODAYS_DATE   1351905 non-null  object \n",
      " 31  BIRTH_DEFECT  792 non-null      object \n",
      " 32  OFC_VISIT     277332 non-null   object \n",
      " 33  ER_ED_VISIT   151892 non-null   object \n",
      " 34  ALLERGIES     496956 non-null   object \n",
      " 35  ORDER         1498898 non-null  int64  \n",
      "dtypes: float64(5), int64(3), object(28)\n",
      "memory usage: 411.7+ MB\n"
     ]
    }
   ],
   "source": [
    "\n",
    "data_df.info()"
   ]
  },
  {
   "cell_type": "code",
   "execution_count": 101,
   "id": "9fc1a0fd-a59a-4a05-8376-047ebac5d810",
   "metadata": {},
   "outputs": [
    {
     "data": {
      "text/plain": [
       "(1498898, 36)"
      ]
     },
     "execution_count": 101,
     "metadata": {},
     "output_type": "execute_result"
    }
   ],
   "source": [
    "\n",
    "data_df.shape"
   ]
  },
  {
   "cell_type": "markdown",
   "id": "ab96a528-2422-42cb-b2b9-97a8ddb258f5",
   "metadata": {},
   "source": [
    "## Understanding symptoms df"
   ]
  },
  {
   "cell_type": "code",
   "execution_count": 105,
   "id": "791173fc-18d2-4be8-9a68-9dbbe8398791",
   "metadata": {},
   "outputs": [
    {
     "data": {
      "text/html": [
       "<div>\n",
       "<style scoped>\n",
       "    .dataframe tbody tr th:only-of-type {\n",
       "        vertical-align: middle;\n",
       "    }\n",
       "\n",
       "    .dataframe tbody tr th {\n",
       "        vertical-align: top;\n",
       "    }\n",
       "\n",
       "    .dataframe thead th {\n",
       "        text-align: right;\n",
       "    }\n",
       "</style>\n",
       "<table border=\"1\" class=\"dataframe\">\n",
       "  <thead>\n",
       "    <tr style=\"text-align: right;\">\n",
       "      <th></th>\n",
       "      <th>VAERS_ID</th>\n",
       "      <th>SYMPTOM1</th>\n",
       "      <th>SYMPTOMVERSION1</th>\n",
       "      <th>SYMPTOM2</th>\n",
       "      <th>SYMPTOMVERSION2</th>\n",
       "      <th>SYMPTOM3</th>\n",
       "      <th>SYMPTOMVERSION3</th>\n",
       "      <th>SYMPTOM4</th>\n",
       "      <th>SYMPTOMVERSION4</th>\n",
       "      <th>SYMPTOM5</th>\n",
       "      <th>SYMPTOMVERSION5</th>\n",
       "      <th>ORDER</th>\n",
       "    </tr>\n",
       "  </thead>\n",
       "  <tbody>\n",
       "    <tr>\n",
       "      <th>0</th>\n",
       "      <td>35842</td>\n",
       "      <td>Cellulitis</td>\n",
       "      <td>18.0</td>\n",
       "      <td>Culture negative</td>\n",
       "      <td>18.0</td>\n",
       "      <td>Ocular hyperaemia</td>\n",
       "      <td>18.0</td>\n",
       "      <td>Pyrexia</td>\n",
       "      <td>18.0</td>\n",
       "      <td>NaN</td>\n",
       "      <td>NaN</td>\n",
       "      <td>2</td>\n",
       "    </tr>\n",
       "    <tr>\n",
       "      <th>1</th>\n",
       "      <td>66107</td>\n",
       "      <td>Guillain-Barre syndrome</td>\n",
       "      <td>17.1</td>\n",
       "      <td>NaN</td>\n",
       "      <td>NaN</td>\n",
       "      <td>NaN</td>\n",
       "      <td>NaN</td>\n",
       "      <td>NaN</td>\n",
       "      <td>NaN</td>\n",
       "      <td>NaN</td>\n",
       "      <td>NaN</td>\n",
       "      <td>4</td>\n",
       "    </tr>\n",
       "  </tbody>\n",
       "</table>\n",
       "</div>"
      ],
      "text/plain": [
       "   VAERS_ID                 SYMPTOM1  SYMPTOMVERSION1          SYMPTOM2  \\\n",
       "0     35842               Cellulitis             18.0  Culture negative   \n",
       "1     66107  Guillain-Barre syndrome             17.1               NaN   \n",
       "\n",
       "   SYMPTOMVERSION2           SYMPTOM3  SYMPTOMVERSION3 SYMPTOM4  \\\n",
       "0             18.0  Ocular hyperaemia             18.0  Pyrexia   \n",
       "1              NaN                NaN              NaN      NaN   \n",
       "\n",
       "   SYMPTOMVERSION4 SYMPTOM5  SYMPTOMVERSION5  ORDER  \n",
       "0             18.0      NaN              NaN      2  \n",
       "1              NaN      NaN              NaN      4  "
      ]
     },
     "execution_count": 105,
     "metadata": {},
     "output_type": "execute_result"
    }
   ],
   "source": [
    "\n",
    "symptom_df.head(2)"
   ]
  },
  {
   "cell_type": "code",
   "execution_count": 107,
   "id": "a95934d3-d37f-4d6f-ab76-67199c0f5c4d",
   "metadata": {},
   "outputs": [
    {
     "name": "stdout",
     "output_type": "stream",
     "text": [
      "<class 'pandas.core.frame.DataFrame'>\n",
      "RangeIndex: 1954522 entries, 0 to 1954521\n",
      "Data columns (total 12 columns):\n",
      " #   Column           Dtype  \n",
      "---  ------           -----  \n",
      " 0   VAERS_ID         int64  \n",
      " 1   SYMPTOM1         object \n",
      " 2   SYMPTOMVERSION1  float64\n",
      " 3   SYMPTOM2         object \n",
      " 4   SYMPTOMVERSION2  float64\n",
      " 5   SYMPTOM3         object \n",
      " 6   SYMPTOMVERSION3  float64\n",
      " 7   SYMPTOM4         object \n",
      " 8   SYMPTOMVERSION4  float64\n",
      " 9   SYMPTOM5         object \n",
      " 10  SYMPTOMVERSION5  float64\n",
      " 11  ORDER            int64  \n",
      "dtypes: float64(5), int64(2), object(5)\n",
      "memory usage: 178.9+ MB\n"
     ]
    }
   ],
   "source": [
    "symptom_df.info()"
   ]
  },
  {
   "cell_type": "code",
   "execution_count": 109,
   "id": "9855f854-fd70-4645-8f84-caea6637b0a2",
   "metadata": {},
   "outputs": [
    {
     "data": {
      "text/plain": [
       "(1954522, 12)"
      ]
     },
     "execution_count": 109,
     "metadata": {},
     "output_type": "execute_result"
    }
   ],
   "source": [
    "symptom_df.shape"
   ]
  },
  {
   "cell_type": "markdown",
   "id": "6efa5ad4-06ec-454a-9e5b-faa281fe6015",
   "metadata": {},
   "source": [
    "## Understanding Vaccine DF"
   ]
  },
  {
   "cell_type": "code",
   "execution_count": 113,
   "id": "b4aab814-6cc1-4ae2-b8a2-7ad777da1e55",
   "metadata": {},
   "outputs": [
    {
     "data": {
      "text/html": [
       "<div>\n",
       "<style scoped>\n",
       "    .dataframe tbody tr th:only-of-type {\n",
       "        vertical-align: middle;\n",
       "    }\n",
       "\n",
       "    .dataframe tbody tr th {\n",
       "        vertical-align: top;\n",
       "    }\n",
       "\n",
       "    .dataframe thead th {\n",
       "        text-align: right;\n",
       "    }\n",
       "</style>\n",
       "<table border=\"1\" class=\"dataframe\">\n",
       "  <thead>\n",
       "    <tr style=\"text-align: right;\">\n",
       "      <th></th>\n",
       "      <th>VAERS_ID</th>\n",
       "      <th>VAX_TYPE</th>\n",
       "      <th>VAX_MANU</th>\n",
       "      <th>VAX_LOT</th>\n",
       "      <th>VAX_DOSE_SERIES</th>\n",
       "      <th>VAX_ROUTE</th>\n",
       "      <th>VAX_SITE</th>\n",
       "      <th>VAX_NAME</th>\n",
       "      <th>ORDER</th>\n",
       "    </tr>\n",
       "  </thead>\n",
       "  <tbody>\n",
       "    <tr>\n",
       "      <th>0</th>\n",
       "      <td>35842</td>\n",
       "      <td>CHOL</td>\n",
       "      <td>UNKNOWN MANUFACTURER</td>\n",
       "      <td>NaN</td>\n",
       "      <td>UNK</td>\n",
       "      <td>NaN</td>\n",
       "      <td>NaN</td>\n",
       "      <td>CHOLERA (NO BRAND NAME)</td>\n",
       "      <td>2</td>\n",
       "    </tr>\n",
       "    <tr>\n",
       "      <th>1</th>\n",
       "      <td>35842</td>\n",
       "      <td>TYP</td>\n",
       "      <td>BERNA BIOTECH, LTD.</td>\n",
       "      <td>115382A</td>\n",
       "      <td>UNK</td>\n",
       "      <td>PO</td>\n",
       "      <td>MO</td>\n",
       "      <td>TYPHOID LIVE ORAL TY21A (VIVOTIF)</td>\n",
       "      <td>2</td>\n",
       "    </tr>\n",
       "  </tbody>\n",
       "</table>\n",
       "</div>"
      ],
      "text/plain": [
       "   VAERS_ID VAX_TYPE              VAX_MANU  VAX_LOT VAX_DOSE_SERIES VAX_ROUTE  \\\n",
       "0     35842     CHOL  UNKNOWN MANUFACTURER      NaN             UNK       NaN   \n",
       "1     35842      TYP   BERNA BIOTECH, LTD.  115382A             UNK        PO   \n",
       "\n",
       "  VAX_SITE                           VAX_NAME  ORDER  \n",
       "0      NaN            CHOLERA (NO BRAND NAME)      2  \n",
       "1       MO  TYPHOID LIVE ORAL TY21A (VIVOTIF)      2  "
      ]
     },
     "execution_count": 113,
     "metadata": {},
     "output_type": "execute_result"
    }
   ],
   "source": [
    "\n",
    "vaccine_df.head(2)"
   ]
  },
  {
   "cell_type": "code",
   "execution_count": 115,
   "id": "e5cc8cfa-34e6-4521-bf3e-a13eb47a013d",
   "metadata": {},
   "outputs": [
    {
     "name": "stdout",
     "output_type": "stream",
     "text": [
      "<class 'pandas.core.frame.DataFrame'>\n",
      "RangeIndex: 1712288 entries, 0 to 1712287\n",
      "Data columns (total 9 columns):\n",
      " #   Column           Dtype \n",
      "---  ------           ----- \n",
      " 0   VAERS_ID         int64 \n",
      " 1   VAX_TYPE         object\n",
      " 2   VAX_MANU         object\n",
      " 3   VAX_LOT          object\n",
      " 4   VAX_DOSE_SERIES  object\n",
      " 5   VAX_ROUTE        object\n",
      " 6   VAX_SITE         object\n",
      " 7   VAX_NAME         object\n",
      " 8   ORDER            int64 \n",
      "dtypes: int64(2), object(7)\n",
      "memory usage: 117.6+ MB\n"
     ]
    }
   ],
   "source": [
    "vaccine_df.info()"
   ]
  },
  {
   "cell_type": "code",
   "execution_count": 117,
   "id": "44c5e316-b95c-4a92-a629-1401c813ecd9",
   "metadata": {},
   "outputs": [
    {
     "data": {
      "text/plain": [
       "(1712288, 9)"
      ]
     },
     "execution_count": 117,
     "metadata": {},
     "output_type": "execute_result"
    }
   ],
   "source": [
    "\n",
    "vaccine_df.shape"
   ]
  },
  {
   "cell_type": "markdown",
   "id": "799de8c7-bbf2-4e91-8e99-6d4f9829034a",
   "metadata": {},
   "source": [
    "## As we are predicting seriousness of the vaccine to the individuals, we want to know which are the top 4 vaccines which effected."
   ]
  },
  {
   "cell_type": "code",
   "execution_count": 121,
   "id": "c987e6c5-40dd-4c04-afea-e48ff87a57f3",
   "metadata": {},
   "outputs": [
    {
     "data": {
      "image/png": "[encoded data removed]",
      "text/plain": [
       "<Figure size 1200x600 with 1 Axes>"
      ]
     },
     "metadata": {},
     "output_type": "display_data"
    }
   ],
   "source": [
    "# Top 20 Vaccine Types by Reported Adverse Events\n",
    "vax_type = vaccine_df['VAX_TYPE'].value_counts().nlargest(20)\n",
    "\n",
    "plt.figure(figsize=(12, 6))\n",
    "sns.barplot(x=vax_type.index, y=vax_type.values)\n",
    "\n",
    "plt.title('Reported Adverse Events by Vaccine Type', fontsize=16)\n",
    "plt.ylabel('Number of Events', fontsize=12)\n",
    "plt.xlabel('Vaccine Type', fontsize=12)\n",
    "plt.xticks(rotation=45, ha='right')\n",
    "plt.tight_layout()\n",
    "plt.show()"
   ]
  },
  {
   "cell_type": "code",
   "execution_count": 123,
   "id": "b7a7511a-5a5e-428e-9130-3f39d402212d",
   "metadata": {},
   "outputs": [
    {
     "name": "stdout",
     "output_type": "stream",
     "text": [
      "['CHOL', 'TYP', 'DTAP', 'MMR', 'OPV', 'JEVX', 'TD', 'FLUX', 'HEPA', 'RAB', 'ANTH', 'HEP', 'FLUN3', 'MEN', 'HIBV', 'PPV', 'VARCEL', 'HEPAB', 'YF', 'TDAP', 'VARZOS', 'HPVX', 'SMALL', 'MNQ', 'HPV4', 'IPV', 'FLU3', 'FLU(H1N1)', 'DTP', 'PNC', 'PNC13', 'FLUX(H1N1)', 'DTAPIPVHIB', 'RV5', 'HPV2', 'DTAPIPV', 'RVX', 'DTAPHEPBIP', 'TTOX', 'FLUN4', 'ADEN_4_7', 'HPV9', 'FLUC3', 'FLU4', 'FLUR3', 'RV1', 'JEV1', 'UNK', 'MENB', 'MMRV', 'DT', 'HBHEPB', 'BCG', 'DTPHEP', 'DTAPH', 'RUB', 'DPP', 'DTPIPV', 'DTIPV', 'FLUN(H1N1)', 'DTPIHI', 'PER', '6VAX-F', 'DTOX', 'MUR', 'MEA', 'MM', 'MNQHIB', 'DTPHIB', 'TDAPIPV', 'MENHIB', 'LYME', 'JEV', 'DTPPHIB', 'FLUC4', 'MER', 'HBPV', 'HEPATYP', 'DPIPV', 'MU', 'PNC10', 'SSEV', 'FLUA3', 'PLAGUE', 'FLUR4', 'CEE', 'ADEN', 'TBE', 'RV', 'FLUA4', 'DF', 'COVID19', 'EBZR', 'DTPPVHBHPB', 'H5N1', 'COVID19-2', 'PNC20', 'PNC15', 'SMALLMNK', 'RSV', 'CHIK', 'MNP', 'PNC21']\n"
     ]
    }
   ],
   "source": [
    "# Get unique vaccine types from the 'VAX_TYPE' column\n",
    "unique_vaccine_types = vaccine_df['VAX_TYPE'].unique()\n",
    "\n",
    "# Convert the result to a list for better readability (optional)\n",
    "unique_vaccine_types_list = unique_vaccine_types.tolist()\n",
    "\n",
    "# Print the unique vaccine types\n",
    "print(unique_vaccine_types_list)"
   ]
  },
  {
   "cell_type": "markdown",
   "id": "efe7c657-68fb-4b1b-b664-a710726f48f3",
   "metadata": {},
   "source": [
    "From above we can see that various vaccine types fall under the broader category. So we are merging different Covid, and flu vaccine types into single categories labeled as 'COVID', and 'FLU' respectively."
   ]
  },
  {
   "cell_type": "code",
   "execution_count": 127,
   "id": "61aa1953-a80e-4e6e-88ee-475c327c2f6b",
   "metadata": {},
   "outputs": [
    {
     "name": "stdout",
     "output_type": "stream",
     "text": [
      "VAX_TYPE\n",
      "COVID     1112562\n",
      "VARZOS     106758\n",
      "FLU        105073\n",
      "PPV         30473\n",
      "Name: count, dtype: int64\n"
     ]
    },
    {
     "data": {
      "image/png": "[encoded data removed]",
      "text/plain": [
       "<Figure size 1200x600 with 1 Axes>"
      ]
     },
     "metadata": {},
     "output_type": "display_data"
    }
   ],
   "source": [
    "df_copy = vaccine_df.copy()\n",
    "\n",
    "df_copy['VAX_TYPE'] = df_copy['VAX_TYPE'].astype('category')\n",
    "# Add 'COVID' as a new category to VAX_TYPE \n",
    "df_copy['VAX_TYPE'] = df_copy['VAX_TYPE'].cat.add_categories(['COVID'])\n",
    "\n",
    "# Assign 'COVID' to the appropriate rows\n",
    "df_copy.loc[df_copy['VAX_TYPE'].str.contains('COVID', case=False, na=False), 'VAX_TYPE'] = 'COVID'\n",
    "\n",
    "# Add 'FLU' as a new category \n",
    "df_copy['VAX_TYPE'] = df_copy['VAX_TYPE'].cat.add_categories(['FLU'])\n",
    "\n",
    "# Group flu vaccines\n",
    "flu_types = ['FLU3', 'FLUN3', 'FLUN(H1N1)', 'FLU(H1N1)', 'FLUA3', 'FLU4',\n",
    "             'FLUN4', 'FLUC3', 'FLUR3', 'FLUC4', 'FLUR4', 'FLUA4']\n",
    "df_copy.loc[df_copy['VAX_TYPE'].isin(flu_types), 'VAX_TYPE'] = 'FLU'\n",
    "\n",
    "\n",
    "# Count the occurrences of each vaccine type\n",
    "vaccine_counts = df_copy['VAX_TYPE'].value_counts()\n",
    "\n",
    "# Display the top 4 vaccine types\n",
    "print(vaccine_counts.head(4))\n",
    "\n",
    "# Plotting\n",
    "plt.figure(figsize=(12, 6))\n",
    "vaccine_counts.head(4).plot(kind='bar')\n",
    "plt.title('Top 4 vaccines which caused Adverse Events')\n",
    "plt.xlabel('Vaccine Type')\n",
    "plt.ylabel('Number of events')\n",
    "plt.xticks(rotation=45)\n",
    "plt.tight_layout()\n",
    "plt.show()\n",
    "\n",
    "vaccine_df = df_copy"
   ]
  },
  {
   "cell_type": "markdown",
   "id": "20813b4a-8215-425e-8aa6-62aa728bad47",
   "metadata": {},
   "source": [
    "## Define common functions"
   ]
  },
  {
   "cell_type": "code",
   "execution_count": 131,
   "id": "7b754305-bc73-46a7-92fd-40a803133082",
   "metadata": {},
   "outputs": [],
   "source": [
    "# Sanity check\n",
    "def sanity_check(df):\n",
    "    \"\"\"\n",
    "    Performs basic checks for a DataFrame, including unique counts, null counts, and null percentages.\n",
    "    \n",
    "    Parameters:\n",
    "    - df: pandas DataFrame.\n",
    "\n",
    "    Returns:\n",
    "    - sanity_report: DataFrame with unique counts, null counts, and null percentages.\n",
    "    \"\"\"\n",
    "    \n",
    "    return pd.DataFrame({\n",
    "        'Unique Count': df.nunique(),\n",
    "        'Null Count': df.isnull().sum(),\n",
    "        'Null Percentage': (df.isnull().sum() / df.shape[0]) * 100\n",
    "    })"
   ]
  },
  {
   "cell_type": "code",
   "execution_count": 133,
   "id": "a09c173b-93fb-4d36-aa3e-e60f0851a6b8",
   "metadata": {},
   "outputs": [],
   "source": [
    "import numpy as np\n",
    "\n",
    "def binaryconvert(df, cols):\n",
    "    \"\"\"\n",
    "    Converts categorical values 'Y' and 'N' in specified columns to binary 0's and 1's.\n",
    "    \n",
    "    Parameters:\n",
    "    - df: pandas DataFrame.\n",
    "    - cols: List of column names to be converted.\n",
    "    \n",
    "    Returns:\n",
    "    - df: pandas DataFrame with specified columns converted to binary.\n",
    "    \"\"\"\n",
    "    for col in cols:\n",
    "        # Convert 'Y' to 1 and 'N' to 0\n",
    "        df[col] = np.where(df[col] == \"Y\", 1, 0)\n",
    "\n",
    "    return df"
   ]
  },
  {
   "cell_type": "code",
   "execution_count": 135,
   "id": "8ecc5dc8-9453-4ca6-aacc-ccf96bbf21ff",
   "metadata": {},
   "outputs": [],
   "source": [
    "import re\n",
    "import pandas as pd\n",
    "\n",
    "def regex_clean(text):\n",
    "    \"\"\"Cleans the input text using regular expressions.\"\"\"\n",
    "    # Remove special terms, digits, and non-English symbols\n",
    "    text = re.sub(pattern='#x200B;|&lt;|&gt;|&amp;|_', repl=' ', string=str(text))\n",
    "    text = re.sub(pattern=r'\\d+', repl=' ', string=text)\n",
    "    text = re.sub(pattern=r'[^a-zA-Z1-9]+', repl=' ', string=text)\n",
    "    \n",
    "    return text"
   ]
  },
  {
   "cell_type": "markdown",
   "id": "2f589bb8-10a1-4283-b3d3-e63ec7a67a13",
   "metadata": {},
   "source": [
    "## Merging all dateframes"
   ]
  },
  {
   "cell_type": "code",
   "execution_count": 138,
   "id": "06e7376f-a209-46d4-b126-73e389536e7a",
   "metadata": {},
   "outputs": [
    {
     "name": "stdout",
     "output_type": "stream",
     "text": [
      "1459610\n"
     ]
    }
   ],
   "source": [
    "vaers = data_df.merge(vaccine_df, on='VAERS_ID',how='right').merge(symptom_df, on='VAERS_ID',how='inner')\n",
    "print(vaers[\"VAERS_ID\"].nunique())"
   ]
  },
  {
   "cell_type": "code",
   "execution_count": 139,
   "id": "a5f0eae7-262c-4d44-b196-0cea9f331b73",
   "metadata": {},
   "outputs": [
    {
     "name": "stdout",
     "output_type": "stream",
     "text": [
      "<class 'pandas.core.frame.DataFrame'>\n",
      "RangeIndex: 2763537 entries, 0 to 2763536\n",
      "Data columns (total 55 columns):\n",
      " #   Column           Dtype   \n",
      "---  ------           -----   \n",
      " 0   VAERS_ID         int64   \n",
      " 1   RECVDATE         object  \n",
      " 2   STATE            object  \n",
      " 3   AGE_YRS          float64 \n",
      " 4   CAGE_YR          float64 \n",
      " 5   CAGE_MO          float64 \n",
      " 6   SEX              object  \n",
      " 7   RPT_DATE         object  \n",
      " 8   SYMPTOM_TEXT     object  \n",
      " 9   DIED             object  \n",
      " 10  DATEDIED         object  \n",
      " 11  L_THREAT         object  \n",
      " 12  ER_VISIT         object  \n",
      " 13  HOSPITAL         object  \n",
      " 14  HOSPDAYS         float64 \n",
      " 15  X_STAY           object  \n",
      " 16  DISABLE          object  \n",
      " 17  RECOVD           object  \n",
      " 18  VAX_DATE         object  \n",
      " 19  ONSET_DATE       object  \n",
      " 20  NUMDAYS          float64 \n",
      " 21  LAB_DATA         object  \n",
      " 22  V_ADMINBY        object  \n",
      " 23  V_FUNDBY         object  \n",
      " 24  OTHER_MEDS       object  \n",
      " 25  CUR_ILL          object  \n",
      " 26  HISTORY          object  \n",
      " 27  PRIOR_VAX        object  \n",
      " 28  SPLTTYPE         object  \n",
      " 29  FORM_VERS        int64   \n",
      " 30  TODAYS_DATE      object  \n",
      " 31  BIRTH_DEFECT     object  \n",
      " 32  OFC_VISIT        object  \n",
      " 33  ER_ED_VISIT      object  \n",
      " 34  ALLERGIES        object  \n",
      " 35  ORDER_x          int64   \n",
      " 36  VAX_TYPE         category\n",
      " 37  VAX_MANU         object  \n",
      " 38  VAX_LOT          object  \n",
      " 39  VAX_DOSE_SERIES  object  \n",
      " 40  VAX_ROUTE        object  \n",
      " 41  VAX_SITE         object  \n",
      " 42  VAX_NAME         object  \n",
      " 43  ORDER_y          int64   \n",
      " 44  SYMPTOM1         object  \n",
      " 45  SYMPTOMVERSION1  float64 \n",
      " 46  SYMPTOM2         object  \n",
      " 47  SYMPTOMVERSION2  float64 \n",
      " 48  SYMPTOM3         object  \n",
      " 49  SYMPTOMVERSION3  float64 \n",
      " 50  SYMPTOM4         object  \n",
      " 51  SYMPTOMVERSION4  float64 \n",
      " 52  SYMPTOM5         object  \n",
      " 53  SYMPTOMVERSION5  float64 \n",
      " 54  ORDER            int64   \n",
      "dtypes: category(1), float64(10), int64(5), object(39)\n",
      "memory usage: 1.1+ GB\n"
     ]
    }
   ],
   "source": [
    "vaers.info()"
   ]
  },
  {
   "cell_type": "code",
   "execution_count": 140,
   "id": "05c50e33-82db-4ce7-bffd-24bf57212660",
   "metadata": {},
   "outputs": [
    {
     "data": {
      "text/html": [
       "<div>\n",
       "<style scoped>\n",
       "    .dataframe tbody tr th:only-of-type {\n",
       "        vertical-align: middle;\n",
       "    }\n",
       "\n",
       "    .dataframe tbody tr th {\n",
       "        vertical-align: top;\n",
       "    }\n",
       "\n",
       "    .dataframe thead th {\n",
       "        text-align: right;\n",
       "    }\n",
       "</style>\n",
       "<table border=\"1\" class=\"dataframe\">\n",
       "  <thead>\n",
       "    <tr style=\"text-align: right;\">\n",
       "      <th></th>\n",
       "      <th>VAERS_ID</th>\n",
       "      <th>RECVDATE</th>\n",
       "      <th>STATE</th>\n",
       "      <th>AGE_YRS</th>\n",
       "      <th>CAGE_YR</th>\n",
       "      <th>CAGE_MO</th>\n",
       "      <th>SEX</th>\n",
       "      <th>RPT_DATE</th>\n",
       "      <th>SYMPTOM_TEXT</th>\n",
       "      <th>DIED</th>\n",
       "      <th>...</th>\n",
       "      <th>SYMPTOMVERSION1</th>\n",
       "      <th>SYMPTOM2</th>\n",
       "      <th>SYMPTOMVERSION2</th>\n",
       "      <th>SYMPTOM3</th>\n",
       "      <th>SYMPTOMVERSION3</th>\n",
       "      <th>SYMPTOM4</th>\n",
       "      <th>SYMPTOMVERSION4</th>\n",
       "      <th>SYMPTOM5</th>\n",
       "      <th>SYMPTOMVERSION5</th>\n",
       "      <th>ORDER</th>\n",
       "    </tr>\n",
       "  </thead>\n",
       "  <tbody>\n",
       "    <tr>\n",
       "      <th>0</th>\n",
       "      <td>35842</td>\n",
       "      <td>05/15/2015</td>\n",
       "      <td>NaN</td>\n",
       "      <td>NaN</td>\n",
       "      <td>NaN</td>\n",
       "      <td>NaN</td>\n",
       "      <td>M</td>\n",
       "      <td>05/15/2015</td>\n",
       "      <td>This case was found during archiving activitie...</td>\n",
       "      <td>NaN</td>\n",
       "      <td>...</td>\n",
       "      <td>18.0</td>\n",
       "      <td>Culture negative</td>\n",
       "      <td>18.0</td>\n",
       "      <td>Ocular hyperaemia</td>\n",
       "      <td>18.0</td>\n",
       "      <td>Pyrexia</td>\n",
       "      <td>18.0</td>\n",
       "      <td>NaN</td>\n",
       "      <td>NaN</td>\n",
       "      <td>2</td>\n",
       "    </tr>\n",
       "    <tr>\n",
       "      <th>1</th>\n",
       "      <td>35842</td>\n",
       "      <td>05/15/2015</td>\n",
       "      <td>NaN</td>\n",
       "      <td>NaN</td>\n",
       "      <td>NaN</td>\n",
       "      <td>NaN</td>\n",
       "      <td>M</td>\n",
       "      <td>05/15/2015</td>\n",
       "      <td>This case was found during archiving activitie...</td>\n",
       "      <td>NaN</td>\n",
       "      <td>...</td>\n",
       "      <td>18.0</td>\n",
       "      <td>Culture negative</td>\n",
       "      <td>18.0</td>\n",
       "      <td>Ocular hyperaemia</td>\n",
       "      <td>18.0</td>\n",
       "      <td>Pyrexia</td>\n",
       "      <td>18.0</td>\n",
       "      <td>NaN</td>\n",
       "      <td>NaN</td>\n",
       "      <td>2</td>\n",
       "    </tr>\n",
       "  </tbody>\n",
       "</table>\n",
       "<p>2 rows × 55 columns</p>\n",
       "</div>"
      ],
      "text/plain": [
       "   VAERS_ID    RECVDATE STATE  AGE_YRS  CAGE_YR  CAGE_MO SEX    RPT_DATE  \\\n",
       "0     35842  05/15/2015   NaN      NaN      NaN      NaN   M  05/15/2015   \n",
       "1     35842  05/15/2015   NaN      NaN      NaN      NaN   M  05/15/2015   \n",
       "\n",
       "                                        SYMPTOM_TEXT DIED  ...  \\\n",
       "0  This case was found during archiving activitie...  NaN  ...   \n",
       "1  This case was found during archiving activitie...  NaN  ...   \n",
       "\n",
       "  SYMPTOMVERSION1          SYMPTOM2 SYMPTOMVERSION2           SYMPTOM3  \\\n",
       "0            18.0  Culture negative            18.0  Ocular hyperaemia   \n",
       "1            18.0  Culture negative            18.0  Ocular hyperaemia   \n",
       "\n",
       "   SYMPTOMVERSION3 SYMPTOM4 SYMPTOMVERSION4 SYMPTOM5 SYMPTOMVERSION5 ORDER  \n",
       "0             18.0  Pyrexia            18.0      NaN             NaN     2  \n",
       "1             18.0  Pyrexia            18.0      NaN             NaN     2  \n",
       "\n",
       "[2 rows x 55 columns]"
      ]
     },
     "execution_count": 140,
     "metadata": {},
     "output_type": "execute_result"
    }
   ],
   "source": [
    "\n",
    "vaers.head(2)"
   ]
  },
  {
   "cell_type": "code",
   "execution_count": 141,
   "id": "292b8733-36d7-4436-84da-5d40f361ea0b",
   "metadata": {},
   "outputs": [
    {
     "data": {
      "text/plain": [
       "(2763537, 55)"
      ]
     },
     "execution_count": 141,
     "metadata": {},
     "output_type": "execute_result"
    }
   ],
   "source": [
    "\n",
    "vaers.shape"
   ]
  },
  {
   "cell_type": "code",
   "execution_count": 142,
   "id": "2392b9d8-d0e1-4ef4-82db-5c002ff31558",
   "metadata": {},
   "outputs": [
    {
     "data": {
      "text/html": [
       "<div>\n",
       "<style scoped>\n",
       "    .dataframe tbody tr th:only-of-type {\n",
       "        vertical-align: middle;\n",
       "    }\n",
       "\n",
       "    .dataframe tbody tr th {\n",
       "        vertical-align: top;\n",
       "    }\n",
       "\n",
       "    .dataframe thead th {\n",
       "        text-align: right;\n",
       "    }\n",
       "</style>\n",
       "<table border=\"1\" class=\"dataframe\">\n",
       "  <thead>\n",
       "    <tr style=\"text-align: right;\">\n",
       "      <th></th>\n",
       "      <th>Unique Count</th>\n",
       "      <th>Null Count</th>\n",
       "      <th>Null Percentage</th>\n",
       "    </tr>\n",
       "  </thead>\n",
       "  <tbody>\n",
       "    <tr>\n",
       "      <th>VAERS_ID</th>\n",
       "      <td>1459610</td>\n",
       "      <td>0</td>\n",
       "      <td>0.000000</td>\n",
       "    </tr>\n",
       "    <tr>\n",
       "      <th>RECVDATE</th>\n",
       "      <td>3894</td>\n",
       "      <td>0</td>\n",
       "      <td>0.000000</td>\n",
       "    </tr>\n",
       "    <tr>\n",
       "      <th>STATE</th>\n",
       "      <td>116</td>\n",
       "      <td>403945</td>\n",
       "      <td>14.616956</td>\n",
       "    </tr>\n",
       "    <tr>\n",
       "      <th>AGE_YRS</th>\n",
       "      <td>359</td>\n",
       "      <td>342457</td>\n",
       "      <td>12.391982</td>\n",
       "    </tr>\n",
       "    <tr>\n",
       "      <th>CAGE_YR</th>\n",
       "      <td>120</td>\n",
       "      <td>656708</td>\n",
       "      <td>23.763315</td>\n",
       "    </tr>\n",
       "    <tr>\n",
       "      <th>CAGE_MO</th>\n",
       "      <td>11</td>\n",
       "      <td>2645963</td>\n",
       "      <td>95.745525</td>\n",
       "    </tr>\n",
       "    <tr>\n",
       "      <th>SEX</th>\n",
       "      <td>3</td>\n",
       "      <td>3265</td>\n",
       "      <td>0.118146</td>\n",
       "    </tr>\n",
       "    <tr>\n",
       "      <th>RPT_DATE</th>\n",
       "      <td>3081</td>\n",
       "      <td>2419777</td>\n",
       "      <td>87.560869</td>\n",
       "    </tr>\n",
       "    <tr>\n",
       "      <th>SYMPTOM_TEXT</th>\n",
       "      <td>1378242</td>\n",
       "      <td>2767</td>\n",
       "      <td>0.100125</td>\n",
       "    </tr>\n",
       "    <tr>\n",
       "      <th>DIED</th>\n",
       "      <td>1</td>\n",
       "      <td>2691675</td>\n",
       "      <td>97.399637</td>\n",
       "    </tr>\n",
       "    <tr>\n",
       "      <th>DATEDIED</th>\n",
       "      <td>1983</td>\n",
       "      <td>2698302</td>\n",
       "      <td>97.639438</td>\n",
       "    </tr>\n",
       "    <tr>\n",
       "      <th>L_THREAT</th>\n",
       "      <td>1</td>\n",
       "      <td>2674706</td>\n",
       "      <td>96.785605</td>\n",
       "    </tr>\n",
       "    <tr>\n",
       "      <th>ER_VISIT</th>\n",
       "      <td>1</td>\n",
       "      <td>2649310</td>\n",
       "      <td>95.866638</td>\n",
       "    </tr>\n",
       "    <tr>\n",
       "      <th>HOSPITAL</th>\n",
       "      <td>1</td>\n",
       "      <td>2365890</td>\n",
       "      <td>85.610940</td>\n",
       "    </tr>\n",
       "    <tr>\n",
       "      <th>HOSPDAYS</th>\n",
       "      <td>170</td>\n",
       "      <td>2492554</td>\n",
       "      <td>90.194342</td>\n",
       "    </tr>\n",
       "    <tr>\n",
       "      <th>X_STAY</th>\n",
       "      <td>1</td>\n",
       "      <td>2759984</td>\n",
       "      <td>99.871433</td>\n",
       "    </tr>\n",
       "    <tr>\n",
       "      <th>DISABLE</th>\n",
       "      <td>1</td>\n",
       "      <td>2656824</td>\n",
       "      <td>96.138536</td>\n",
       "    </tr>\n",
       "    <tr>\n",
       "      <th>RECOVD</th>\n",
       "      <td>3</td>\n",
       "      <td>258727</td>\n",
       "      <td>9.362169</td>\n",
       "    </tr>\n",
       "    <tr>\n",
       "      <th>VAX_DATE</th>\n",
       "      <td>7610</td>\n",
       "      <td>233470</td>\n",
       "      <td>8.448231</td>\n",
       "    </tr>\n",
       "    <tr>\n",
       "      <th>ONSET_DATE</th>\n",
       "      <td>6585</td>\n",
       "      <td>306662</td>\n",
       "      <td>11.096721</td>\n",
       "    </tr>\n",
       "    <tr>\n",
       "      <th>NUMDAYS</th>\n",
       "      <td>2774</td>\n",
       "      <td>412896</td>\n",
       "      <td>14.940853</td>\n",
       "    </tr>\n",
       "    <tr>\n",
       "      <th>LAB_DATA</th>\n",
       "      <td>293713</td>\n",
       "      <td>1692825</td>\n",
       "      <td>61.255739</td>\n",
       "    </tr>\n",
       "    <tr>\n",
       "      <th>V_ADMINBY</th>\n",
       "      <td>9</td>\n",
       "      <td>0</td>\n",
       "      <td>0.000000</td>\n",
       "    </tr>\n",
       "    <tr>\n",
       "      <th>V_FUNDBY</th>\n",
       "      <td>5</td>\n",
       "      <td>2414205</td>\n",
       "      <td>87.359243</td>\n",
       "    </tr>\n",
       "    <tr>\n",
       "      <th>OTHER_MEDS</th>\n",
       "      <td>430318</td>\n",
       "      <td>1340943</td>\n",
       "      <td>48.522708</td>\n",
       "    </tr>\n",
       "    <tr>\n",
       "      <th>CUR_ILL</th>\n",
       "      <td>114656</td>\n",
       "      <td>1792718</td>\n",
       "      <td>64.870418</td>\n",
       "    </tr>\n",
       "    <tr>\n",
       "      <th>HISTORY</th>\n",
       "      <td>315949</td>\n",
       "      <td>1375428</td>\n",
       "      <td>49.770566</td>\n",
       "    </tr>\n",
       "    <tr>\n",
       "      <th>PRIOR_VAX</th>\n",
       "      <td>57912</td>\n",
       "      <td>2628940</td>\n",
       "      <td>95.129539</td>\n",
       "    </tr>\n",
       "    <tr>\n",
       "      <th>SPLTTYPE</th>\n",
       "      <td>326859</td>\n",
       "      <td>1826442</td>\n",
       "      <td>66.090738</td>\n",
       "    </tr>\n",
       "    <tr>\n",
       "      <th>FORM_VERS</th>\n",
       "      <td>2</td>\n",
       "      <td>0</td>\n",
       "      <td>0.000000</td>\n",
       "    </tr>\n",
       "    <tr>\n",
       "      <th>TODAYS_DATE</th>\n",
       "      <td>3059</td>\n",
       "      <td>376977</td>\n",
       "      <td>13.641106</td>\n",
       "    </tr>\n",
       "    <tr>\n",
       "      <th>BIRTH_DEFECT</th>\n",
       "      <td>1</td>\n",
       "      <td>2761396</td>\n",
       "      <td>99.922527</td>\n",
       "    </tr>\n",
       "    <tr>\n",
       "      <th>OFC_VISIT</th>\n",
       "      <td>1</td>\n",
       "      <td>2139992</td>\n",
       "      <td>77.436705</td>\n",
       "    </tr>\n",
       "    <tr>\n",
       "      <th>ER_ED_VISIT</th>\n",
       "      <td>1</td>\n",
       "      <td>2313884</td>\n",
       "      <td>83.729076</td>\n",
       "    </tr>\n",
       "    <tr>\n",
       "      <th>ALLERGIES</th>\n",
       "      <td>184054</td>\n",
       "      <td>1753954</td>\n",
       "      <td>63.467723</td>\n",
       "    </tr>\n",
       "    <tr>\n",
       "      <th>ORDER_x</th>\n",
       "      <td>10</td>\n",
       "      <td>0</td>\n",
       "      <td>0.000000</td>\n",
       "    </tr>\n",
       "    <tr>\n",
       "      <th>VAX_TYPE</th>\n",
       "      <td>91</td>\n",
       "      <td>0</td>\n",
       "      <td>0.000000</td>\n",
       "    </tr>\n",
       "    <tr>\n",
       "      <th>VAX_MANU</th>\n",
       "      <td>38</td>\n",
       "      <td>0</td>\n",
       "      <td>0.000000</td>\n",
       "    </tr>\n",
       "    <tr>\n",
       "      <th>VAX_LOT</th>\n",
       "      <td>104895</td>\n",
       "      <td>807304</td>\n",
       "      <td>29.212708</td>\n",
       "    </tr>\n",
       "    <tr>\n",
       "      <th>VAX_DOSE_SERIES</th>\n",
       "      <td>8</td>\n",
       "      <td>32137</td>\n",
       "      <td>1.162894</td>\n",
       "    </tr>\n",
       "    <tr>\n",
       "      <th>VAX_ROUTE</th>\n",
       "      <td>9</td>\n",
       "      <td>640632</td>\n",
       "      <td>23.181597</td>\n",
       "    </tr>\n",
       "    <tr>\n",
       "      <th>VAX_SITE</th>\n",
       "      <td>11</td>\n",
       "      <td>713671</td>\n",
       "      <td>25.824550</td>\n",
       "    </tr>\n",
       "    <tr>\n",
       "      <th>VAX_NAME</th>\n",
       "      <td>234</td>\n",
       "      <td>0</td>\n",
       "      <td>0.000000</td>\n",
       "    </tr>\n",
       "    <tr>\n",
       "      <th>ORDER_y</th>\n",
       "      <td>10</td>\n",
       "      <td>0</td>\n",
       "      <td>0.000000</td>\n",
       "    </tr>\n",
       "    <tr>\n",
       "      <th>SYMPTOM1</th>\n",
       "      <td>10189</td>\n",
       "      <td>0</td>\n",
       "      <td>0.000000</td>\n",
       "    </tr>\n",
       "    <tr>\n",
       "      <th>SYMPTOMVERSION1</th>\n",
       "      <td>24</td>\n",
       "      <td>0</td>\n",
       "      <td>0.000000</td>\n",
       "    </tr>\n",
       "    <tr>\n",
       "      <th>SYMPTOM2</th>\n",
       "      <td>9861</td>\n",
       "      <td>599049</td>\n",
       "      <td>21.676895</td>\n",
       "    </tr>\n",
       "    <tr>\n",
       "      <th>SYMPTOMVERSION2</th>\n",
       "      <td>24</td>\n",
       "      <td>599049</td>\n",
       "      <td>21.676895</td>\n",
       "    </tr>\n",
       "    <tr>\n",
       "      <th>SYMPTOM3</th>\n",
       "      <td>9315</td>\n",
       "      <td>1166672</td>\n",
       "      <td>42.216623</td>\n",
       "    </tr>\n",
       "    <tr>\n",
       "      <th>SYMPTOMVERSION3</th>\n",
       "      <td>24</td>\n",
       "      <td>1166672</td>\n",
       "      <td>42.216623</td>\n",
       "    </tr>\n",
       "    <tr>\n",
       "      <th>SYMPTOM4</th>\n",
       "      <td>8571</td>\n",
       "      <td>1555861</td>\n",
       "      <td>56.299626</td>\n",
       "    </tr>\n",
       "    <tr>\n",
       "      <th>SYMPTOMVERSION4</th>\n",
       "      <td>24</td>\n",
       "      <td>1555861</td>\n",
       "      <td>56.299626</td>\n",
       "    </tr>\n",
       "    <tr>\n",
       "      <th>SYMPTOM5</th>\n",
       "      <td>8084</td>\n",
       "      <td>1841599</td>\n",
       "      <td>66.639202</td>\n",
       "    </tr>\n",
       "    <tr>\n",
       "      <th>SYMPTOMVERSION5</th>\n",
       "      <td>23</td>\n",
       "      <td>1841599</td>\n",
       "      <td>66.639202</td>\n",
       "    </tr>\n",
       "    <tr>\n",
       "      <th>ORDER</th>\n",
       "      <td>10</td>\n",
       "      <td>0</td>\n",
       "      <td>0.000000</td>\n",
       "    </tr>\n",
       "  </tbody>\n",
       "</table>\n",
       "</div>"
      ],
      "text/plain": [
       "                 Unique Count  Null Count  Null Percentage\n",
       "VAERS_ID              1459610           0         0.000000\n",
       "RECVDATE                 3894           0         0.000000\n",
       "STATE                     116      403945        14.616956\n",
       "AGE_YRS                   359      342457        12.391982\n",
       "CAGE_YR                   120      656708        23.763315\n",
       "CAGE_MO                    11     2645963        95.745525\n",
       "SEX                         3        3265         0.118146\n",
       "RPT_DATE                 3081     2419777        87.560869\n",
       "SYMPTOM_TEXT          1378242        2767         0.100125\n",
       "DIED                        1     2691675        97.399637\n",
       "DATEDIED                 1983     2698302        97.639438\n",
       "L_THREAT                    1     2674706        96.785605\n",
       "ER_VISIT                    1     2649310        95.866638\n",
       "HOSPITAL                    1     2365890        85.610940\n",
       "HOSPDAYS                  170     2492554        90.194342\n",
       "X_STAY                      1     2759984        99.871433\n",
       "DISABLE                     1     2656824        96.138536\n",
       "RECOVD                      3      258727         9.362169\n",
       "VAX_DATE                 7610      233470         8.448231\n",
       "ONSET_DATE               6585      306662        11.096721\n",
       "NUMDAYS                  2774      412896        14.940853\n",
       "LAB_DATA               293713     1692825        61.255739\n",
       "V_ADMINBY                   9           0         0.000000\n",
       "V_FUNDBY                    5     2414205        87.359243\n",
       "OTHER_MEDS             430318     1340943        48.522708\n",
       "CUR_ILL                114656     1792718        64.870418\n",
       "HISTORY                315949     1375428        49.770566\n",
       "PRIOR_VAX               57912     2628940        95.129539\n",
       "SPLTTYPE               326859     1826442        66.090738\n",
       "FORM_VERS                   2           0         0.000000\n",
       "TODAYS_DATE              3059      376977        13.641106\n",
       "BIRTH_DEFECT                1     2761396        99.922527\n",
       "OFC_VISIT                   1     2139992        77.436705\n",
       "ER_ED_VISIT                 1     2313884        83.729076\n",
       "ALLERGIES              184054     1753954        63.467723\n",
       "ORDER_x                    10           0         0.000000\n",
       "VAX_TYPE                   91           0         0.000000\n",
       "VAX_MANU                   38           0         0.000000\n",
       "VAX_LOT                104895      807304        29.212708\n",
       "VAX_DOSE_SERIES             8       32137         1.162894\n",
       "VAX_ROUTE                   9      640632        23.181597\n",
       "VAX_SITE                   11      713671        25.824550\n",
       "VAX_NAME                  234           0         0.000000\n",
       "ORDER_y                    10           0         0.000000\n",
       "SYMPTOM1                10189           0         0.000000\n",
       "SYMPTOMVERSION1            24           0         0.000000\n",
       "SYMPTOM2                 9861      599049        21.676895\n",
       "SYMPTOMVERSION2            24      599049        21.676895\n",
       "SYMPTOM3                 9315     1166672        42.216623\n",
       "SYMPTOMVERSION3            24     1166672        42.216623\n",
       "SYMPTOM4                 8571     1555861        56.299626\n",
       "SYMPTOMVERSION4            24     1555861        56.299626\n",
       "SYMPTOM5                 8084     1841599        66.639202\n",
       "SYMPTOMVERSION5            23     1841599        66.639202\n",
       "ORDER                      10           0         0.000000"
      ]
     },
     "execution_count": 142,
     "metadata": {},
     "output_type": "execute_result"
    }
   ],
   "source": [
    "sanity_check(vaers)"
   ]
  },
  {
   "cell_type": "markdown",
   "id": "a66a8c9a-2449-4e70-94c0-d83c3ed40937",
   "metadata": {},
   "source": [
    "## Data Cleaning"
   ]
  },
  {
   "cell_type": "code",
   "execution_count": 144,
   "id": "b50551af-5c76-4cc4-a7f3-844a7f462eb8",
   "metadata": {},
   "outputs": [
    {
     "data": {
      "text/plain": [
       "False    2757626\n",
       "True        5911\n",
       "Name: count, dtype: int64"
      ]
     },
     "execution_count": 144,
     "metadata": {},
     "output_type": "execute_result"
    }
   ],
   "source": [
    "vaers.duplicated().value_counts()"
   ]
  },
  {
   "cell_type": "code",
   "execution_count": 145,
   "id": "e3f71302-cd1f-47e1-adb2-d1a18f8864d4",
   "metadata": {},
   "outputs": [
    {
     "data": {
      "text/plain": [
       "False    2757626\n",
       "Name: count, dtype: int64"
      ]
     },
     "execution_count": 145,
     "metadata": {},
     "output_type": "execute_result"
    }
   ],
   "source": [
    "# drop duplicates\n",
    "vaers.drop_duplicates(inplace=True)\n",
    "vaers.duplicated().value_counts()"
   ]
  },
  {
   "cell_type": "markdown",
   "id": "652e65a2-87f7-405e-8c68-b922fb0ec178",
   "metadata": {},
   "source": [
    "A new version of the VAERS form, VAERS 2, was released in July 2017. Some fields in the VAERS 1 form were modified and others discontinued."
   ]
  },
  {
   "cell_type": "code",
   "execution_count": 147,
   "id": "e7eb9c3e-a83e-4848-8178-e244553417ae",
   "metadata": {},
   "outputs": [
    {
     "name": "stdout",
     "output_type": "stream",
     "text": [
      "FORM_VERS\n",
      "2    2408436\n",
      "1     349190\n",
      "Name: count, dtype: int64\n"
     ]
    }
   ],
   "source": [
    "# we are using Vaers version 2\n",
    "# check versions\n",
    "print(vaers['FORM_VERS'].value_counts())\n",
    "\n",
    "# drop version 1\n",
    "vaers.drop(vaers[vaers['FORM_VERS'] != 2].index, inplace=True)"
   ]
  },
  {
   "cell_type": "code",
   "execution_count": 148,
   "id": "8e9e3186-b9d7-4a36-b112-139110dbdd3d",
   "metadata": {},
   "outputs": [
    {
     "data": {
      "text/plain": [
       "VAERS_ID                 0\n",
       "RECVDATE                 0\n",
       "STATE               309091\n",
       "AGE_YRS             273644\n",
       "CAGE_YR             515701\n",
       "CAGE_MO            2327783\n",
       "SEX                   3232\n",
       "RPT_DATE           2408435\n",
       "SYMPTOM_TEXT          2691\n",
       "DIED               2340140\n",
       "DATEDIED           2345827\n",
       "L_THREAT           2327382\n",
       "ER_VISIT           2408436\n",
       "HOSPITAL           2039212\n",
       "HOSPDAYS           2157054\n",
       "X_STAY             2406101\n",
       "DISABLE            2310374\n",
       "RECOVD              240511\n",
       "VAX_DATE            189626\n",
       "ONSET_DATE          235656\n",
       "NUMDAYS             339154\n",
       "LAB_DATA           1427602\n",
       "V_ADMINBY                0\n",
       "V_FUNDBY           2408436\n",
       "OTHER_MEDS         1187371\n",
       "CUR_ILL            1664078\n",
       "HISTORY            1160445\n",
       "PRIOR_VAX          2288727\n",
       "SPLTTYPE           1648647\n",
       "FORM_VERS                0\n",
       "TODAYS_DATE          27040\n",
       "BIRTH_DEFECT       2406316\n",
       "OFC_VISIT          1786526\n",
       "ER_ED_VISIT        1960096\n",
       "ALLERGIES          1400991\n",
       "ORDER_x                  0\n",
       "VAX_TYPE                 0\n",
       "VAX_MANU                 0\n",
       "VAX_LOT             695237\n",
       "VAX_DOSE_SERIES      31492\n",
       "VAX_ROUTE           620451\n",
       "VAX_SITE            694302\n",
       "VAX_NAME                 0\n",
       "ORDER_y                  0\n",
       "SYMPTOM1                 0\n",
       "SYMPTOMVERSION1          0\n",
       "SYMPTOM2            532336\n",
       "SYMPTOMVERSION2     532336\n",
       "SYMPTOM3           1000251\n",
       "SYMPTOMVERSION3    1000251\n",
       "SYMPTOM4           1334481\n",
       "SYMPTOMVERSION4    1334481\n",
       "SYMPTOM5           1580464\n",
       "SYMPTOMVERSION5    1580464\n",
       "ORDER                    0\n",
       "dtype: int64"
      ]
     },
     "execution_count": 148,
     "metadata": {},
     "output_type": "execute_result"
    }
   ],
   "source": [
    "null_counts = vaers.isnull().sum()\n",
    "null_counts"
   ]
  },
  {
   "cell_type": "markdown",
   "id": "11dfceeb-90a2-4d09-8a4e-26f03d4a2592",
   "metadata": {},
   "source": [
    "As we see there are many null values in a few columns, we are dropping them to remove irregularities."
   ]
  },
  {
   "cell_type": "code",
   "execution_count": 150,
   "id": "1e30036e-e0d0-456a-8da0-c6871f980365",
   "metadata": {},
   "outputs": [
    {
     "name": "stdout",
     "output_type": "stream",
     "text": [
      "Remaining columns: ['VAERS_ID', 'STATE', 'AGE_YRS', 'SEX', 'SYMPTOM_TEXT', 'DIED', 'L_THREAT', 'HOSPITAL', 'HOSPDAYS', 'DISABLE', 'RECOVD', 'VAX_DATE', 'ONSET_DATE', 'NUMDAYS', 'V_ADMINBY', 'OTHER_MEDS', 'CUR_ILL', 'HISTORY', 'BIRTH_DEFECT', 'ALLERGIES', 'ORDER_x', 'VAX_TYPE', 'VAX_MANU', 'VAX_LOT', 'VAX_DOSE_SERIES', 'VAX_ROUTE', 'VAX_SITE', 'VAX_NAME', 'ORDER_y', 'SYMPTOM1', 'SYMPTOM2', 'SYMPTOM3', 'SYMPTOM4', 'SYMPTOM5', 'ORDER']\n"
     ]
    }
   ],
   "source": [
    "# Updated list based on your actual columns\n",
    "columns_to_drop = [\n",
    "    'RPT_DATE', 'ER_VISIT', 'V_FUNDBY', 'RECVDATE',\n",
    "    'CAGE_YR', 'CAGE_MO', 'FORM_VERS', 'LAB_DATA',\n",
    "    'TODAYS_DATE', 'DATEDIED', 'SPLTTYPE', 'PRIOR_VAX',\n",
    "    'OFC_VISIT', 'X_STAY', 'ER_ED_VISIT',\n",
    "    'SYMPTOMVERSION1', 'SYMPTOMVERSION2', 'SYMPTOMVERSION3',\n",
    "    'SYMPTOMVERSION4', 'SYMPTOMVERSION5'\n",
    "    \n",
    "]\n",
    "\n",
    "# Drop columns safely (ignores if any are missing)\n",
    "vaers.drop(columns=columns_to_drop, inplace=True, errors='ignore')\n",
    "\n",
    "# Optional: verify\n",
    "print(\"Remaining columns:\", vaers.columns.tolist())\n"
   ]
  },
  {
   "cell_type": "code",
   "execution_count": 151,
   "id": "e1cbe221-a16a-496e-98a3-a5361bd655bb",
   "metadata": {},
   "outputs": [],
   "source": [
    "# drop null in age and symtom text\n",
    "vaers = vaers.dropna(subset = ['AGE_YRS'])\n",
    "vaers = vaers.dropna(subset = ['SYMPTOM_TEXT'])\n",
    "vaers = vaers.dropna(subset = ['STATE'])"
   ]
  },
  {
   "cell_type": "code",
   "execution_count": 152,
   "id": "149aa004-50b2-4e81-97ee-28ad030f708e",
   "metadata": {},
   "outputs": [],
   "source": [
    "# List of date columns to convert\n",
    "date_columns = ['VAX_DATE', 'ONSET_DATE']\n",
    "\n",
    "# Converting the date columns to datetime format\n",
    "vaers[date_columns] = vaers[date_columns].apply(pd.to_datetime)"
   ]
  },
  {
   "cell_type": "code",
   "execution_count": 153,
   "id": "f7030e12-bed5-4589-ab29-333d1eb237ca",
   "metadata": {},
   "outputs": [],
   "source": [
    "# Remove rows with null values in VAX_DATE and ONSET_DATE, and keep relevant data\n",
    "vaers = vaers.dropna(subset=['VAX_DATE', 'ONSET_DATE'])\n",
    "\n",
    "# Calculate 'NUMDAYS' as the difference between ONSET_DATE and VAX_DATE\n",
    "vaers['NUMDAYS'] = (vaers['ONSET_DATE'] - vaers['VAX_DATE']).dt.days\n",
    "\n",
    "# Interval between vaccination date and onset date should be positive, otherwise AE occured prior to vaccination\n",
    "vaers = vaers[vaers['NUMDAYS'] >= 0]\n",
    "\n",
    "# Ensure NUMDAYS is of integer type\n",
    "vaers['NUMDAYS'] = vaers['NUMDAYS'].astype(int)"
   ]
  },
  {
   "cell_type": "code",
   "execution_count": 154,
   "id": "0988cef6-86de-4cf6-abbf-e3ec52cca3d3",
   "metadata": {},
   "outputs": [],
   "source": [
    "# Converting SEX column to binary\n",
    "vaers['SEX'] = vaers['SEX'].replace({'U': '2', 'F': '0', 'M': '1'})\n",
    "\n",
    "# Cleaning RECOVD column\n",
    "vaers['RECOVD'] = vaers['RECOVD'].fillna(2).replace({'U': 2, 'N': 0, 'Y': 1})\n",
    "\n",
    "# Cleaning HOSPDAYS column\n",
    "vaers['HOSPDAYS'] = vaers['HOSPDAYS'].fillna(0)\n",
    "\n",
    "# Converting STATE to uppercase\n",
    "vaers['STATE'] = vaers['STATE'].str.upper()"
   ]
  },
  {
   "cell_type": "code",
   "execution_count": 155,
   "id": "6eded242-4900-46bc-9171-d6bac2da7fd0",
   "metadata": {},
   "outputs": [
    {
     "data": {
      "text/html": [
       "<div>\n",
       "<style scoped>\n",
       "    .dataframe tbody tr th:only-of-type {\n",
       "        vertical-align: middle;\n",
       "    }\n",
       "\n",
       "    .dataframe tbody tr th {\n",
       "        vertical-align: top;\n",
       "    }\n",
       "\n",
       "    .dataframe thead th {\n",
       "        text-align: right;\n",
       "    }\n",
       "</style>\n",
       "<table border=\"1\" class=\"dataframe\">\n",
       "  <thead>\n",
       "    <tr style=\"text-align: right;\">\n",
       "      <th></th>\n",
       "      <th>VAERS_ID</th>\n",
       "      <th>STATE</th>\n",
       "      <th>AGE_YRS</th>\n",
       "      <th>SEX</th>\n",
       "      <th>SYMPTOM_TEXT</th>\n",
       "      <th>DIED</th>\n",
       "      <th>L_THREAT</th>\n",
       "      <th>HOSPITAL</th>\n",
       "      <th>HOSPDAYS</th>\n",
       "      <th>DISABLE</th>\n",
       "      <th>...</th>\n",
       "      <th>VAX_ROUTE</th>\n",
       "      <th>VAX_SITE</th>\n",
       "      <th>VAX_NAME</th>\n",
       "      <th>ORDER_y</th>\n",
       "      <th>SYMPTOM1</th>\n",
       "      <th>SYMPTOM2</th>\n",
       "      <th>SYMPTOM3</th>\n",
       "      <th>SYMPTOM4</th>\n",
       "      <th>SYMPTOM5</th>\n",
       "      <th>ORDER</th>\n",
       "    </tr>\n",
       "  </thead>\n",
       "  <tbody>\n",
       "    <tr>\n",
       "      <th>5199</th>\n",
       "      <td>547879</td>\n",
       "      <td>WI</td>\n",
       "      <td>11.0</td>\n",
       "      <td>0</td>\n",
       "      <td>sensitivy to light; trouble hearing; short ter...</td>\n",
       "      <td>NaN</td>\n",
       "      <td>NaN</td>\n",
       "      <td>NaN</td>\n",
       "      <td>0.0</td>\n",
       "      <td>Y</td>\n",
       "      <td>...</td>\n",
       "      <td>SYR</td>\n",
       "      <td>AR</td>\n",
       "      <td>HPV (GARDASIL)</td>\n",
       "      <td>2</td>\n",
       "      <td>Abdominal pain</td>\n",
       "      <td>Blood pressure decreased</td>\n",
       "      <td>Chronic fatigue syndrome</td>\n",
       "      <td>Dizziness</td>\n",
       "      <td>Heart rate increased</td>\n",
       "      <td>2</td>\n",
       "    </tr>\n",
       "    <tr>\n",
       "      <th>5200</th>\n",
       "      <td>547879</td>\n",
       "      <td>WI</td>\n",
       "      <td>11.0</td>\n",
       "      <td>0</td>\n",
       "      <td>sensitivy to light; trouble hearing; short ter...</td>\n",
       "      <td>NaN</td>\n",
       "      <td>NaN</td>\n",
       "      <td>NaN</td>\n",
       "      <td>0.0</td>\n",
       "      <td>Y</td>\n",
       "      <td>...</td>\n",
       "      <td>SYR</td>\n",
       "      <td>AR</td>\n",
       "      <td>HPV (GARDASIL)</td>\n",
       "      <td>2</td>\n",
       "      <td>Insomnia</td>\n",
       "      <td>Migraine</td>\n",
       "      <td>Nausea</td>\n",
       "      <td>Postural orthostatic tachycardia syndrome</td>\n",
       "      <td>Serum ferritin decreased</td>\n",
       "      <td>2</td>\n",
       "    </tr>\n",
       "    <tr>\n",
       "      <th>5201</th>\n",
       "      <td>547879</td>\n",
       "      <td>WI</td>\n",
       "      <td>11.0</td>\n",
       "      <td>0</td>\n",
       "      <td>sensitivy to light; trouble hearing; short ter...</td>\n",
       "      <td>NaN</td>\n",
       "      <td>NaN</td>\n",
       "      <td>NaN</td>\n",
       "      <td>0.0</td>\n",
       "      <td>Y</td>\n",
       "      <td>...</td>\n",
       "      <td>SYR</td>\n",
       "      <td>AR</td>\n",
       "      <td>HPV (GARDASIL)</td>\n",
       "      <td>2</td>\n",
       "      <td>Syncope</td>\n",
       "      <td>Tilt table test positive</td>\n",
       "      <td>Vitamin D decreased</td>\n",
       "      <td>Vitamin D deficiency</td>\n",
       "      <td>NaN</td>\n",
       "      <td>2</td>\n",
       "    </tr>\n",
       "    <tr>\n",
       "      <th>5202</th>\n",
       "      <td>547879</td>\n",
       "      <td>WI</td>\n",
       "      <td>11.0</td>\n",
       "      <td>0</td>\n",
       "      <td>sensitivy to light; trouble hearing; short ter...</td>\n",
       "      <td>NaN</td>\n",
       "      <td>NaN</td>\n",
       "      <td>NaN</td>\n",
       "      <td>0.0</td>\n",
       "      <td>Y</td>\n",
       "      <td>...</td>\n",
       "      <td>SYR</td>\n",
       "      <td>AR</td>\n",
       "      <td>HPV (GARDASIL)</td>\n",
       "      <td>2</td>\n",
       "      <td>Abdominal discomfort</td>\n",
       "      <td>Abdominal pain</td>\n",
       "      <td>Agitation</td>\n",
       "      <td>Amnesia</td>\n",
       "      <td>Antibody test positive</td>\n",
       "      <td>3</td>\n",
       "    </tr>\n",
       "    <tr>\n",
       "      <th>5203</th>\n",
       "      <td>547879</td>\n",
       "      <td>WI</td>\n",
       "      <td>11.0</td>\n",
       "      <td>0</td>\n",
       "      <td>sensitivy to light; trouble hearing; short ter...</td>\n",
       "      <td>NaN</td>\n",
       "      <td>NaN</td>\n",
       "      <td>NaN</td>\n",
       "      <td>0.0</td>\n",
       "      <td>Y</td>\n",
       "      <td>...</td>\n",
       "      <td>SYR</td>\n",
       "      <td>AR</td>\n",
       "      <td>HPV (GARDASIL)</td>\n",
       "      <td>2</td>\n",
       "      <td>Arthralgia</td>\n",
       "      <td>Asthenia</td>\n",
       "      <td>Autoimmune neuropathy</td>\n",
       "      <td>Autonomic neuropathy</td>\n",
       "      <td>Back pain</td>\n",
       "      <td>3</td>\n",
       "    </tr>\n",
       "  </tbody>\n",
       "</table>\n",
       "<p>5 rows × 35 columns</p>\n",
       "</div>"
      ],
      "text/plain": [
       "      VAERS_ID STATE  AGE_YRS SEX  \\\n",
       "5199    547879    WI     11.0   0   \n",
       "5200    547879    WI     11.0   0   \n",
       "5201    547879    WI     11.0   0   \n",
       "5202    547879    WI     11.0   0   \n",
       "5203    547879    WI     11.0   0   \n",
       "\n",
       "                                           SYMPTOM_TEXT DIED L_THREAT  \\\n",
       "5199  sensitivy to light; trouble hearing; short ter...  NaN      NaN   \n",
       "5200  sensitivy to light; trouble hearing; short ter...  NaN      NaN   \n",
       "5201  sensitivy to light; trouble hearing; short ter...  NaN      NaN   \n",
       "5202  sensitivy to light; trouble hearing; short ter...  NaN      NaN   \n",
       "5203  sensitivy to light; trouble hearing; short ter...  NaN      NaN   \n",
       "\n",
       "     HOSPITAL  HOSPDAYS DISABLE  ...  VAX_ROUTE VAX_SITE        VAX_NAME  \\\n",
       "5199      NaN       0.0       Y  ...        SYR       AR  HPV (GARDASIL)   \n",
       "5200      NaN       0.0       Y  ...        SYR       AR  HPV (GARDASIL)   \n",
       "5201      NaN       0.0       Y  ...        SYR       AR  HPV (GARDASIL)   \n",
       "5202      NaN       0.0       Y  ...        SYR       AR  HPV (GARDASIL)   \n",
       "5203      NaN       0.0       Y  ...        SYR       AR  HPV (GARDASIL)   \n",
       "\n",
       "      ORDER_y              SYMPTOM1                  SYMPTOM2  \\\n",
       "5199        2        Abdominal pain  Blood pressure decreased   \n",
       "5200        2              Insomnia                  Migraine   \n",
       "5201        2               Syncope  Tilt table test positive   \n",
       "5202        2  Abdominal discomfort            Abdominal pain   \n",
       "5203        2            Arthralgia                  Asthenia   \n",
       "\n",
       "                      SYMPTOM3                                   SYMPTOM4  \\\n",
       "5199  Chronic fatigue syndrome                                  Dizziness   \n",
       "5200                    Nausea  Postural orthostatic tachycardia syndrome   \n",
       "5201       Vitamin D decreased                       Vitamin D deficiency   \n",
       "5202                 Agitation                                    Amnesia   \n",
       "5203     Autoimmune neuropathy                       Autonomic neuropathy   \n",
       "\n",
       "                      SYMPTOM5 ORDER  \n",
       "5199      Heart rate increased     2  \n",
       "5200  Serum ferritin decreased     2  \n",
       "5201                       NaN     2  \n",
       "5202    Antibody test positive     3  \n",
       "5203                 Back pain     3  \n",
       "\n",
       "[5 rows x 35 columns]"
      ]
     },
     "execution_count": 155,
     "metadata": {},
     "output_type": "execute_result"
    }
   ],
   "source": [
    "# Converting SEX column to binary\n",
    "vaers['SEX'] = vaers['SEX'].replace({'U': 2, 'F': 0, 'M': 1})\n",
    "\n",
    "# Cleaning RECOVD column\n",
    "vaers['RECOVD'] = vaers['RECOVD'].fillna('U').replace({'U': 2, 'N': 0, 'Y': 1})\n",
    "\n",
    "# Cleaning HOSPDAYS column\n",
    "vaers['HOSPDAYS'] = vaers['HOSPDAYS'].fillna(0)\n",
    "\n",
    "# Converting STATE to uppercase\n",
    "vaers['STATE'] = vaers['STATE'].str.upper()\n",
    "\n",
    "# Show table output\n",
    "vaers.head()\n"
   ]
  },
  {
   "cell_type": "code",
   "execution_count": 156,
   "id": "0c1c6989-d359-4eeb-9fde-27656238e6f5",
   "metadata": {},
   "outputs": [
    {
     "data": {
      "text/html": [
       "<div>\n",
       "<style scoped>\n",
       "    .dataframe tbody tr th:only-of-type {\n",
       "        vertical-align: middle;\n",
       "    }\n",
       "\n",
       "    .dataframe tbody tr th {\n",
       "        vertical-align: top;\n",
       "    }\n",
       "\n",
       "    .dataframe thead th {\n",
       "        text-align: right;\n",
       "    }\n",
       "</style>\n",
       "<table border=\"1\" class=\"dataframe\">\n",
       "  <thead>\n",
       "    <tr style=\"text-align: right;\">\n",
       "      <th></th>\n",
       "      <th>VAERS_ID</th>\n",
       "      <th>STATE</th>\n",
       "      <th>AGE_YRS</th>\n",
       "      <th>SEX</th>\n",
       "      <th>SYMPTOM_TEXT</th>\n",
       "      <th>DIED</th>\n",
       "      <th>L_THREAT</th>\n",
       "      <th>HOSPITAL</th>\n",
       "      <th>HOSPDAYS</th>\n",
       "      <th>DISABLE</th>\n",
       "      <th>...</th>\n",
       "      <th>VAX_ROUTE</th>\n",
       "      <th>VAX_SITE</th>\n",
       "      <th>VAX_NAME</th>\n",
       "      <th>ORDER_y</th>\n",
       "      <th>SYMPTOM1</th>\n",
       "      <th>SYMPTOM2</th>\n",
       "      <th>SYMPTOM3</th>\n",
       "      <th>SYMPTOM4</th>\n",
       "      <th>SYMPTOM5</th>\n",
       "      <th>ORDER</th>\n",
       "    </tr>\n",
       "  </thead>\n",
       "  <tbody>\n",
       "    <tr>\n",
       "      <th>5199</th>\n",
       "      <td>547879</td>\n",
       "      <td>WI</td>\n",
       "      <td>11.0</td>\n",
       "      <td>0</td>\n",
       "      <td>SENSITIVY TO LIGHT; TROUBLE HEARING; SHORT TER...</td>\n",
       "      <td>NaN</td>\n",
       "      <td>NaN</td>\n",
       "      <td>NaN</td>\n",
       "      <td>0.0</td>\n",
       "      <td>Y</td>\n",
       "      <td>...</td>\n",
       "      <td>SYR</td>\n",
       "      <td>AR</td>\n",
       "      <td>HPV (GARDASIL)</td>\n",
       "      <td>2</td>\n",
       "      <td>ABDOMINAL PAIN</td>\n",
       "      <td>BLOOD PRESSURE DECREASED</td>\n",
       "      <td>CHRONIC FATIGUE SYNDROME</td>\n",
       "      <td>DIZZINESS</td>\n",
       "      <td>HEART RATE INCREASED</td>\n",
       "      <td>2</td>\n",
       "    </tr>\n",
       "    <tr>\n",
       "      <th>5200</th>\n",
       "      <td>547879</td>\n",
       "      <td>WI</td>\n",
       "      <td>11.0</td>\n",
       "      <td>0</td>\n",
       "      <td>SENSITIVY TO LIGHT; TROUBLE HEARING; SHORT TER...</td>\n",
       "      <td>NaN</td>\n",
       "      <td>NaN</td>\n",
       "      <td>NaN</td>\n",
       "      <td>0.0</td>\n",
       "      <td>Y</td>\n",
       "      <td>...</td>\n",
       "      <td>SYR</td>\n",
       "      <td>AR</td>\n",
       "      <td>HPV (GARDASIL)</td>\n",
       "      <td>2</td>\n",
       "      <td>INSOMNIA</td>\n",
       "      <td>MIGRAINE</td>\n",
       "      <td>NAUSEA</td>\n",
       "      <td>POSTURAL ORTHOSTATIC TACHYCARDIA SYNDROME</td>\n",
       "      <td>SERUM FERRITIN DECREASED</td>\n",
       "      <td>2</td>\n",
       "    </tr>\n",
       "  </tbody>\n",
       "</table>\n",
       "<p>2 rows × 35 columns</p>\n",
       "</div>"
      ],
      "text/plain": [
       "      VAERS_ID STATE  AGE_YRS SEX  \\\n",
       "5199    547879    WI     11.0   0   \n",
       "5200    547879    WI     11.0   0   \n",
       "\n",
       "                                           SYMPTOM_TEXT DIED L_THREAT  \\\n",
       "5199  SENSITIVY TO LIGHT; TROUBLE HEARING; SHORT TER...  NaN      NaN   \n",
       "5200  SENSITIVY TO LIGHT; TROUBLE HEARING; SHORT TER...  NaN      NaN   \n",
       "\n",
       "     HOSPITAL  HOSPDAYS DISABLE  ...  VAX_ROUTE VAX_SITE        VAX_NAME  \\\n",
       "5199      NaN       0.0       Y  ...        SYR       AR  HPV (GARDASIL)   \n",
       "5200      NaN       0.0       Y  ...        SYR       AR  HPV (GARDASIL)   \n",
       "\n",
       "      ORDER_y        SYMPTOM1                  SYMPTOM2  \\\n",
       "5199        2  ABDOMINAL PAIN  BLOOD PRESSURE DECREASED   \n",
       "5200        2        INSOMNIA                  MIGRAINE   \n",
       "\n",
       "                      SYMPTOM3                                   SYMPTOM4  \\\n",
       "5199  CHRONIC FATIGUE SYNDROME                                  DIZZINESS   \n",
       "5200                    NAUSEA  POSTURAL ORTHOSTATIC TACHYCARDIA SYNDROME   \n",
       "\n",
       "                      SYMPTOM5 ORDER  \n",
       "5199      HEART RATE INCREASED     2  \n",
       "5200  SERUM FERRITIN DECREASED     2  \n",
       "\n",
       "[2 rows x 35 columns]"
      ]
     },
     "execution_count": 156,
     "metadata": {},
     "output_type": "execute_result"
    }
   ],
   "source": [
    "# Convert all string values in the DataFrame to uppercase\n",
    "vaers = vaers.applymap(lambda x: x.upper() if isinstance(x, str) else x)\n",
    "vaers.head(2)"
   ]
  },
  {
   "cell_type": "code",
   "execution_count": 157,
   "id": "6862837d-760f-4000-ba49-c719a4847aad",
   "metadata": {},
   "outputs": [],
   "source": [
    "# Columns to clean\n",
    "cols_to_clean = ['SYMPTOM_TEXT', 'OTHER_MEDS', 'HISTORY', 'ALLERGIES', 'CUR_ILL']\n",
    "\n",
    "# Apply the regex_clean function to each specified column\n",
    "for col in cols_to_clean:\n",
    "    vaers[col] = vaers[col].apply(regex_clean)"
   ]
  },
  {
   "cell_type": "code",
   "execution_count": 158,
   "id": "dc2bf7d9-36d0-4b0d-b18e-6bb786ad0572",
   "metadata": {},
   "outputs": [],
   "source": [
    "# Replace in OTHER_MEDS\n",
    "vaers['OTHER_MEDS'] = vaers['OTHER_MEDS'].replace([np.nan, 'NAN', 'NONE', 'UNKNOWN'], ' ', regex=True)\n",
    "\n",
    "# Replace in CUR_ILL\n",
    "vaers['CUR_ILL'] = vaers['CUR_ILL'].replace([np.nan, 'NAN', 'NONE', 'UNKNOWN'], ' ', regex=True)\n",
    "\n",
    "# Replace in HISTORY\n",
    "vaers['HISTORY'] = vaers['HISTORY'].replace([np.nan, 'NAN', 'NONE', 'UNKNOWN'], ' ', regex=True)\n",
    "\n",
    "# Replace in ALLERGIES\n",
    "vaers['ALLERGIES'] = vaers['ALLERGIES'].replace([np.nan, 'NAN', 'NONE', 'UNKNOWN'], ' ', regex=True)"
   ]
  },
  {
   "cell_type": "code",
   "execution_count": 159,
   "id": "1d908f15-379b-4085-bff3-b862d2395649",
   "metadata": {},
   "outputs": [],
   "source": [
    "symptom_columns = ['SYMPTOM1', 'SYMPTOM2', 'SYMPTOM3', 'SYMPTOM4', 'SYMPTOM5']\n",
    "for column in symptom_columns:\n",
    "    vaers[column] = vaers[column].replace([np.nan, 'NAN'], ' ', regex=True)"
   ]
  },
  {
   "cell_type": "code",
   "execution_count": 160,
   "id": "2cab2125-1098-4461-a029-675e038b71f3",
   "metadata": {},
   "outputs": [
    {
     "name": "stdout",
     "output_type": "stream",
     "text": [
      "Irrelevant symptoms found in the DataFrame.\n"
     ]
    }
   ],
   "source": [
    "# Define the irrelevant symptoms to check\n",
    "irrelevant_symptoms = [\n",
    "    'PRODUCT ADMINISTERED TO PATIENT OF INAPPROPRIATE AGE'\n",
    "    'NO ADVERSE EVENT',\n",
    "    'INAPPROPRIATE SCHEDULE OF PRODUCT ADMINISTRATION',\n",
    "    'SARS-COV-2 TEST',\n",
    "    'BACTERIAL TEST NEGATIVE',\n",
    "    'WRONG DRUG ADMINISTERED',\n",
    "    'UNEVALUABLE EVENT',\n",
    "    'PRODUCT STORAGE ERROR',\n",
    "    'SARS-COV-2 TEST POSITIVE',\n",
    "    'EXPIRED PRODUCT ADMINISTERED'\n",
    "]\n",
    "\n",
    "# Check if any of the irrelevant symptoms are present in the specified columns\n",
    "mask = vaers[['SYMPTOM1', 'SYMPTOM2', 'SYMPTOM3', 'SYMPTOM4', 'SYMPTOM5']].isin(irrelevant_symptoms)\n",
    "\n",
    "# Check if there are any irrelevant symptoms in the DataFrame\n",
    "if mask.any().any():\n",
    "    print(\"Irrelevant symptoms found in the DataFrame.\")\n",
    "else:\n",
    "    print(\"No irrelevant symptoms found in the DataFrame.\")"
   ]
  },
  {
   "cell_type": "code",
   "execution_count": 161,
   "id": "f57de1f2-4e85-452c-af2f-23358738283c",
   "metadata": {},
   "outputs": [],
   "source": [
    "# Dropping irrelevant symptoms \n",
    "mask = ~(\n",
    "    (vaers[['SYMPTOM1', 'SYMPTOM2', 'SYMPTOM3', 'SYMPTOM4', 'SYMPTOM5']].isin(irrelevant_symptoms)).any(axis=1)\n",
    ")\n",
    "\n",
    "# Filter the DataFrame\n",
    "vaers = vaers[mask]\n",
    "vaers.reset_index(drop=True, inplace=True)"
   ]
  },
  {
   "cell_type": "code",
   "execution_count": 162,
   "id": "3149f1fd-784e-4d08-86bb-208c54f4e4ff",
   "metadata": {},
   "outputs": [
    {
     "data": {
      "text/html": [
       "<div>\n",
       "<style scoped>\n",
       "    .dataframe tbody tr th:only-of-type {\n",
       "        vertical-align: middle;\n",
       "    }\n",
       "\n",
       "    .dataframe tbody tr th {\n",
       "        vertical-align: top;\n",
       "    }\n",
       "\n",
       "    .dataframe thead th {\n",
       "        text-align: right;\n",
       "    }\n",
       "</style>\n",
       "<table border=\"1\" class=\"dataframe\">\n",
       "  <thead>\n",
       "    <tr style=\"text-align: right;\">\n",
       "      <th></th>\n",
       "      <th>VAERS_ID</th>\n",
       "      <th>STATE</th>\n",
       "      <th>AGE_YRS</th>\n",
       "      <th>SEX</th>\n",
       "      <th>SYMPTOM_TEXT</th>\n",
       "      <th>DIED</th>\n",
       "      <th>L_THREAT</th>\n",
       "      <th>HOSPITAL</th>\n",
       "      <th>HOSPDAYS</th>\n",
       "      <th>DISABLE</th>\n",
       "      <th>...</th>\n",
       "      <th>VAX_ROUTE</th>\n",
       "      <th>VAX_SITE</th>\n",
       "      <th>VAX_NAME</th>\n",
       "      <th>ORDER_y</th>\n",
       "      <th>SYMPTOM1</th>\n",
       "      <th>SYMPTOM2</th>\n",
       "      <th>SYMPTOM3</th>\n",
       "      <th>SYMPTOM4</th>\n",
       "      <th>SYMPTOM5</th>\n",
       "      <th>ORDER</th>\n",
       "    </tr>\n",
       "  </thead>\n",
       "  <tbody>\n",
       "    <tr>\n",
       "      <th>0</th>\n",
       "      <td>547879</td>\n",
       "      <td>WI</td>\n",
       "      <td>11.0</td>\n",
       "      <td>0</td>\n",
       "      <td>SENSITIVY TO LIGHT TROUBLE HEARING SHORT TERM ...</td>\n",
       "      <td>0</td>\n",
       "      <td>0</td>\n",
       "      <td>0</td>\n",
       "      <td>0.0</td>\n",
       "      <td>1</td>\n",
       "      <td>...</td>\n",
       "      <td>SYR</td>\n",
       "      <td>AR</td>\n",
       "      <td>HPV (GARDASIL)</td>\n",
       "      <td>2</td>\n",
       "      <td>ABDOMINAL PAIN</td>\n",
       "      <td>BLOOD PRESSURE DECREASED</td>\n",
       "      <td>CHRONIC FATIGUE SYNDROME</td>\n",
       "      <td>DIZZINESS</td>\n",
       "      <td>HEART RATE INCREASED</td>\n",
       "      <td>2</td>\n",
       "    </tr>\n",
       "    <tr>\n",
       "      <th>1</th>\n",
       "      <td>547879</td>\n",
       "      <td>WI</td>\n",
       "      <td>11.0</td>\n",
       "      <td>0</td>\n",
       "      <td>SENSITIVY TO LIGHT TROUBLE HEARING SHORT TERM ...</td>\n",
       "      <td>0</td>\n",
       "      <td>0</td>\n",
       "      <td>0</td>\n",
       "      <td>0.0</td>\n",
       "      <td>1</td>\n",
       "      <td>...</td>\n",
       "      <td>SYR</td>\n",
       "      <td>AR</td>\n",
       "      <td>HPV (GARDASIL)</td>\n",
       "      <td>2</td>\n",
       "      <td>INSOMNIA</td>\n",
       "      <td>MIGRAINE</td>\n",
       "      <td>NAUSEA</td>\n",
       "      <td>POSTURAL ORTHOSTATIC TACHYCARDIA SYNDROME</td>\n",
       "      <td>SERUM FERRITIN DECREASED</td>\n",
       "      <td>2</td>\n",
       "    </tr>\n",
       "    <tr>\n",
       "      <th>2</th>\n",
       "      <td>547879</td>\n",
       "      <td>WI</td>\n",
       "      <td>11.0</td>\n",
       "      <td>0</td>\n",
       "      <td>SENSITIVY TO LIGHT TROUBLE HEARING SHORT TERM ...</td>\n",
       "      <td>0</td>\n",
       "      <td>0</td>\n",
       "      <td>0</td>\n",
       "      <td>0.0</td>\n",
       "      <td>1</td>\n",
       "      <td>...</td>\n",
       "      <td>SYR</td>\n",
       "      <td>AR</td>\n",
       "      <td>HPV (GARDASIL)</td>\n",
       "      <td>2</td>\n",
       "      <td>SYNCOPE</td>\n",
       "      <td>TILT TABLE TEST POSITIVE</td>\n",
       "      <td>VITAMIN D DECREASED</td>\n",
       "      <td>VITAMIN D DEFICIENCY</td>\n",
       "      <td></td>\n",
       "      <td>2</td>\n",
       "    </tr>\n",
       "    <tr>\n",
       "      <th>3</th>\n",
       "      <td>547879</td>\n",
       "      <td>WI</td>\n",
       "      <td>11.0</td>\n",
       "      <td>0</td>\n",
       "      <td>SENSITIVY TO LIGHT TROUBLE HEARING SHORT TERM ...</td>\n",
       "      <td>0</td>\n",
       "      <td>0</td>\n",
       "      <td>0</td>\n",
       "      <td>0.0</td>\n",
       "      <td>1</td>\n",
       "      <td>...</td>\n",
       "      <td>SYR</td>\n",
       "      <td>AR</td>\n",
       "      <td>HPV (GARDASIL)</td>\n",
       "      <td>2</td>\n",
       "      <td>ABDOMINAL DISCOMFORT</td>\n",
       "      <td>ABDOMINAL PAIN</td>\n",
       "      <td>AGITATION</td>\n",
       "      <td>AMNESIA</td>\n",
       "      <td>ANTIBODY TEST POSITIVE</td>\n",
       "      <td>3</td>\n",
       "    </tr>\n",
       "    <tr>\n",
       "      <th>4</th>\n",
       "      <td>547879</td>\n",
       "      <td>WI</td>\n",
       "      <td>11.0</td>\n",
       "      <td>0</td>\n",
       "      <td>SENSITIVY TO LIGHT TROUBLE HEARING SHORT TERM ...</td>\n",
       "      <td>0</td>\n",
       "      <td>0</td>\n",
       "      <td>0</td>\n",
       "      <td>0.0</td>\n",
       "      <td>1</td>\n",
       "      <td>...</td>\n",
       "      <td>SYR</td>\n",
       "      <td>AR</td>\n",
       "      <td>HPV (GARDASIL)</td>\n",
       "      <td>2</td>\n",
       "      <td>ARTHRALGIA</td>\n",
       "      <td>ASTHENIA</td>\n",
       "      <td>AUTOIMMUNE NEUROPATHY</td>\n",
       "      <td>AUTONOMIC NEUROPATHY</td>\n",
       "      <td>BACK PAIN</td>\n",
       "      <td>3</td>\n",
       "    </tr>\n",
       "    <tr>\n",
       "      <th>...</th>\n",
       "      <td>...</td>\n",
       "      <td>...</td>\n",
       "      <td>...</td>\n",
       "      <td>...</td>\n",
       "      <td>...</td>\n",
       "      <td>...</td>\n",
       "      <td>...</td>\n",
       "      <td>...</td>\n",
       "      <td>...</td>\n",
       "      <td>...</td>\n",
       "      <td>...</td>\n",
       "      <td>...</td>\n",
       "      <td>...</td>\n",
       "      <td>...</td>\n",
       "      <td>...</td>\n",
       "      <td>...</td>\n",
       "      <td>...</td>\n",
       "      <td>...</td>\n",
       "      <td>...</td>\n",
       "      <td>...</td>\n",
       "      <td>...</td>\n",
       "    </tr>\n",
       "    <tr>\n",
       "      <th>1588390</th>\n",
       "      <td>2855970</td>\n",
       "      <td>FL</td>\n",
       "      <td>66.0</td>\n",
       "      <td>0</td>\n",
       "      <td>I GOT THE INJECTION AROUND NOON AND I CAME HOM...</td>\n",
       "      <td>0</td>\n",
       "      <td>0</td>\n",
       "      <td>0</td>\n",
       "      <td>0.0</td>\n",
       "      <td>0</td>\n",
       "      <td>...</td>\n",
       "      <td>SYR</td>\n",
       "      <td>LA</td>\n",
       "      <td>INFLUENZA (SEASONAL) (FLUBLOK)</td>\n",
       "      <td>1</td>\n",
       "      <td>DIZZINESS</td>\n",
       "      <td>FATIGUE</td>\n",
       "      <td>FEELING COLD</td>\n",
       "      <td>MUSCULAR WEAKNESS</td>\n",
       "      <td>PYREXIA</td>\n",
       "      <td>1</td>\n",
       "    </tr>\n",
       "    <tr>\n",
       "      <th>1588391</th>\n",
       "      <td>2855970</td>\n",
       "      <td>FL</td>\n",
       "      <td>66.0</td>\n",
       "      <td>0</td>\n",
       "      <td>I GOT THE INJECTION AROUND NOON AND I CAME HOM...</td>\n",
       "      <td>0</td>\n",
       "      <td>0</td>\n",
       "      <td>0</td>\n",
       "      <td>0.0</td>\n",
       "      <td>0</td>\n",
       "      <td>...</td>\n",
       "      <td>SYR</td>\n",
       "      <td>LA</td>\n",
       "      <td>INFLUENZA (SEASONAL) (FLUBLOK)</td>\n",
       "      <td>1</td>\n",
       "      <td>VOMITING</td>\n",
       "      <td></td>\n",
       "      <td></td>\n",
       "      <td></td>\n",
       "      <td></td>\n",
       "      <td>1</td>\n",
       "    </tr>\n",
       "    <tr>\n",
       "      <th>1588392</th>\n",
       "      <td>2855990</td>\n",
       "      <td>TX</td>\n",
       "      <td>32.0</td>\n",
       "      <td>1</td>\n",
       "      <td>ARM WRIST LEG SWELLING THAT COMES AND GOES AND...</td>\n",
       "      <td>0</td>\n",
       "      <td>0</td>\n",
       "      <td>0</td>\n",
       "      <td>0.0</td>\n",
       "      <td>1</td>\n",
       "      <td>...</td>\n",
       "      <td>IM</td>\n",
       "      <td>UN</td>\n",
       "      <td>COVID19 (COVID19 (PFIZER-BIONTECH))</td>\n",
       "      <td>1</td>\n",
       "      <td>ANTINUCLEAR ANTIBODY NEGATIVE</td>\n",
       "      <td>BIOPSY PERIPHERAL NERVE</td>\n",
       "      <td>BLOOD PRESSURE FLUCTUATION</td>\n",
       "      <td>BORRELIA TEST NEGATIVE</td>\n",
       "      <td>BRAIN FOG</td>\n",
       "      <td>1</td>\n",
       "    </tr>\n",
       "    <tr>\n",
       "      <th>1588393</th>\n",
       "      <td>2855990</td>\n",
       "      <td>TX</td>\n",
       "      <td>32.0</td>\n",
       "      <td>1</td>\n",
       "      <td>ARM WRIST LEG SWELLING THAT COMES AND GOES AND...</td>\n",
       "      <td>0</td>\n",
       "      <td>0</td>\n",
       "      <td>0</td>\n",
       "      <td>0.0</td>\n",
       "      <td>1</td>\n",
       "      <td>...</td>\n",
       "      <td>IM</td>\n",
       "      <td>UN</td>\n",
       "      <td>COVID19 (COVID19 (PFIZER-BIONTECH))</td>\n",
       "      <td>1</td>\n",
       "      <td>CHEST X-RAY NORMAL</td>\n",
       "      <td>COMPUTERISED TOMOGRAM HEAD NORMAL</td>\n",
       "      <td>FATIGUE</td>\n",
       "      <td>HYPERACUSIS</td>\n",
       "      <td>JOINT SWELLING</td>\n",
       "      <td>1</td>\n",
       "    </tr>\n",
       "    <tr>\n",
       "      <th>1588394</th>\n",
       "      <td>2855990</td>\n",
       "      <td>TX</td>\n",
       "      <td>32.0</td>\n",
       "      <td>1</td>\n",
       "      <td>ARM WRIST LEG SWELLING THAT COMES AND GOES AND...</td>\n",
       "      <td>0</td>\n",
       "      <td>0</td>\n",
       "      <td>0</td>\n",
       "      <td>0.0</td>\n",
       "      <td>1</td>\n",
       "      <td>...</td>\n",
       "      <td>IM</td>\n",
       "      <td>UN</td>\n",
       "      <td>COVID19 (COVID19 (PFIZER-BIONTECH))</td>\n",
       "      <td>1</td>\n",
       "      <td>PERIPHERAL SWELLING</td>\n",
       "      <td>POSTURAL ORTHOSTATIC TACHYCARDIA SYNDROME</td>\n",
       "      <td>SARS-COV-2 ANTIBODY TEST POSITIVE</td>\n",
       "      <td>TREMOR</td>\n",
       "      <td></td>\n",
       "      <td>1</td>\n",
       "    </tr>\n",
       "  </tbody>\n",
       "</table>\n",
       "<p>1588395 rows × 35 columns</p>\n",
       "</div>"
      ],
      "text/plain": [
       "         VAERS_ID STATE  AGE_YRS SEX  \\\n",
       "0          547879    WI     11.0   0   \n",
       "1          547879    WI     11.0   0   \n",
       "2          547879    WI     11.0   0   \n",
       "3          547879    WI     11.0   0   \n",
       "4          547879    WI     11.0   0   \n",
       "...           ...   ...      ...  ..   \n",
       "1588390   2855970    FL     66.0   0   \n",
       "1588391   2855970    FL     66.0   0   \n",
       "1588392   2855990    TX     32.0   1   \n",
       "1588393   2855990    TX     32.0   1   \n",
       "1588394   2855990    TX     32.0   1   \n",
       "\n",
       "                                              SYMPTOM_TEXT  DIED  L_THREAT  \\\n",
       "0        SENSITIVY TO LIGHT TROUBLE HEARING SHORT TERM ...     0         0   \n",
       "1        SENSITIVY TO LIGHT TROUBLE HEARING SHORT TERM ...     0         0   \n",
       "2        SENSITIVY TO LIGHT TROUBLE HEARING SHORT TERM ...     0         0   \n",
       "3        SENSITIVY TO LIGHT TROUBLE HEARING SHORT TERM ...     0         0   \n",
       "4        SENSITIVY TO LIGHT TROUBLE HEARING SHORT TERM ...     0         0   \n",
       "...                                                    ...   ...       ...   \n",
       "1588390  I GOT THE INJECTION AROUND NOON AND I CAME HOM...     0         0   \n",
       "1588391  I GOT THE INJECTION AROUND NOON AND I CAME HOM...     0         0   \n",
       "1588392  ARM WRIST LEG SWELLING THAT COMES AND GOES AND...     0         0   \n",
       "1588393  ARM WRIST LEG SWELLING THAT COMES AND GOES AND...     0         0   \n",
       "1588394  ARM WRIST LEG SWELLING THAT COMES AND GOES AND...     0         0   \n",
       "\n",
       "         HOSPITAL  HOSPDAYS  DISABLE  ...  VAX_ROUTE VAX_SITE  \\\n",
       "0               0       0.0        1  ...        SYR       AR   \n",
       "1               0       0.0        1  ...        SYR       AR   \n",
       "2               0       0.0        1  ...        SYR       AR   \n",
       "3               0       0.0        1  ...        SYR       AR   \n",
       "4               0       0.0        1  ...        SYR       AR   \n",
       "...           ...       ...      ...  ...        ...      ...   \n",
       "1588390         0       0.0        0  ...        SYR       LA   \n",
       "1588391         0       0.0        0  ...        SYR       LA   \n",
       "1588392         0       0.0        1  ...         IM       UN   \n",
       "1588393         0       0.0        1  ...         IM       UN   \n",
       "1588394         0       0.0        1  ...         IM       UN   \n",
       "\n",
       "                                    VAX_NAME  ORDER_y  \\\n",
       "0                             HPV (GARDASIL)        2   \n",
       "1                             HPV (GARDASIL)        2   \n",
       "2                             HPV (GARDASIL)        2   \n",
       "3                             HPV (GARDASIL)        2   \n",
       "4                             HPV (GARDASIL)        2   \n",
       "...                                      ...      ...   \n",
       "1588390       INFLUENZA (SEASONAL) (FLUBLOK)        1   \n",
       "1588391       INFLUENZA (SEASONAL) (FLUBLOK)        1   \n",
       "1588392  COVID19 (COVID19 (PFIZER-BIONTECH))        1   \n",
       "1588393  COVID19 (COVID19 (PFIZER-BIONTECH))        1   \n",
       "1588394  COVID19 (COVID19 (PFIZER-BIONTECH))        1   \n",
       "\n",
       "                              SYMPTOM1  \\\n",
       "0                       ABDOMINAL PAIN   \n",
       "1                             INSOMNIA   \n",
       "2                              SYNCOPE   \n",
       "3                 ABDOMINAL DISCOMFORT   \n",
       "4                           ARTHRALGIA   \n",
       "...                                ...   \n",
       "1588390                      DIZZINESS   \n",
       "1588391                       VOMITING   \n",
       "1588392  ANTINUCLEAR ANTIBODY NEGATIVE   \n",
       "1588393             CHEST X-RAY NORMAL   \n",
       "1588394            PERIPHERAL SWELLING   \n",
       "\n",
       "                                          SYMPTOM2  \\\n",
       "0                         BLOOD PRESSURE DECREASED   \n",
       "1                                         MIGRAINE   \n",
       "2                         TILT TABLE TEST POSITIVE   \n",
       "3                                   ABDOMINAL PAIN   \n",
       "4                                         ASTHENIA   \n",
       "...                                            ...   \n",
       "1588390                                    FATIGUE   \n",
       "1588391                                              \n",
       "1588392                    BIOPSY PERIPHERAL NERVE   \n",
       "1588393          COMPUTERISED TOMOGRAM HEAD NORMAL   \n",
       "1588394  POSTURAL ORTHOSTATIC TACHYCARDIA SYNDROME   \n",
       "\n",
       "                                  SYMPTOM3  \\\n",
       "0                 CHRONIC FATIGUE SYNDROME   \n",
       "1                                   NAUSEA   \n",
       "2                      VITAMIN D DECREASED   \n",
       "3                                AGITATION   \n",
       "4                    AUTOIMMUNE NEUROPATHY   \n",
       "...                                    ...   \n",
       "1588390                       FEELING COLD   \n",
       "1588391                                      \n",
       "1588392         BLOOD PRESSURE FLUCTUATION   \n",
       "1588393                            FATIGUE   \n",
       "1588394  SARS-COV-2 ANTIBODY TEST POSITIVE   \n",
       "\n",
       "                                          SYMPTOM4                  SYMPTOM5  \\\n",
       "0                                        DIZZINESS      HEART RATE INCREASED   \n",
       "1        POSTURAL ORTHOSTATIC TACHYCARDIA SYNDROME  SERUM FERRITIN DECREASED   \n",
       "2                             VITAMIN D DEFICIENCY                             \n",
       "3                                          AMNESIA    ANTIBODY TEST POSITIVE   \n",
       "4                             AUTONOMIC NEUROPATHY                 BACK PAIN   \n",
       "...                                            ...                       ...   \n",
       "1588390                          MUSCULAR WEAKNESS                   PYREXIA   \n",
       "1588391                                                                        \n",
       "1588392                     BORRELIA TEST NEGATIVE                 BRAIN FOG   \n",
       "1588393                                HYPERACUSIS            JOINT SWELLING   \n",
       "1588394                                     TREMOR                             \n",
       "\n",
       "        ORDER  \n",
       "0           2  \n",
       "1           2  \n",
       "2           2  \n",
       "3           3  \n",
       "4           3  \n",
       "...       ...  \n",
       "1588390     1  \n",
       "1588391     1  \n",
       "1588392     1  \n",
       "1588393     1  \n",
       "1588394     1  \n",
       "\n",
       "[1588395 rows x 35 columns]"
      ]
     },
     "execution_count": 162,
     "metadata": {},
     "output_type": "execute_result"
    }
   ],
   "source": [
    "# Convert specified columns in the DataFrame to binary values.\n",
    "cols =  ['L_THREAT','DIED','HOSPITAL','DISABLE','BIRTH_DEFECT']\n",
    "binaryconvert(vaers,cols)"
   ]
  },
  {
   "cell_type": "code",
   "execution_count": 163,
   "id": "9056c67c-5b16-4be5-b538-abf3ff16ef97",
   "metadata": {},
   "outputs": [
    {
     "data": {
      "text/html": [
       "<div>\n",
       "<style scoped>\n",
       "    .dataframe tbody tr th:only-of-type {\n",
       "        vertical-align: middle;\n",
       "    }\n",
       "\n",
       "    .dataframe tbody tr th {\n",
       "        vertical-align: top;\n",
       "    }\n",
       "\n",
       "    .dataframe thead th {\n",
       "        text-align: right;\n",
       "    }\n",
       "</style>\n",
       "<table border=\"1\" class=\"dataframe\">\n",
       "  <thead>\n",
       "    <tr style=\"text-align: right;\">\n",
       "      <th></th>\n",
       "      <th>VAERS_ID</th>\n",
       "      <th>STATE</th>\n",
       "      <th>AGE_YRS</th>\n",
       "      <th>SEX</th>\n",
       "      <th>SYMPTOM_TEXT</th>\n",
       "      <th>DIED</th>\n",
       "      <th>L_THREAT</th>\n",
       "      <th>HOSPITAL</th>\n",
       "      <th>HOSPDAYS</th>\n",
       "      <th>DISABLE</th>\n",
       "      <th>...</th>\n",
       "      <th>VAX_ROUTE</th>\n",
       "      <th>VAX_SITE</th>\n",
       "      <th>VAX_NAME</th>\n",
       "      <th>ORDER_y</th>\n",
       "      <th>SYMPTOM1</th>\n",
       "      <th>SYMPTOM2</th>\n",
       "      <th>SYMPTOM3</th>\n",
       "      <th>SYMPTOM4</th>\n",
       "      <th>SYMPTOM5</th>\n",
       "      <th>ORDER</th>\n",
       "    </tr>\n",
       "  </thead>\n",
       "  <tbody>\n",
       "    <tr>\n",
       "      <th>0</th>\n",
       "      <td>547879</td>\n",
       "      <td>WI</td>\n",
       "      <td>11.0</td>\n",
       "      <td>0</td>\n",
       "      <td>SENSITIVY TO LIGHT TROUBLE HEARING SHORT TERM ...</td>\n",
       "      <td>0</td>\n",
       "      <td>0</td>\n",
       "      <td>0</td>\n",
       "      <td>0.0</td>\n",
       "      <td>1</td>\n",
       "      <td>...</td>\n",
       "      <td>SYR</td>\n",
       "      <td>AR</td>\n",
       "      <td>HPV (GARDASIL)</td>\n",
       "      <td>2</td>\n",
       "      <td>ABDOMINAL PAIN</td>\n",
       "      <td>BLOOD PRESSURE DECREASED</td>\n",
       "      <td>CHRONIC FATIGUE SYNDROME</td>\n",
       "      <td>DIZZINESS</td>\n",
       "      <td>HEART RATE INCREASED</td>\n",
       "      <td>2</td>\n",
       "    </tr>\n",
       "    <tr>\n",
       "      <th>1</th>\n",
       "      <td>547879</td>\n",
       "      <td>WI</td>\n",
       "      <td>11.0</td>\n",
       "      <td>0</td>\n",
       "      <td>SENSITIVY TO LIGHT TROUBLE HEARING SHORT TERM ...</td>\n",
       "      <td>0</td>\n",
       "      <td>0</td>\n",
       "      <td>0</td>\n",
       "      <td>0.0</td>\n",
       "      <td>1</td>\n",
       "      <td>...</td>\n",
       "      <td>SYR</td>\n",
       "      <td>AR</td>\n",
       "      <td>HPV (GARDASIL)</td>\n",
       "      <td>2</td>\n",
       "      <td>INSOMNIA</td>\n",
       "      <td>MIGRAINE</td>\n",
       "      <td>NAUSEA</td>\n",
       "      <td>POSTURAL ORTHOSTATIC TACHYCARDIA SYNDROME</td>\n",
       "      <td>SERUM FERRITIN DECREASED</td>\n",
       "      <td>2</td>\n",
       "    </tr>\n",
       "    <tr>\n",
       "      <th>2</th>\n",
       "      <td>547879</td>\n",
       "      <td>WI</td>\n",
       "      <td>11.0</td>\n",
       "      <td>0</td>\n",
       "      <td>SENSITIVY TO LIGHT TROUBLE HEARING SHORT TERM ...</td>\n",
       "      <td>0</td>\n",
       "      <td>0</td>\n",
       "      <td>0</td>\n",
       "      <td>0.0</td>\n",
       "      <td>1</td>\n",
       "      <td>...</td>\n",
       "      <td>SYR</td>\n",
       "      <td>AR</td>\n",
       "      <td>HPV (GARDASIL)</td>\n",
       "      <td>2</td>\n",
       "      <td>SYNCOPE</td>\n",
       "      <td>TILT TABLE TEST POSITIVE</td>\n",
       "      <td>VITAMIN D DECREASED</td>\n",
       "      <td>VITAMIN D DEFICIENCY</td>\n",
       "      <td></td>\n",
       "      <td>2</td>\n",
       "    </tr>\n",
       "    <tr>\n",
       "      <th>3</th>\n",
       "      <td>547879</td>\n",
       "      <td>WI</td>\n",
       "      <td>11.0</td>\n",
       "      <td>0</td>\n",
       "      <td>SENSITIVY TO LIGHT TROUBLE HEARING SHORT TERM ...</td>\n",
       "      <td>0</td>\n",
       "      <td>0</td>\n",
       "      <td>0</td>\n",
       "      <td>0.0</td>\n",
       "      <td>1</td>\n",
       "      <td>...</td>\n",
       "      <td>SYR</td>\n",
       "      <td>AR</td>\n",
       "      <td>HPV (GARDASIL)</td>\n",
       "      <td>2</td>\n",
       "      <td>ABDOMINAL DISCOMFORT</td>\n",
       "      <td>ABDOMINAL PAIN</td>\n",
       "      <td>AGITATION</td>\n",
       "      <td>AMNESIA</td>\n",
       "      <td>ANTIBODY TEST POSITIVE</td>\n",
       "      <td>3</td>\n",
       "    </tr>\n",
       "    <tr>\n",
       "      <th>4</th>\n",
       "      <td>547879</td>\n",
       "      <td>WI</td>\n",
       "      <td>11.0</td>\n",
       "      <td>0</td>\n",
       "      <td>SENSITIVY TO LIGHT TROUBLE HEARING SHORT TERM ...</td>\n",
       "      <td>0</td>\n",
       "      <td>0</td>\n",
       "      <td>0</td>\n",
       "      <td>0.0</td>\n",
       "      <td>1</td>\n",
       "      <td>...</td>\n",
       "      <td>SYR</td>\n",
       "      <td>AR</td>\n",
       "      <td>HPV (GARDASIL)</td>\n",
       "      <td>2</td>\n",
       "      <td>ARTHRALGIA</td>\n",
       "      <td>ASTHENIA</td>\n",
       "      <td>AUTOIMMUNE NEUROPATHY</td>\n",
       "      <td>AUTONOMIC NEUROPATHY</td>\n",
       "      <td>BACK PAIN</td>\n",
       "      <td>3</td>\n",
       "    </tr>\n",
       "  </tbody>\n",
       "</table>\n",
       "<p>5 rows × 35 columns</p>\n",
       "</div>"
      ],
      "text/plain": [
       "   VAERS_ID STATE  AGE_YRS SEX  \\\n",
       "0    547879    WI     11.0   0   \n",
       "1    547879    WI     11.0   0   \n",
       "2    547879    WI     11.0   0   \n",
       "3    547879    WI     11.0   0   \n",
       "4    547879    WI     11.0   0   \n",
       "\n",
       "                                        SYMPTOM_TEXT  DIED  L_THREAT  \\\n",
       "0  SENSITIVY TO LIGHT TROUBLE HEARING SHORT TERM ...     0         0   \n",
       "1  SENSITIVY TO LIGHT TROUBLE HEARING SHORT TERM ...     0         0   \n",
       "2  SENSITIVY TO LIGHT TROUBLE HEARING SHORT TERM ...     0         0   \n",
       "3  SENSITIVY TO LIGHT TROUBLE HEARING SHORT TERM ...     0         0   \n",
       "4  SENSITIVY TO LIGHT TROUBLE HEARING SHORT TERM ...     0         0   \n",
       "\n",
       "   HOSPITAL  HOSPDAYS  DISABLE  ...  VAX_ROUTE VAX_SITE        VAX_NAME  \\\n",
       "0         0       0.0        1  ...        SYR       AR  HPV (GARDASIL)   \n",
       "1         0       0.0        1  ...        SYR       AR  HPV (GARDASIL)   \n",
       "2         0       0.0        1  ...        SYR       AR  HPV (GARDASIL)   \n",
       "3         0       0.0        1  ...        SYR       AR  HPV (GARDASIL)   \n",
       "4         0       0.0        1  ...        SYR       AR  HPV (GARDASIL)   \n",
       "\n",
       "   ORDER_y              SYMPTOM1                  SYMPTOM2  \\\n",
       "0        2        ABDOMINAL PAIN  BLOOD PRESSURE DECREASED   \n",
       "1        2              INSOMNIA                  MIGRAINE   \n",
       "2        2               SYNCOPE  TILT TABLE TEST POSITIVE   \n",
       "3        2  ABDOMINAL DISCOMFORT            ABDOMINAL PAIN   \n",
       "4        2            ARTHRALGIA                  ASTHENIA   \n",
       "\n",
       "                   SYMPTOM3                                   SYMPTOM4  \\\n",
       "0  CHRONIC FATIGUE SYNDROME                                  DIZZINESS   \n",
       "1                    NAUSEA  POSTURAL ORTHOSTATIC TACHYCARDIA SYNDROME   \n",
       "2       VITAMIN D DECREASED                       VITAMIN D DEFICIENCY   \n",
       "3                 AGITATION                                    AMNESIA   \n",
       "4     AUTOIMMUNE NEUROPATHY                       AUTONOMIC NEUROPATHY   \n",
       "\n",
       "                   SYMPTOM5 ORDER  \n",
       "0      HEART RATE INCREASED     2  \n",
       "1  SERUM FERRITIN DECREASED     2  \n",
       "2                               2  \n",
       "3    ANTIBODY TEST POSITIVE     3  \n",
       "4                 BACK PAIN     3  \n",
       "\n",
       "[5 rows x 35 columns]"
      ]
     },
     "execution_count": 163,
     "metadata": {},
     "output_type": "execute_result"
    }
   ],
   "source": [
    "vaers.reset_index(drop=True, inplace=True)\n",
    "vaers.head()\n"
   ]
  },
  {
   "cell_type": "code",
   "execution_count": 164,
   "id": "cd3c8d01-ac2b-4244-b05a-f6cc736dc40c",
   "metadata": {},
   "outputs": [
    {
     "name": "stdout",
     "output_type": "stream",
     "text": [
      "<class 'pandas.core.frame.DataFrame'>\n",
      "RangeIndex: 1588395 entries, 0 to 1588394\n",
      "Data columns (total 35 columns):\n",
      " #   Column           Non-Null Count    Dtype         \n",
      "---  ------           --------------    -----         \n",
      " 0   VAERS_ID         1588395 non-null  int64         \n",
      " 1   STATE            1588395 non-null  object        \n",
      " 2   AGE_YRS          1588395 non-null  float64       \n",
      " 3   SEX              1588310 non-null  object        \n",
      " 4   SYMPTOM_TEXT     1588395 non-null  object        \n",
      " 5   DIED             1588395 non-null  int32         \n",
      " 6   L_THREAT         1588395 non-null  int32         \n",
      " 7   HOSPITAL         1588395 non-null  int32         \n",
      " 8   HOSPDAYS         1588395 non-null  float64       \n",
      " 9   DISABLE          1588395 non-null  int32         \n",
      " 10  RECOVD           1588395 non-null  int64         \n",
      " 11  VAX_DATE         1588395 non-null  datetime64[ns]\n",
      " 12  ONSET_DATE       1588395 non-null  datetime64[ns]\n",
      " 13  NUMDAYS          1588395 non-null  int64         \n",
      " 14  V_ADMINBY        1588395 non-null  object        \n",
      " 15  OTHER_MEDS       1588395 non-null  object        \n",
      " 16  CUR_ILL          1588395 non-null  object        \n",
      " 17  HISTORY          1588395 non-null  object        \n",
      " 18  BIRTH_DEFECT     1588395 non-null  int32         \n",
      " 19  ALLERGIES        1588395 non-null  object        \n",
      " 20  ORDER_x          1588395 non-null  int64         \n",
      " 21  VAX_TYPE         1588395 non-null  category      \n",
      " 22  VAX_MANU         1588395 non-null  object        \n",
      " 23  VAX_LOT          1190226 non-null  object        \n",
      " 24  VAX_DOSE_SERIES  1561550 non-null  object        \n",
      " 25  VAX_ROUTE        1303524 non-null  object        \n",
      " 26  VAX_SITE         1315744 non-null  object        \n",
      " 27  VAX_NAME         1588395 non-null  object        \n",
      " 28  ORDER_y          1588395 non-null  int64         \n",
      " 29  SYMPTOM1         1588395 non-null  object        \n",
      " 30  SYMPTOM2         1588395 non-null  object        \n",
      " 31  SYMPTOM3         1588395 non-null  object        \n",
      " 32  SYMPTOM4         1588395 non-null  object        \n",
      " 33  SYMPTOM5         1588395 non-null  object        \n",
      " 34  ORDER            1588395 non-null  int64         \n",
      "dtypes: category(1), datetime64[ns](2), float64(2), int32(5), int64(6), object(19)\n",
      "memory usage: 383.3+ MB\n"
     ]
    }
   ],
   "source": [
    "\n",
    "vaers.info()\n"
   ]
  },
  {
   "cell_type": "code",
   "execution_count": 165,
   "id": "11cf592e-ba7f-4c56-a659-afd77cf25e11",
   "metadata": {},
   "outputs": [
    {
     "data": {
      "text/html": [
       "<div>\n",
       "<style scoped>\n",
       "    .dataframe tbody tr th:only-of-type {\n",
       "        vertical-align: middle;\n",
       "    }\n",
       "\n",
       "    .dataframe tbody tr th {\n",
       "        vertical-align: top;\n",
       "    }\n",
       "\n",
       "    .dataframe thead th {\n",
       "        text-align: right;\n",
       "    }\n",
       "</style>\n",
       "<table border=\"1\" class=\"dataframe\">\n",
       "  <thead>\n",
       "    <tr style=\"text-align: right;\">\n",
       "      <th></th>\n",
       "      <th>Unique Count</th>\n",
       "      <th>Null Count</th>\n",
       "      <th>Null Percentage</th>\n",
       "    </tr>\n",
       "  </thead>\n",
       "  <tbody>\n",
       "    <tr>\n",
       "      <th>VAERS_ID</th>\n",
       "      <td>822504</td>\n",
       "      <td>0</td>\n",
       "      <td>0.000000</td>\n",
       "    </tr>\n",
       "    <tr>\n",
       "      <th>STATE</th>\n",
       "      <td>64</td>\n",
       "      <td>0</td>\n",
       "      <td>0.000000</td>\n",
       "    </tr>\n",
       "    <tr>\n",
       "      <th>AGE_YRS</th>\n",
       "      <td>162</td>\n",
       "      <td>0</td>\n",
       "      <td>0.000000</td>\n",
       "    </tr>\n",
       "    <tr>\n",
       "      <th>SEX</th>\n",
       "      <td>3</td>\n",
       "      <td>85</td>\n",
       "      <td>0.005351</td>\n",
       "    </tr>\n",
       "    <tr>\n",
       "      <th>SYMPTOM_TEXT</th>\n",
       "      <td>804530</td>\n",
       "      <td>0</td>\n",
       "      <td>0.000000</td>\n",
       "    </tr>\n",
       "    <tr>\n",
       "      <th>DIED</th>\n",
       "      <td>2</td>\n",
       "      <td>0</td>\n",
       "      <td>0.000000</td>\n",
       "    </tr>\n",
       "    <tr>\n",
       "      <th>L_THREAT</th>\n",
       "      <td>2</td>\n",
       "      <td>0</td>\n",
       "      <td>0.000000</td>\n",
       "    </tr>\n",
       "    <tr>\n",
       "      <th>HOSPITAL</th>\n",
       "      <td>2</td>\n",
       "      <td>0</td>\n",
       "      <td>0.000000</td>\n",
       "    </tr>\n",
       "    <tr>\n",
       "      <th>HOSPDAYS</th>\n",
       "      <td>154</td>\n",
       "      <td>0</td>\n",
       "      <td>0.000000</td>\n",
       "    </tr>\n",
       "    <tr>\n",
       "      <th>DISABLE</th>\n",
       "      <td>2</td>\n",
       "      <td>0</td>\n",
       "      <td>0.000000</td>\n",
       "    </tr>\n",
       "    <tr>\n",
       "      <th>RECOVD</th>\n",
       "      <td>3</td>\n",
       "      <td>0</td>\n",
       "      <td>0.000000</td>\n",
       "    </tr>\n",
       "    <tr>\n",
       "      <th>VAX_DATE</th>\n",
       "      <td>5208</td>\n",
       "      <td>0</td>\n",
       "      <td>0.000000</td>\n",
       "    </tr>\n",
       "    <tr>\n",
       "      <th>ONSET_DATE</th>\n",
       "      <td>4460</td>\n",
       "      <td>0</td>\n",
       "      <td>0.000000</td>\n",
       "    </tr>\n",
       "    <tr>\n",
       "      <th>NUMDAYS</th>\n",
       "      <td>2074</td>\n",
       "      <td>0</td>\n",
       "      <td>0.000000</td>\n",
       "    </tr>\n",
       "    <tr>\n",
       "      <th>V_ADMINBY</th>\n",
       "      <td>9</td>\n",
       "      <td>0</td>\n",
       "      <td>0.000000</td>\n",
       "    </tr>\n",
       "    <tr>\n",
       "      <th>OTHER_MEDS</th>\n",
       "      <td>344391</td>\n",
       "      <td>0</td>\n",
       "      <td>0.000000</td>\n",
       "    </tr>\n",
       "    <tr>\n",
       "      <th>CUR_ILL</th>\n",
       "      <td>78069</td>\n",
       "      <td>0</td>\n",
       "      <td>0.000000</td>\n",
       "    </tr>\n",
       "    <tr>\n",
       "      <th>HISTORY</th>\n",
       "      <td>217696</td>\n",
       "      <td>0</td>\n",
       "      <td>0.000000</td>\n",
       "    </tr>\n",
       "    <tr>\n",
       "      <th>BIRTH_DEFECT</th>\n",
       "      <td>2</td>\n",
       "      <td>0</td>\n",
       "      <td>0.000000</td>\n",
       "    </tr>\n",
       "    <tr>\n",
       "      <th>ALLERGIES</th>\n",
       "      <td>154034</td>\n",
       "      <td>0</td>\n",
       "      <td>0.000000</td>\n",
       "    </tr>\n",
       "    <tr>\n",
       "      <th>ORDER_x</th>\n",
       "      <td>6</td>\n",
       "      <td>0</td>\n",
       "      <td>0.000000</td>\n",
       "    </tr>\n",
       "    <tr>\n",
       "      <th>VAX_TYPE</th>\n",
       "      <td>74</td>\n",
       "      <td>0</td>\n",
       "      <td>0.000000</td>\n",
       "    </tr>\n",
       "    <tr>\n",
       "      <th>VAX_MANU</th>\n",
       "      <td>31</td>\n",
       "      <td>0</td>\n",
       "      <td>0.000000</td>\n",
       "    </tr>\n",
       "    <tr>\n",
       "      <th>VAX_LOT</th>\n",
       "      <td>62915</td>\n",
       "      <td>398169</td>\n",
       "      <td>25.067379</td>\n",
       "    </tr>\n",
       "    <tr>\n",
       "      <th>VAX_DOSE_SERIES</th>\n",
       "      <td>8</td>\n",
       "      <td>26845</td>\n",
       "      <td>1.690071</td>\n",
       "    </tr>\n",
       "    <tr>\n",
       "      <th>VAX_ROUTE</th>\n",
       "      <td>9</td>\n",
       "      <td>284871</td>\n",
       "      <td>17.934519</td>\n",
       "    </tr>\n",
       "    <tr>\n",
       "      <th>VAX_SITE</th>\n",
       "      <td>11</td>\n",
       "      <td>272651</td>\n",
       "      <td>17.165189</td>\n",
       "    </tr>\n",
       "    <tr>\n",
       "      <th>VAX_NAME</th>\n",
       "      <td>177</td>\n",
       "      <td>0</td>\n",
       "      <td>0.000000</td>\n",
       "    </tr>\n",
       "    <tr>\n",
       "      <th>ORDER_y</th>\n",
       "      <td>8</td>\n",
       "      <td>0</td>\n",
       "      <td>0.000000</td>\n",
       "    </tr>\n",
       "    <tr>\n",
       "      <th>SYMPTOM1</th>\n",
       "      <td>8792</td>\n",
       "      <td>0</td>\n",
       "      <td>0.000000</td>\n",
       "    </tr>\n",
       "    <tr>\n",
       "      <th>SYMPTOM2</th>\n",
       "      <td>8555</td>\n",
       "      <td>0</td>\n",
       "      <td>0.000000</td>\n",
       "    </tr>\n",
       "    <tr>\n",
       "      <th>SYMPTOM3</th>\n",
       "      <td>8113</td>\n",
       "      <td>0</td>\n",
       "      <td>0.000000</td>\n",
       "    </tr>\n",
       "    <tr>\n",
       "      <th>SYMPTOM4</th>\n",
       "      <td>7458</td>\n",
       "      <td>0</td>\n",
       "      <td>0.000000</td>\n",
       "    </tr>\n",
       "    <tr>\n",
       "      <th>SYMPTOM5</th>\n",
       "      <td>7033</td>\n",
       "      <td>0</td>\n",
       "      <td>0.000000</td>\n",
       "    </tr>\n",
       "    <tr>\n",
       "      <th>ORDER</th>\n",
       "      <td>8</td>\n",
       "      <td>0</td>\n",
       "      <td>0.000000</td>\n",
       "    </tr>\n",
       "  </tbody>\n",
       "</table>\n",
       "</div>"
      ],
      "text/plain": [
       "                 Unique Count  Null Count  Null Percentage\n",
       "VAERS_ID               822504           0         0.000000\n",
       "STATE                      64           0         0.000000\n",
       "AGE_YRS                   162           0         0.000000\n",
       "SEX                         3          85         0.005351\n",
       "SYMPTOM_TEXT           804530           0         0.000000\n",
       "DIED                        2           0         0.000000\n",
       "L_THREAT                    2           0         0.000000\n",
       "HOSPITAL                    2           0         0.000000\n",
       "HOSPDAYS                  154           0         0.000000\n",
       "DISABLE                     2           0         0.000000\n",
       "RECOVD                      3           0         0.000000\n",
       "VAX_DATE                 5208           0         0.000000\n",
       "ONSET_DATE               4460           0         0.000000\n",
       "NUMDAYS                  2074           0         0.000000\n",
       "V_ADMINBY                   9           0         0.000000\n",
       "OTHER_MEDS             344391           0         0.000000\n",
       "CUR_ILL                 78069           0         0.000000\n",
       "HISTORY                217696           0         0.000000\n",
       "BIRTH_DEFECT                2           0         0.000000\n",
       "ALLERGIES              154034           0         0.000000\n",
       "ORDER_x                     6           0         0.000000\n",
       "VAX_TYPE                   74           0         0.000000\n",
       "VAX_MANU                   31           0         0.000000\n",
       "VAX_LOT                 62915      398169        25.067379\n",
       "VAX_DOSE_SERIES             8       26845         1.690071\n",
       "VAX_ROUTE                   9      284871        17.934519\n",
       "VAX_SITE                   11      272651        17.165189\n",
       "VAX_NAME                  177           0         0.000000\n",
       "ORDER_y                     8           0         0.000000\n",
       "SYMPTOM1                 8792           0         0.000000\n",
       "SYMPTOM2                 8555           0         0.000000\n",
       "SYMPTOM3                 8113           0         0.000000\n",
       "SYMPTOM4                 7458           0         0.000000\n",
       "SYMPTOM5                 7033           0         0.000000\n",
       "ORDER                       8           0         0.000000"
      ]
     },
     "execution_count": 165,
     "metadata": {},
     "output_type": "execute_result"
    }
   ],
   "source": [
    "sanity_check(vaers)"
   ]
  },
  {
   "cell_type": "code",
   "execution_count": 166,
   "id": "95780831-617a-4e00-b8e9-707a995abb30",
   "metadata": {},
   "outputs": [
    {
     "data": {
      "text/html": [
       "<div>\n",
       "<style scoped>\n",
       "    .dataframe tbody tr th:only-of-type {\n",
       "        vertical-align: middle;\n",
       "    }\n",
       "\n",
       "    .dataframe tbody tr th {\n",
       "        vertical-align: top;\n",
       "    }\n",
       "\n",
       "    .dataframe thead th {\n",
       "        text-align: right;\n",
       "    }\n",
       "</style>\n",
       "<table border=\"1\" class=\"dataframe\">\n",
       "  <thead>\n",
       "    <tr style=\"text-align: right;\">\n",
       "      <th></th>\n",
       "      <th>VAERS_ID</th>\n",
       "      <th>STATE</th>\n",
       "      <th>AGE_YRS</th>\n",
       "      <th>SEX</th>\n",
       "      <th>SYMPTOM_TEXT</th>\n",
       "      <th>DIED</th>\n",
       "      <th>L_THREAT</th>\n",
       "      <th>HOSPITAL</th>\n",
       "      <th>HOSPDAYS</th>\n",
       "      <th>DISABLE</th>\n",
       "      <th>...</th>\n",
       "      <th>VAX_ROUTE</th>\n",
       "      <th>VAX_SITE</th>\n",
       "      <th>VAX_NAME</th>\n",
       "      <th>ORDER_y</th>\n",
       "      <th>SYMPTOM1</th>\n",
       "      <th>SYMPTOM2</th>\n",
       "      <th>SYMPTOM3</th>\n",
       "      <th>SYMPTOM4</th>\n",
       "      <th>SYMPTOM5</th>\n",
       "      <th>ORDER</th>\n",
       "    </tr>\n",
       "  </thead>\n",
       "  <tbody>\n",
       "    <tr>\n",
       "      <th>0</th>\n",
       "      <td>547879</td>\n",
       "      <td>WI</td>\n",
       "      <td>11.0</td>\n",
       "      <td>0</td>\n",
       "      <td>SENSITIVY TO LIGHT TROUBLE HEARING SHORT TERM ...</td>\n",
       "      <td>0</td>\n",
       "      <td>0</td>\n",
       "      <td>0</td>\n",
       "      <td>0.0</td>\n",
       "      <td>1</td>\n",
       "      <td>...</td>\n",
       "      <td>SYR</td>\n",
       "      <td>AR</td>\n",
       "      <td>HPV (GARDASIL)</td>\n",
       "      <td>2</td>\n",
       "      <td>ABDOMINAL PAIN</td>\n",
       "      <td>BLOOD PRESSURE DECREASED</td>\n",
       "      <td>CHRONIC FATIGUE SYNDROME</td>\n",
       "      <td>DIZZINESS</td>\n",
       "      <td>HEART RATE INCREASED</td>\n",
       "      <td>2</td>\n",
       "    </tr>\n",
       "    <tr>\n",
       "      <th>1</th>\n",
       "      <td>547879</td>\n",
       "      <td>WI</td>\n",
       "      <td>11.0</td>\n",
       "      <td>0</td>\n",
       "      <td>SENSITIVY TO LIGHT TROUBLE HEARING SHORT TERM ...</td>\n",
       "      <td>0</td>\n",
       "      <td>0</td>\n",
       "      <td>0</td>\n",
       "      <td>0.0</td>\n",
       "      <td>1</td>\n",
       "      <td>...</td>\n",
       "      <td>SYR</td>\n",
       "      <td>AR</td>\n",
       "      <td>HPV (GARDASIL)</td>\n",
       "      <td>2</td>\n",
       "      <td>INSOMNIA</td>\n",
       "      <td>MIGRAINE</td>\n",
       "      <td>NAUSEA</td>\n",
       "      <td>POSTURAL ORTHOSTATIC TACHYCARDIA SYNDROME</td>\n",
       "      <td>SERUM FERRITIN DECREASED</td>\n",
       "      <td>2</td>\n",
       "    </tr>\n",
       "  </tbody>\n",
       "</table>\n",
       "<p>2 rows × 35 columns</p>\n",
       "</div>"
      ],
      "text/plain": [
       "   VAERS_ID STATE  AGE_YRS SEX  \\\n",
       "0    547879    WI     11.0   0   \n",
       "1    547879    WI     11.0   0   \n",
       "\n",
       "                                        SYMPTOM_TEXT  DIED  L_THREAT  \\\n",
       "0  SENSITIVY TO LIGHT TROUBLE HEARING SHORT TERM ...     0         0   \n",
       "1  SENSITIVY TO LIGHT TROUBLE HEARING SHORT TERM ...     0         0   \n",
       "\n",
       "   HOSPITAL  HOSPDAYS  DISABLE  ...  VAX_ROUTE VAX_SITE        VAX_NAME  \\\n",
       "0         0       0.0        1  ...        SYR       AR  HPV (GARDASIL)   \n",
       "1         0       0.0        1  ...        SYR       AR  HPV (GARDASIL)   \n",
       "\n",
       "   ORDER_y        SYMPTOM1                  SYMPTOM2  \\\n",
       "0        2  ABDOMINAL PAIN  BLOOD PRESSURE DECREASED   \n",
       "1        2        INSOMNIA                  MIGRAINE   \n",
       "\n",
       "                   SYMPTOM3                                   SYMPTOM4  \\\n",
       "0  CHRONIC FATIGUE SYNDROME                                  DIZZINESS   \n",
       "1                    NAUSEA  POSTURAL ORTHOSTATIC TACHYCARDIA SYNDROME   \n",
       "\n",
       "                   SYMPTOM5 ORDER  \n",
       "0      HEART RATE INCREASED     2  \n",
       "1  SERUM FERRITIN DECREASED     2  \n",
       "\n",
       "[2 rows x 35 columns]"
      ]
     },
     "execution_count": 166,
     "metadata": {},
     "output_type": "execute_result"
    }
   ],
   "source": [
    "\n",
    "vaers.head(2)"
   ]
  },
  {
   "cell_type": "code",
   "execution_count": 167,
   "id": "ef4fcd21-b11b-4e49-979c-6ca185f57035",
   "metadata": {},
   "outputs": [],
   "source": [
    "vaers.to_csv(r'C:\\Users\\Admin\\Downloads\\capstone\\cleaned_vaers.csv', index=False)\n"
   ]
  },
  {
   "cell_type": "code",
   "execution_count": 168,
   "id": "41949048-6a0d-44f3-8059-dfd5dbaa3b61",
   "metadata": {},
   "outputs": [
    {
     "data": {
      "text/plain": [
       "(1588395, 35)"
      ]
     },
     "execution_count": 168,
     "metadata": {},
     "output_type": "execute_result"
    }
   ],
   "source": [
    "\n",
    "vaers.shape"
   ]
  },
  {
   "cell_type": "markdown",
   "id": "97c19503-b470-418a-8a02-4464e0d7505a",
   "metadata": {},
   "source": [
    "# Load Data for EDA"
   ]
  },
  {
   "cell_type": "code",
   "execution_count": 170,
   "id": "f0e2fb08-7d6a-406c-bb9b-670cf184ba0a",
   "metadata": {},
   "outputs": [],
   "source": [
    "import pandas as pd\n",
    "vaers_df = pd.read_csv(r'C:\\Users\\Admin\\Downloads\\capstone\\cleaned_vaers.csv')"
   ]
  },
  {
   "cell_type": "code",
   "execution_count": 171,
   "id": "369bc940-2d7a-4c4a-82d6-5e3c0bf942bb",
   "metadata": {},
   "outputs": [
    {
     "data": {
      "text/html": [
       "<div>\n",
       "<style scoped>\n",
       "    .dataframe tbody tr th:only-of-type {\n",
       "        vertical-align: middle;\n",
       "    }\n",
       "\n",
       "    .dataframe tbody tr th {\n",
       "        vertical-align: top;\n",
       "    }\n",
       "\n",
       "    .dataframe thead th {\n",
       "        text-align: right;\n",
       "    }\n",
       "</style>\n",
       "<table border=\"1\" class=\"dataframe\">\n",
       "  <thead>\n",
       "    <tr style=\"text-align: right;\">\n",
       "      <th></th>\n",
       "      <th>Unique Count</th>\n",
       "      <th>Null Count</th>\n",
       "      <th>Null Percentage</th>\n",
       "    </tr>\n",
       "  </thead>\n",
       "  <tbody>\n",
       "    <tr>\n",
       "      <th>VAERS_ID</th>\n",
       "      <td>822492</td>\n",
       "      <td>0</td>\n",
       "      <td>0.000000</td>\n",
       "    </tr>\n",
       "    <tr>\n",
       "      <th>STATE</th>\n",
       "      <td>64</td>\n",
       "      <td>0</td>\n",
       "      <td>0.000000</td>\n",
       "    </tr>\n",
       "    <tr>\n",
       "      <th>AGE_YRS</th>\n",
       "      <td>162</td>\n",
       "      <td>0</td>\n",
       "      <td>0.000000</td>\n",
       "    </tr>\n",
       "    <tr>\n",
       "      <th>SEX</th>\n",
       "      <td>3</td>\n",
       "      <td>85</td>\n",
       "      <td>0.005351</td>\n",
       "    </tr>\n",
       "    <tr>\n",
       "      <th>SYMPTOM_TEXT</th>\n",
       "      <td>804529</td>\n",
       "      <td>0</td>\n",
       "      <td>0.000000</td>\n",
       "    </tr>\n",
       "    <tr>\n",
       "      <th>DIED</th>\n",
       "      <td>2</td>\n",
       "      <td>0</td>\n",
       "      <td>0.000000</td>\n",
       "    </tr>\n",
       "    <tr>\n",
       "      <th>L_THREAT</th>\n",
       "      <td>2</td>\n",
       "      <td>0</td>\n",
       "      <td>0.000000</td>\n",
       "    </tr>\n",
       "    <tr>\n",
       "      <th>HOSPITAL</th>\n",
       "      <td>2</td>\n",
       "      <td>0</td>\n",
       "      <td>0.000000</td>\n",
       "    </tr>\n",
       "    <tr>\n",
       "      <th>HOSPDAYS</th>\n",
       "      <td>154</td>\n",
       "      <td>0</td>\n",
       "      <td>0.000000</td>\n",
       "    </tr>\n",
       "    <tr>\n",
       "      <th>DISABLE</th>\n",
       "      <td>2</td>\n",
       "      <td>0</td>\n",
       "      <td>0.000000</td>\n",
       "    </tr>\n",
       "    <tr>\n",
       "      <th>RECOVD</th>\n",
       "      <td>3</td>\n",
       "      <td>0</td>\n",
       "      <td>0.000000</td>\n",
       "    </tr>\n",
       "    <tr>\n",
       "      <th>VAX_DATE</th>\n",
       "      <td>5208</td>\n",
       "      <td>0</td>\n",
       "      <td>0.000000</td>\n",
       "    </tr>\n",
       "    <tr>\n",
       "      <th>ONSET_DATE</th>\n",
       "      <td>4460</td>\n",
       "      <td>0</td>\n",
       "      <td>0.000000</td>\n",
       "    </tr>\n",
       "    <tr>\n",
       "      <th>NUMDAYS</th>\n",
       "      <td>2074</td>\n",
       "      <td>0</td>\n",
       "      <td>0.000000</td>\n",
       "    </tr>\n",
       "    <tr>\n",
       "      <th>V_ADMINBY</th>\n",
       "      <td>9</td>\n",
       "      <td>0</td>\n",
       "      <td>0.000000</td>\n",
       "    </tr>\n",
       "    <tr>\n",
       "      <th>OTHER_MEDS</th>\n",
       "      <td>344388</td>\n",
       "      <td>560540</td>\n",
       "      <td>35.290000</td>\n",
       "    </tr>\n",
       "    <tr>\n",
       "      <th>CUR_ILL</th>\n",
       "      <td>78067</td>\n",
       "      <td>981815</td>\n",
       "      <td>61.812272</td>\n",
       "    </tr>\n",
       "    <tr>\n",
       "      <th>HISTORY</th>\n",
       "      <td>217694</td>\n",
       "      <td>600952</td>\n",
       "      <td>37.834224</td>\n",
       "    </tr>\n",
       "    <tr>\n",
       "      <th>BIRTH_DEFECT</th>\n",
       "      <td>2</td>\n",
       "      <td>0</td>\n",
       "      <td>0.000000</td>\n",
       "    </tr>\n",
       "    <tr>\n",
       "      <th>ALLERGIES</th>\n",
       "      <td>154031</td>\n",
       "      <td>689195</td>\n",
       "      <td>43.389751</td>\n",
       "    </tr>\n",
       "    <tr>\n",
       "      <th>ORDER_x</th>\n",
       "      <td>6</td>\n",
       "      <td>0</td>\n",
       "      <td>0.000000</td>\n",
       "    </tr>\n",
       "    <tr>\n",
       "      <th>VAX_TYPE</th>\n",
       "      <td>74</td>\n",
       "      <td>0</td>\n",
       "      <td>0.000000</td>\n",
       "    </tr>\n",
       "    <tr>\n",
       "      <th>VAX_MANU</th>\n",
       "      <td>31</td>\n",
       "      <td>0</td>\n",
       "      <td>0.000000</td>\n",
       "    </tr>\n",
       "    <tr>\n",
       "      <th>VAX_LOT</th>\n",
       "      <td>62913</td>\n",
       "      <td>398314</td>\n",
       "      <td>25.076713</td>\n",
       "    </tr>\n",
       "    <tr>\n",
       "      <th>VAX_DOSE_SERIES</th>\n",
       "      <td>8</td>\n",
       "      <td>26845</td>\n",
       "      <td>1.690085</td>\n",
       "    </tr>\n",
       "    <tr>\n",
       "      <th>VAX_ROUTE</th>\n",
       "      <td>9</td>\n",
       "      <td>284870</td>\n",
       "      <td>17.934603</td>\n",
       "    </tr>\n",
       "    <tr>\n",
       "      <th>VAX_SITE</th>\n",
       "      <td>11</td>\n",
       "      <td>272649</td>\n",
       "      <td>17.165203</td>\n",
       "    </tr>\n",
       "    <tr>\n",
       "      <th>VAX_NAME</th>\n",
       "      <td>177</td>\n",
       "      <td>0</td>\n",
       "      <td>0.000000</td>\n",
       "    </tr>\n",
       "    <tr>\n",
       "      <th>ORDER_y</th>\n",
       "      <td>8</td>\n",
       "      <td>0</td>\n",
       "      <td>0.000000</td>\n",
       "    </tr>\n",
       "    <tr>\n",
       "      <th>SYMPTOM1</th>\n",
       "      <td>8792</td>\n",
       "      <td>0</td>\n",
       "      <td>0.000000</td>\n",
       "    </tr>\n",
       "    <tr>\n",
       "      <th>SYMPTOM2</th>\n",
       "      <td>8555</td>\n",
       "      <td>0</td>\n",
       "      <td>0.000000</td>\n",
       "    </tr>\n",
       "    <tr>\n",
       "      <th>SYMPTOM3</th>\n",
       "      <td>8113</td>\n",
       "      <td>0</td>\n",
       "      <td>0.000000</td>\n",
       "    </tr>\n",
       "    <tr>\n",
       "      <th>SYMPTOM4</th>\n",
       "      <td>7458</td>\n",
       "      <td>0</td>\n",
       "      <td>0.000000</td>\n",
       "    </tr>\n",
       "    <tr>\n",
       "      <th>SYMPTOM5</th>\n",
       "      <td>7033</td>\n",
       "      <td>0</td>\n",
       "      <td>0.000000</td>\n",
       "    </tr>\n",
       "    <tr>\n",
       "      <th>ORDER</th>\n",
       "      <td>8</td>\n",
       "      <td>0</td>\n",
       "      <td>0.000000</td>\n",
       "    </tr>\n",
       "  </tbody>\n",
       "</table>\n",
       "</div>"
      ],
      "text/plain": [
       "                 Unique Count  Null Count  Null Percentage\n",
       "VAERS_ID               822492           0         0.000000\n",
       "STATE                      64           0         0.000000\n",
       "AGE_YRS                   162           0         0.000000\n",
       "SEX                         3          85         0.005351\n",
       "SYMPTOM_TEXT           804529           0         0.000000\n",
       "DIED                        2           0         0.000000\n",
       "L_THREAT                    2           0         0.000000\n",
       "HOSPITAL                    2           0         0.000000\n",
       "HOSPDAYS                  154           0         0.000000\n",
       "DISABLE                     2           0         0.000000\n",
       "RECOVD                      3           0         0.000000\n",
       "VAX_DATE                 5208           0         0.000000\n",
       "ONSET_DATE               4460           0         0.000000\n",
       "NUMDAYS                  2074           0         0.000000\n",
       "V_ADMINBY                   9           0         0.000000\n",
       "OTHER_MEDS             344388      560540        35.290000\n",
       "CUR_ILL                 78067      981815        61.812272\n",
       "HISTORY                217694      600952        37.834224\n",
       "BIRTH_DEFECT                2           0         0.000000\n",
       "ALLERGIES              154031      689195        43.389751\n",
       "ORDER_x                     6           0         0.000000\n",
       "VAX_TYPE                   74           0         0.000000\n",
       "VAX_MANU                   31           0         0.000000\n",
       "VAX_LOT                 62913      398314        25.076713\n",
       "VAX_DOSE_SERIES             8       26845         1.690085\n",
       "VAX_ROUTE                   9      284870        17.934603\n",
       "VAX_SITE                   11      272649        17.165203\n",
       "VAX_NAME                  177           0         0.000000\n",
       "ORDER_y                     8           0         0.000000\n",
       "SYMPTOM1                 8792           0         0.000000\n",
       "SYMPTOM2                 8555           0         0.000000\n",
       "SYMPTOM3                 8113           0         0.000000\n",
       "SYMPTOM4                 7458           0         0.000000\n",
       "SYMPTOM5                 7033           0         0.000000\n",
       "ORDER                       8           0         0.000000"
      ]
     },
     "execution_count": 171,
     "metadata": {},
     "output_type": "execute_result"
    }
   ],
   "source": [
    "\n",
    "vaers_df = vaers_df.dropna(subset = ['SYMPTOM_TEXT'])\n",
    "sanity_check(vaers_df)"
   ]
  },
  {
   "cell_type": "code",
   "execution_count": 172,
   "id": "8fe7fcc9-3936-4af9-9c9c-4467ab3356ef",
   "metadata": {},
   "outputs": [],
   "source": [
    "# Replace in OTHER_MEDS\n",
    "vaers_df['OTHER_MEDS'] = vaers_df['OTHER_MEDS'].replace([np.nan, 'NAN', 'NONE', 'UNKNOWN'], ' ', regex=True)\n",
    "\n",
    "# Replace in CUR_ILL\n",
    "vaers_df['CUR_ILL'] = vaers_df['CUR_ILL'].replace([np.nan, 'NAN', 'NONE', 'UNKNOWN'], ' ', regex=True)\n",
    "\n",
    "# Replace in HISTORY\n",
    "vaers_df['HISTORY'] = vaers_df['HISTORY'].replace([np.nan, 'NAN', 'NONE', 'UNKNOWN'], ' ', regex=True)\n",
    "\n",
    "# Replace in ALLERGIES\n",
    "vaers_df['ALLERGIES'] = vaers_df['ALLERGIES'].replace([np.nan, 'NAN', 'NONE', 'UNKNOWN'], ' ', regex=True)\n",
    "\n",
    "symptom_columns = ['SYMPTOM1', 'SYMPTOM2', 'SYMPTOM3', 'SYMPTOM4', 'SYMPTOM5']\n",
    "for column in symptom_columns:\n",
    "    vaers_df[column] = vaers_df[column].replace([np.nan, 'NAN'], ' ', regex=True)"
   ]
  },
  {
   "cell_type": "code",
   "execution_count": 173,
   "id": "671ebb91-8677-4ba8-ae97-05a0f460be01",
   "metadata": {},
   "outputs": [
    {
     "data": {
      "text/html": [
       "<div>\n",
       "<style scoped>\n",
       "    .dataframe tbody tr th:only-of-type {\n",
       "        vertical-align: middle;\n",
       "    }\n",
       "\n",
       "    .dataframe tbody tr th {\n",
       "        vertical-align: top;\n",
       "    }\n",
       "\n",
       "    .dataframe thead th {\n",
       "        text-align: right;\n",
       "    }\n",
       "</style>\n",
       "<table border=\"1\" class=\"dataframe\">\n",
       "  <thead>\n",
       "    <tr style=\"text-align: right;\">\n",
       "      <th></th>\n",
       "      <th>Unique Count</th>\n",
       "      <th>Null Count</th>\n",
       "      <th>Null Percentage</th>\n",
       "    </tr>\n",
       "  </thead>\n",
       "  <tbody>\n",
       "    <tr>\n",
       "      <th>VAERS_ID</th>\n",
       "      <td>822492</td>\n",
       "      <td>0</td>\n",
       "      <td>0.000000</td>\n",
       "    </tr>\n",
       "    <tr>\n",
       "      <th>STATE</th>\n",
       "      <td>64</td>\n",
       "      <td>0</td>\n",
       "      <td>0.000000</td>\n",
       "    </tr>\n",
       "    <tr>\n",
       "      <th>AGE_YRS</th>\n",
       "      <td>162</td>\n",
       "      <td>0</td>\n",
       "      <td>0.000000</td>\n",
       "    </tr>\n",
       "    <tr>\n",
       "      <th>SEX</th>\n",
       "      <td>3</td>\n",
       "      <td>85</td>\n",
       "      <td>0.005351</td>\n",
       "    </tr>\n",
       "    <tr>\n",
       "      <th>SYMPTOM_TEXT</th>\n",
       "      <td>804529</td>\n",
       "      <td>0</td>\n",
       "      <td>0.000000</td>\n",
       "    </tr>\n",
       "    <tr>\n",
       "      <th>DIED</th>\n",
       "      <td>2</td>\n",
       "      <td>0</td>\n",
       "      <td>0.000000</td>\n",
       "    </tr>\n",
       "    <tr>\n",
       "      <th>L_THREAT</th>\n",
       "      <td>2</td>\n",
       "      <td>0</td>\n",
       "      <td>0.000000</td>\n",
       "    </tr>\n",
       "    <tr>\n",
       "      <th>HOSPITAL</th>\n",
       "      <td>2</td>\n",
       "      <td>0</td>\n",
       "      <td>0.000000</td>\n",
       "    </tr>\n",
       "    <tr>\n",
       "      <th>HOSPDAYS</th>\n",
       "      <td>154</td>\n",
       "      <td>0</td>\n",
       "      <td>0.000000</td>\n",
       "    </tr>\n",
       "    <tr>\n",
       "      <th>DISABLE</th>\n",
       "      <td>2</td>\n",
       "      <td>0</td>\n",
       "      <td>0.000000</td>\n",
       "    </tr>\n",
       "    <tr>\n",
       "      <th>RECOVD</th>\n",
       "      <td>3</td>\n",
       "      <td>0</td>\n",
       "      <td>0.000000</td>\n",
       "    </tr>\n",
       "    <tr>\n",
       "      <th>VAX_DATE</th>\n",
       "      <td>5208</td>\n",
       "      <td>0</td>\n",
       "      <td>0.000000</td>\n",
       "    </tr>\n",
       "    <tr>\n",
       "      <th>ONSET_DATE</th>\n",
       "      <td>4460</td>\n",
       "      <td>0</td>\n",
       "      <td>0.000000</td>\n",
       "    </tr>\n",
       "    <tr>\n",
       "      <th>NUMDAYS</th>\n",
       "      <td>2074</td>\n",
       "      <td>0</td>\n",
       "      <td>0.000000</td>\n",
       "    </tr>\n",
       "    <tr>\n",
       "      <th>V_ADMINBY</th>\n",
       "      <td>9</td>\n",
       "      <td>0</td>\n",
       "      <td>0.000000</td>\n",
       "    </tr>\n",
       "    <tr>\n",
       "      <th>OTHER_MEDS</th>\n",
       "      <td>344388</td>\n",
       "      <td>0</td>\n",
       "      <td>0.000000</td>\n",
       "    </tr>\n",
       "    <tr>\n",
       "      <th>CUR_ILL</th>\n",
       "      <td>78067</td>\n",
       "      <td>0</td>\n",
       "      <td>0.000000</td>\n",
       "    </tr>\n",
       "    <tr>\n",
       "      <th>HISTORY</th>\n",
       "      <td>217694</td>\n",
       "      <td>0</td>\n",
       "      <td>0.000000</td>\n",
       "    </tr>\n",
       "    <tr>\n",
       "      <th>BIRTH_DEFECT</th>\n",
       "      <td>2</td>\n",
       "      <td>0</td>\n",
       "      <td>0.000000</td>\n",
       "    </tr>\n",
       "    <tr>\n",
       "      <th>ALLERGIES</th>\n",
       "      <td>154031</td>\n",
       "      <td>0</td>\n",
       "      <td>0.000000</td>\n",
       "    </tr>\n",
       "    <tr>\n",
       "      <th>ORDER_x</th>\n",
       "      <td>6</td>\n",
       "      <td>0</td>\n",
       "      <td>0.000000</td>\n",
       "    </tr>\n",
       "    <tr>\n",
       "      <th>VAX_TYPE</th>\n",
       "      <td>74</td>\n",
       "      <td>0</td>\n",
       "      <td>0.000000</td>\n",
       "    </tr>\n",
       "    <tr>\n",
       "      <th>VAX_MANU</th>\n",
       "      <td>31</td>\n",
       "      <td>0</td>\n",
       "      <td>0.000000</td>\n",
       "    </tr>\n",
       "    <tr>\n",
       "      <th>VAX_LOT</th>\n",
       "      <td>62913</td>\n",
       "      <td>398314</td>\n",
       "      <td>25.076713</td>\n",
       "    </tr>\n",
       "    <tr>\n",
       "      <th>VAX_DOSE_SERIES</th>\n",
       "      <td>8</td>\n",
       "      <td>26845</td>\n",
       "      <td>1.690085</td>\n",
       "    </tr>\n",
       "    <tr>\n",
       "      <th>VAX_ROUTE</th>\n",
       "      <td>9</td>\n",
       "      <td>284870</td>\n",
       "      <td>17.934603</td>\n",
       "    </tr>\n",
       "    <tr>\n",
       "      <th>VAX_SITE</th>\n",
       "      <td>11</td>\n",
       "      <td>272649</td>\n",
       "      <td>17.165203</td>\n",
       "    </tr>\n",
       "    <tr>\n",
       "      <th>VAX_NAME</th>\n",
       "      <td>177</td>\n",
       "      <td>0</td>\n",
       "      <td>0.000000</td>\n",
       "    </tr>\n",
       "    <tr>\n",
       "      <th>ORDER_y</th>\n",
       "      <td>8</td>\n",
       "      <td>0</td>\n",
       "      <td>0.000000</td>\n",
       "    </tr>\n",
       "    <tr>\n",
       "      <th>SYMPTOM1</th>\n",
       "      <td>8792</td>\n",
       "      <td>0</td>\n",
       "      <td>0.000000</td>\n",
       "    </tr>\n",
       "    <tr>\n",
       "      <th>SYMPTOM2</th>\n",
       "      <td>8555</td>\n",
       "      <td>0</td>\n",
       "      <td>0.000000</td>\n",
       "    </tr>\n",
       "    <tr>\n",
       "      <th>SYMPTOM3</th>\n",
       "      <td>8113</td>\n",
       "      <td>0</td>\n",
       "      <td>0.000000</td>\n",
       "    </tr>\n",
       "    <tr>\n",
       "      <th>SYMPTOM4</th>\n",
       "      <td>7458</td>\n",
       "      <td>0</td>\n",
       "      <td>0.000000</td>\n",
       "    </tr>\n",
       "    <tr>\n",
       "      <th>SYMPTOM5</th>\n",
       "      <td>7033</td>\n",
       "      <td>0</td>\n",
       "      <td>0.000000</td>\n",
       "    </tr>\n",
       "    <tr>\n",
       "      <th>ORDER</th>\n",
       "      <td>8</td>\n",
       "      <td>0</td>\n",
       "      <td>0.000000</td>\n",
       "    </tr>\n",
       "  </tbody>\n",
       "</table>\n",
       "</div>"
      ],
      "text/plain": [
       "                 Unique Count  Null Count  Null Percentage\n",
       "VAERS_ID               822492           0         0.000000\n",
       "STATE                      64           0         0.000000\n",
       "AGE_YRS                   162           0         0.000000\n",
       "SEX                         3          85         0.005351\n",
       "SYMPTOM_TEXT           804529           0         0.000000\n",
       "DIED                        2           0         0.000000\n",
       "L_THREAT                    2           0         0.000000\n",
       "HOSPITAL                    2           0         0.000000\n",
       "HOSPDAYS                  154           0         0.000000\n",
       "DISABLE                     2           0         0.000000\n",
       "RECOVD                      3           0         0.000000\n",
       "VAX_DATE                 5208           0         0.000000\n",
       "ONSET_DATE               4460           0         0.000000\n",
       "NUMDAYS                  2074           0         0.000000\n",
       "V_ADMINBY                   9           0         0.000000\n",
       "OTHER_MEDS             344388           0         0.000000\n",
       "CUR_ILL                 78067           0         0.000000\n",
       "HISTORY                217694           0         0.000000\n",
       "BIRTH_DEFECT                2           0         0.000000\n",
       "ALLERGIES              154031           0         0.000000\n",
       "ORDER_x                     6           0         0.000000\n",
       "VAX_TYPE                   74           0         0.000000\n",
       "VAX_MANU                   31           0         0.000000\n",
       "VAX_LOT                 62913      398314        25.076713\n",
       "VAX_DOSE_SERIES             8       26845         1.690085\n",
       "VAX_ROUTE                   9      284870        17.934603\n",
       "VAX_SITE                   11      272649        17.165203\n",
       "VAX_NAME                  177           0         0.000000\n",
       "ORDER_y                     8           0         0.000000\n",
       "SYMPTOM1                 8792           0         0.000000\n",
       "SYMPTOM2                 8555           0         0.000000\n",
       "SYMPTOM3                 8113           0         0.000000\n",
       "SYMPTOM4                 7458           0         0.000000\n",
       "SYMPTOM5                 7033           0         0.000000\n",
       "ORDER                       8           0         0.000000"
      ]
     },
     "execution_count": 173,
     "metadata": {},
     "output_type": "execute_result"
    }
   ],
   "source": [
    "\n",
    "sanity_check(vaers_df)"
   ]
  },
  {
   "cell_type": "code",
   "execution_count": 174,
   "id": "eec17eec-2769-4f9b-bb70-830c13061847",
   "metadata": {},
   "outputs": [
    {
     "data": {
      "image/png": "[encoded data removed]",
      "text/plain": [
       "<Figure size 2000x200 with 2 Axes>"
      ]
     },
     "metadata": {},
     "output_type": "display_data"
    }
   ],
   "source": [
    "from scipy.stats import probplot,skew\n",
    "fig, axes = plt.subplots(1, 2, figsize=(20,2))\n",
    "sns.distplot(vaers_df['AGE_YRS'],kde=True, ax=axes[0])\n",
    "sns.boxplot(vaers_df['AGE_YRS'], ax=axes[1])\n",
    "axes[1].set_yticklabels([])\n",
    "axes[1].set_yticks([])\n",
    "axes[0].set_title('Age Distplot')\n",
    "axes[1].set_title('Age Boxplot')\n",
    "plt.show()"
   ]
  },
  {
   "cell_type": "code",
   "execution_count": 175,
   "id": "c990bcd6-15cc-4671-b34b-179b6781c6ed",
   "metadata": {},
   "outputs": [],
   "source": [
    "# Filter the dataframe for ages between 5 and 90 years\n",
    "vaers_df = vaers_df[(vaers_df['AGE_YRS'] >= 5) & (vaers_df['AGE_YRS'] <= 90)]"
   ]
  },
  {
   "cell_type": "code",
   "execution_count": 176,
   "id": "5660de70-8ca6-4bcb-be0d-c9f573269046",
   "metadata": {},
   "outputs": [
    {
     "data": {
      "text/plain": [
       "<Axes: title={'center': 'vaccine route of administration'}, xlabel='VAX_ROUTE'>"
      ]
     },
     "execution_count": 176,
     "metadata": {},
     "output_type": "execute_result"
    },
    {
     "data": {
      "image/png": "[encoded data removed]",
      "text/plain": [
       "<Figure size 1000x800 with 1 Axes>"
      ]
     },
     "metadata": {},
     "output_type": "display_data"
    }
   ],
   "source": [
    "plt.figure(figsize=(10,8))\n",
    "route = vaers_df['VAX_ROUTE'].value_counts().sort_values(ascending=False)[:5]\n",
    "route.plot(kind='bar', title='vaccine route of administration')"
   ]
  },
  {
   "cell_type": "code",
   "execution_count": 177,
   "id": "3e5997e7-0bfa-4008-8ee6-9920a2482453",
   "metadata": {},
   "outputs": [
    {
     "data": {
      "text/plain": [
       "<Axes: title={'center': 'Vacination Site '}, ylabel='VAX_SITE'>"
      ]
     },
     "execution_count": 177,
     "metadata": {},
     "output_type": "execute_result"
    },
    {
     "data": {
      "image/png": "[encoded data removed]",
      "text/plain": [
       "<Figure size 1000x800 with 1 Axes>"
      ]
     },
     "metadata": {},
     "output_type": "display_data"
    }
   ],
   "source": [
    "\n",
    "plt.figure(figsize=(10,8))\n",
    "site = vaers_df['VAX_SITE'].value_counts().sort_values(ascending=True)[-5:]\n",
    "site.plot(kind='barh', title='Vacination Site ')"
   ]
  },
  {
   "cell_type": "code",
   "execution_count": 178,
   "id": "5fdb50e0-0b4b-4a20-a26a-b5f2c6e035b5",
   "metadata": {},
   "outputs": [
    {
     "data": {
      "text/plain": [
       "<Axes: title={'center': 'Lot number of the vaccines'}, ylabel='VAX_LOT'>"
      ]
     },
     "execution_count": 178,
     "metadata": {},
     "output_type": "execute_result"
    },
    {
     "data": {
      "image/png": "[encoded data removed]",
      "text/plain": [
       "<Figure size 1000x800 with 1 Axes>"
      ]
     },
     "metadata": {},
     "output_type": "display_data"
    }
   ],
   "source": [
    "plt.figure(figsize=(10,8))\n",
    "lot = vaers_df['VAX_LOT'].value_counts().sort_values(ascending=True)[-5:]\n",
    "lot.plot(kind='barh', title='Lot number of the vaccines')"
   ]
  },
  {
   "cell_type": "code",
   "execution_count": 179,
   "id": "b41535ed-db74-4f01-bca8-668fea385767",
   "metadata": {},
   "outputs": [
    {
     "data": {
      "application/vnd.plotly.v1+json": {
       "config": {
        "plotlyServerURL": "https://plot.ly"
       },
       "data": [
        {
         "labels": [
          "PHM",
          "PVT",
          "UNK",
          "OTH",
          "PUB",
          "WRK",
          "MIL",
          "SCH",
          "SEN"
         ],
         "textinfo": "label+percent",
         "type": "pie",
         "values": [
          429592,
          428364,
          248840,
          143443,
          138644,
          49505,
          23527,
          22458,
          16929
         ]
        }
       ],
       "layout": {
        "autosize": true,
        "template": {
         "data": {
          "bar": [
           {
            "error_x": {
             "color": "#2a3f5f"
            },
            "error_y": {
             "color": "#2a3f5f"
            },
            "marker": {
             "line": {
              "color": "#E5ECF6",
              "width": 0.5
             },
             "pattern": {
              "fillmode": "overlay",
              "size": 10,
              "solidity": 0.2
             }
            },
            "type": "bar"
           }
          ],
          "barpolar": [
           {
            "marker": {
             "line": {
              "color": "#E5ECF6",
              "width": 0.5
             },
             "pattern": {
              "fillmode": "overlay",
              "size": 10,
              "solidity": 0.2
             }
            },
            "type": "barpolar"
           }
          ],
          "carpet": [
           {
            "aaxis": {
             "endlinecolor": "#2a3f5f",
             "gridcolor": "white",
             "linecolor": "white",
             "minorgridcolor": "white",
             "startlinecolor": "#2a3f5f"
            },
            "baxis": {
             "endlinecolor": "#2a3f5f",
             "gridcolor": "white",
             "linecolor": "white",
             "minorgridcolor": "white",
             "startlinecolor": "#2a3f5f"
            },
            "type": "carpet"
           }
          ],
          "choropleth": [
           {
            "colorbar": {
             "outlinewidth": 0,
             "ticks": ""
            },
            "type": "choropleth"
           }
          ],
          "contour": [
           {
            "colorbar": {
             "outlinewidth": 0,
             "ticks": ""
            },
            "colorscale": [
             [
              0,
              "#0d0887"
             ],
             [
              0.1111111111111111,
              "#46039f"
             ],
             [
              0.2222222222222222,
              "#7201a8"
             ],
             [
              0.3333333333333333,
              "#9c179e"
             ],
             [
              0.4444444444444444,
              "#bd3786"
             ],
             [
              0.5555555555555556,
              "#d8576b"
             ],
             [
              0.6666666666666666,
              "#ed7953"
             ],
             [
              0.7777777777777778,
              "#fb9f3a"
             ],
             [
              0.8888888888888888,
              "#fdca26"
             ],
             [
              1,
              "#f0f921"
             ]
            ],
            "type": "contour"
           }
          ],
          "contourcarpet": [
           {
            "colorbar": {
             "outlinewidth": 0,
             "ticks": ""
            },
            "type": "contourcarpet"
           }
          ],
          "heatmap": [
           {
            "colorbar": {
             "outlinewidth": 0,
             "ticks": ""
            },
            "colorscale": [
             [
              0,
              "#0d0887"
             ],
             [
              0.1111111111111111,
              "#46039f"
             ],
             [
              0.2222222222222222,
              "#7201a8"
             ],
             [
              0.3333333333333333,
              "#9c179e"
             ],
             [
              0.4444444444444444,
              "#bd3786"
             ],
             [
              0.5555555555555556,
              "#d8576b"
             ],
             [
              0.6666666666666666,
              "#ed7953"
             ],
             [
              0.7777777777777778,
              "#fb9f3a"
             ],
             [
              0.8888888888888888,
              "#fdca26"
             ],
             [
              1,
              "#f0f921"
             ]
            ],
            "type": "heatmap"
           }
          ],
          "heatmapgl": [
           {
            "colorbar": {
             "outlinewidth": 0,
             "ticks": ""
            },
            "colorscale": [
             [
              0,
              "#0d0887"
             ],
             [
              0.1111111111111111,
              "#46039f"
             ],
             [
              0.2222222222222222,
              "#7201a8"
             ],
             [
              0.3333333333333333,
              "#9c179e"
             ],
             [
              0.4444444444444444,
              "#bd3786"
             ],
             [
              0.5555555555555556,
              "#d8576b"
             ],
             [
              0.6666666666666666,
              "#ed7953"
             ],
             [
              0.7777777777777778,
              "#fb9f3a"
             ],
             [
              0.8888888888888888,
              "#fdca26"
             ],
             [
              1,
              "#f0f921"
             ]
            ],
            "type": "heatmapgl"
           }
          ],
          "histogram": [
           {
            "marker": {
             "pattern": {
              "fillmode": "overlay",
              "size": 10,
              "solidity": 0.2
             }
            },
            "type": "histogram"
           }
          ],
          "histogram2d": [
           {
            "colorbar": {
             "outlinewidth": 0,
             "ticks": ""
            },
            "colorscale": [
             [
              0,
              "#0d0887"
             ],
             [
              0.1111111111111111,
              "#46039f"
             ],
             [
              0.2222222222222222,
              "#7201a8"
             ],
             [
              0.3333333333333333,
              "#9c179e"
             ],
             [
              0.4444444444444444,
              "#bd3786"
             ],
             [
              0.5555555555555556,
              "#d8576b"
             ],
             [
              0.6666666666666666,
              "#ed7953"
             ],
             [
              0.7777777777777778,
              "#fb9f3a"
             ],
             [
              0.8888888888888888,
              "#fdca26"
             ],
             [
              1,
              "#f0f921"
             ]
            ],
            "type": "histogram2d"
           }
          ],
          "histogram2dcontour": [
           {
            "colorbar": {
             "outlinewidth": 0,
             "ticks": ""
            },
            "colorscale": [
             [
              0,
              "#0d0887"
             ],
             [
              0.1111111111111111,
              "#46039f"
             ],
             [
              0.2222222222222222,
              "#7201a8"
             ],
             [
              0.3333333333333333,
              "#9c179e"
             ],
             [
              0.4444444444444444,
              "#bd3786"
             ],
             [
              0.5555555555555556,
              "#d8576b"
             ],
             [
              0.6666666666666666,
              "#ed7953"
             ],
             [
              0.7777777777777778,
              "#fb9f3a"
             ],
             [
              0.8888888888888888,
              "#fdca26"
             ],
             [
              1,
              "#f0f921"
             ]
            ],
            "type": "histogram2dcontour"
           }
          ],
          "mesh3d": [
           {
            "colorbar": {
             "outlinewidth": 0,
             "ticks": ""
            },
            "type": "mesh3d"
           }
          ],
          "parcoords": [
           {
            "line": {
             "colorbar": {
              "outlinewidth": 0,
              "ticks": ""
             }
            },
            "type": "parcoords"
           }
          ],
          "pie": [
           {
            "automargin": true,
            "type": "pie"
           }
          ],
          "scatter": [
           {
            "fillpattern": {
             "fillmode": "overlay",
             "size": 10,
             "solidity": 0.2
            },
            "type": "scatter"
           }
          ],
          "scatter3d": [
           {
            "line": {
             "colorbar": {
              "outlinewidth": 0,
              "ticks": ""
             }
            },
            "marker": {
             "colorbar": {
              "outlinewidth": 0,
              "ticks": ""
             }
            },
            "type": "scatter3d"
           }
          ],
          "scattercarpet": [
           {
            "marker": {
             "colorbar": {
              "outlinewidth": 0,
              "ticks": ""
             }
            },
            "type": "scattercarpet"
           }
          ],
          "scattergeo": [
           {
            "marker": {
             "colorbar": {
              "outlinewidth": 0,
              "ticks": ""
             }
            },
            "type": "scattergeo"
           }
          ],
          "scattergl": [
           {
            "marker": {
             "colorbar": {
              "outlinewidth": 0,
              "ticks": ""
             }
            },
            "type": "scattergl"
           }
          ],
          "scattermapbox": [
           {
            "marker": {
             "colorbar": {
              "outlinewidth": 0,
              "ticks": ""
             }
            },
            "type": "scattermapbox"
           }
          ],
          "scatterpolar": [
           {
            "marker": {
             "colorbar": {
              "outlinewidth": 0,
              "ticks": ""
             }
            },
            "type": "scatterpolar"
           }
          ],
          "scatterpolargl": [
           {
            "marker": {
             "colorbar": {
              "outlinewidth": 0,
              "ticks": ""
             }
            },
            "type": "scatterpolargl"
           }
          ],
          "scatterternary": [
           {
            "marker": {
             "colorbar": {
              "outlinewidth": 0,
              "ticks": ""
             }
            },
            "type": "scatterternary"
           }
          ],
          "surface": [
           {
            "colorbar": {
             "outlinewidth": 0,
             "ticks": ""
            },
            "colorscale": [
             [
              0,
              "#0d0887"
             ],
             [
              0.1111111111111111,
              "#46039f"
             ],
             [
              0.2222222222222222,
              "#7201a8"
             ],
             [
              0.3333333333333333,
              "#9c179e"
             ],
             [
              0.4444444444444444,
              "#bd3786"
             ],
             [
              0.5555555555555556,
              "#d8576b"
             ],
             [
              0.6666666666666666,
              "#ed7953"
             ],
             [
              0.7777777777777778,
              "#fb9f3a"
             ],
             [
              0.8888888888888888,
              "#fdca26"
             ],
             [
              1,
              "#f0f921"
             ]
            ],
            "type": "surface"
           }
          ],
          "table": [
           {
            "cells": {
             "fill": {
              "color": "#EBF0F8"
             },
             "line": {
              "color": "white"
             }
            },
            "header": {
             "fill": {
              "color": "#C8D4E3"
             },
             "line": {
              "color": "white"
             }
            },
            "type": "table"
           }
          ]
         },
         "layout": {
          "annotationdefaults": {
           "arrowcolor": "#2a3f5f",
           "arrowhead": 0,
           "arrowwidth": 1
          },
          "autotypenumbers": "strict",
          "coloraxis": {
           "colorbar": {
            "outlinewidth": 0,
            "ticks": ""
           }
          },
          "colorscale": {
           "diverging": [
            [
             0,
             "#8e0152"
            ],
            [
             0.1,
             "#c51b7d"
            ],
            [
             0.2,
             "#de77ae"
            ],
            [
             0.3,
             "#f1b6da"
            ],
            [
             0.4,
             "#fde0ef"
            ],
            [
             0.5,
             "#f7f7f7"
            ],
            [
             0.6,
             "#e6f5d0"
            ],
            [
             0.7,
             "#b8e186"
            ],
            [
             0.8,
             "#7fbc41"
            ],
            [
             0.9,
             "#4d9221"
            ],
            [
             1,
             "#276419"
            ]
           ],
           "sequential": [
            [
             0,
             "#0d0887"
            ],
            [
             0.1111111111111111,
             "#46039f"
            ],
            [
             0.2222222222222222,
             "#7201a8"
            ],
            [
             0.3333333333333333,
             "#9c179e"
            ],
            [
             0.4444444444444444,
             "#bd3786"
            ],
            [
             0.5555555555555556,
             "#d8576b"
            ],
            [
             0.6666666666666666,
             "#ed7953"
            ],
            [
             0.7777777777777778,
             "#fb9f3a"
            ],
            [
             0.8888888888888888,
             "#fdca26"
            ],
            [
             1,
             "#f0f921"
            ]
           ],
           "sequentialminus": [
            [
             0,
             "#0d0887"
            ],
            [
             0.1111111111111111,
             "#46039f"
            ],
            [
             0.2222222222222222,
             "#7201a8"
            ],
            [
             0.3333333333333333,
             "#9c179e"
            ],
            [
             0.4444444444444444,
             "#bd3786"
            ],
            [
             0.5555555555555556,
             "#d8576b"
            ],
            [
             0.6666666666666666,
             "#ed7953"
            ],
            [
             0.7777777777777778,
             "#fb9f3a"
            ],
            [
             0.8888888888888888,
             "#fdca26"
            ],
            [
             1,
             "#f0f921"
            ]
           ]
          },
          "colorway": [
           "#636efa",
           "#EF553B",
           "#00cc96",
           "#ab63fa",
           "#FFA15A",
           "#19d3f3",
           "#FF6692",
           "#B6E880",
           "#FF97FF",
           "#FECB52"
          ],
          "font": {
           "color": "#2a3f5f"
          },
          "geo": {
           "bgcolor": "white",
           "lakecolor": "white",
           "landcolor": "#E5ECF6",
           "showlakes": true,
           "showland": true,
           "subunitcolor": "white"
          },
          "hoverlabel": {
           "align": "left"
          },
          "hovermode": "closest",
          "mapbox": {
           "style": "light"
          },
          "paper_bgcolor": "white",
          "plot_bgcolor": "#E5ECF6",
          "polar": {
           "angularaxis": {
            "gridcolor": "white",
            "linecolor": "white",
            "ticks": ""
           },
           "bgcolor": "#E5ECF6",
           "radialaxis": {
            "gridcolor": "white",
            "linecolor": "white",
            "ticks": ""
           }
          },
          "scene": {
           "xaxis": {
            "backgroundcolor": "#E5ECF6",
            "gridcolor": "white",
            "gridwidth": 2,
            "linecolor": "white",
            "showbackground": true,
            "ticks": "",
            "zerolinecolor": "white"
           },
           "yaxis": {
            "backgroundcolor": "#E5ECF6",
            "gridcolor": "white",
            "gridwidth": 2,
            "linecolor": "white",
            "showbackground": true,
            "ticks": "",
            "zerolinecolor": "white"
           },
           "zaxis": {
            "backgroundcolor": "#E5ECF6",
            "gridcolor": "white",
            "gridwidth": 2,
            "linecolor": "white",
            "showbackground": true,
            "ticks": "",
            "zerolinecolor": "white"
           }
          },
          "shapedefaults": {
           "line": {
            "color": "#2a3f5f"
           }
          },
          "ternary": {
           "aaxis": {
            "gridcolor": "white",
            "linecolor": "white",
            "ticks": ""
           },
           "baxis": {
            "gridcolor": "white",
            "linecolor": "white",
            "ticks": ""
           },
           "bgcolor": "#E5ECF6",
           "caxis": {
            "gridcolor": "white",
            "linecolor": "white",
            "ticks": ""
           }
          },
          "title": {
           "x": 0.05
          },
          "xaxis": {
           "automargin": true,
           "gridcolor": "white",
           "linecolor": "white",
           "ticks": "",
           "title": {
            "standoff": 15
           },
           "zerolinecolor": "white",
           "zerolinewidth": 2
          },
          "yaxis": {
           "automargin": true,
           "gridcolor": "white",
           "linecolor": "white",
           "ticks": "",
           "title": {
            "standoff": 15
           },
           "zerolinecolor": "white",
           "zerolinewidth": 2
          }
         }
        }
       }
      },
      "image/png": "[encoded data removed]",
      "text/html": [
       "<div>                            <div id=\"95d0bd56-8f09-4253-ad74-d82235a5fd13\" class=\"plotly-graph-div\" style=\"height:525px; width:100%;\"></div>            <script type=\"text/javascript\">                require([\"plotly\"], function(Plotly) {                    window.PLOTLYENV=window.PLOTLYENV || {};                                    if (document.getElementById(\"95d0bd56-8f09-4253-ad74-d82235a5fd13\")) {                    Plotly.newPlot(                        \"95d0bd56-8f09-4253-ad74-d82235a5fd13\",                        [{\"labels\":[\"PHM\",\"PVT\",\"UNK\",\"OTH\",\"PUB\",\"WRK\",\"MIL\",\"SCH\",\"SEN\"],\"textinfo\":\"label+percent\",\"values\":[429592,428364,248840,143443,138644,49505,23527,22458,16929],\"type\":\"pie\"}],                        {\"template\":{\"data\":{\"histogram2dcontour\":[{\"type\":\"histogram2dcontour\",\"colorbar\":{\"outlinewidth\":0,\"ticks\":\"\"},\"colorscale\":[[0.0,\"#0d0887\"],[0.1111111111111111,\"#46039f\"],[0.2222222222222222,\"#7201a8\"],[0.3333333333333333,\"#9c179e\"],[0.4444444444444444,\"#bd3786\"],[0.5555555555555556,\"#d8576b\"],[0.6666666666666666,\"#ed7953\"],[0.7777777777777778,\"#fb9f3a\"],[0.8888888888888888,\"#fdca26\"],[1.0,\"#f0f921\"]]}],\"choropleth\":[{\"type\":\"choropleth\",\"colorbar\":{\"outlinewidth\":0,\"ticks\":\"\"}}],\"histogram2d\":[{\"type\":\"histogram2d\",\"colorbar\":{\"outlinewidth\":0,\"ticks\":\"\"},\"colorscale\":[[0.0,\"#0d0887\"],[0.1111111111111111,\"#46039f\"],[0.2222222222222222,\"#7201a8\"],[0.3333333333333333,\"#9c179e\"],[0.4444444444444444,\"#bd3786\"],[0.5555555555555556,\"#d8576b\"],[0.6666666666666666,\"#ed7953\"],[0.7777777777777778,\"#fb9f3a\"],[0.8888888888888888,\"#fdca26\"],[1.0,\"#f0f921\"]]}],\"heatmap\":[{\"type\":\"heatmap\",\"colorbar\":{\"outlinewidth\":0,\"ticks\":\"\"},\"colorscale\":[[0.0,\"#0d0887\"],[0.1111111111111111,\"#46039f\"],[0.2222222222222222,\"#7201a8\"],[0.3333333333333333,\"#9c179e\"],[0.4444444444444444,\"#bd3786\"],[0.5555555555555556,\"#d8576b\"],[0.6666666666666666,\"#ed7953\"],[0.7777777777777778,\"#fb9f3a\"],[0.8888888888888888,\"#fdca26\"],[1.0,\"#f0f921\"]]}],\"heatmapgl\":[{\"type\":\"heatmapgl\",\"colorbar\":{\"outlinewidth\":0,\"ticks\":\"\"},\"colorscale\":[[0.0,\"#0d0887\"],[0.1111111111111111,\"#46039f\"],[0.2222222222222222,\"#7201a8\"],[0.3333333333333333,\"#9c179e\"],[0.4444444444444444,\"#bd3786\"],[0.5555555555555556,\"#d8576b\"],[0.6666666666666666,\"#ed7953\"],[0.7777777777777778,\"#fb9f3a\"],[0.8888888888888888,\"#fdca26\"],[1.0,\"#f0f921\"]]}],\"contourcarpet\":[{\"type\":\"contourcarpet\",\"colorbar\":{\"outlinewidth\":0,\"ticks\":\"\"}}],\"contour\":[{\"type\":\"contour\",\"colorbar\":{\"outlinewidth\":0,\"ticks\":\"\"},\"colorscale\":[[0.0,\"#0d0887\"],[0.1111111111111111,\"#46039f\"],[0.2222222222222222,\"#7201a8\"],[0.3333333333333333,\"#9c179e\"],[0.4444444444444444,\"#bd3786\"],[0.5555555555555556,\"#d8576b\"],[0.6666666666666666,\"#ed7953\"],[0.7777777777777778,\"#fb9f3a\"],[0.8888888888888888,\"#fdca26\"],[1.0,\"#f0f921\"]]}],\"surface\":[{\"type\":\"surface\",\"colorbar\":{\"outlinewidth\":0,\"ticks\":\"\"},\"colorscale\":[[0.0,\"#0d0887\"],[0.1111111111111111,\"#46039f\"],[0.2222222222222222,\"#7201a8\"],[0.3333333333333333,\"#9c179e\"],[0.4444444444444444,\"#bd3786\"],[0.5555555555555556,\"#d8576b\"],[0.6666666666666666,\"#ed7953\"],[0.7777777777777778,\"#fb9f3a\"],[0.8888888888888888,\"#fdca26\"],[1.0,\"#f0f921\"]]}],\"mesh3d\":[{\"type\":\"mesh3d\",\"colorbar\":{\"outlinewidth\":0,\"ticks\":\"\"}}],\"scatter\":[{\"fillpattern\":{\"fillmode\":\"overlay\",\"size\":10,\"solidity\":0.2},\"type\":\"scatter\"}],\"parcoords\":[{\"type\":\"parcoords\",\"line\":{\"colorbar\":{\"outlinewidth\":0,\"ticks\":\"\"}}}],\"scatterpolargl\":[{\"type\":\"scatterpolargl\",\"marker\":{\"colorbar\":{\"outlinewidth\":0,\"ticks\":\"\"}}}],\"bar\":[{\"error_x\":{\"color\":\"#2a3f5f\"},\"error_y\":{\"color\":\"#2a3f5f\"},\"marker\":{\"line\":{\"color\":\"#E5ECF6\",\"width\":0.5},\"pattern\":{\"fillmode\":\"overlay\",\"size\":10,\"solidity\":0.2}},\"type\":\"bar\"}],\"scattergeo\":[{\"type\":\"scattergeo\",\"marker\":{\"colorbar\":{\"outlinewidth\":0,\"ticks\":\"\"}}}],\"scatterpolar\":[{\"type\":\"scatterpolar\",\"marker\":{\"colorbar\":{\"outlinewidth\":0,\"ticks\":\"\"}}}],\"histogram\":[{\"marker\":{\"pattern\":{\"fillmode\":\"overlay\",\"size\":10,\"solidity\":0.2}},\"type\":\"histogram\"}],\"scattergl\":[{\"type\":\"scattergl\",\"marker\":{\"colorbar\":{\"outlinewidth\":0,\"ticks\":\"\"}}}],\"scatter3d\":[{\"type\":\"scatter3d\",\"line\":{\"colorbar\":{\"outlinewidth\":0,\"ticks\":\"\"}},\"marker\":{\"colorbar\":{\"outlinewidth\":0,\"ticks\":\"\"}}}],\"scattermapbox\":[{\"type\":\"scattermapbox\",\"marker\":{\"colorbar\":{\"outlinewidth\":0,\"ticks\":\"\"}}}],\"scatterternary\":[{\"type\":\"scatterternary\",\"marker\":{\"colorbar\":{\"outlinewidth\":0,\"ticks\":\"\"}}}],\"scattercarpet\":[{\"type\":\"scattercarpet\",\"marker\":{\"colorbar\":{\"outlinewidth\":0,\"ticks\":\"\"}}}],\"carpet\":[{\"aaxis\":{\"endlinecolor\":\"#2a3f5f\",\"gridcolor\":\"white\",\"linecolor\":\"white\",\"minorgridcolor\":\"white\",\"startlinecolor\":\"#2a3f5f\"},\"baxis\":{\"endlinecolor\":\"#2a3f5f\",\"gridcolor\":\"white\",\"linecolor\":\"white\",\"minorgridcolor\":\"white\",\"startlinecolor\":\"#2a3f5f\"},\"type\":\"carpet\"}],\"table\":[{\"cells\":{\"fill\":{\"color\":\"#EBF0F8\"},\"line\":{\"color\":\"white\"}},\"header\":{\"fill\":{\"color\":\"#C8D4E3\"},\"line\":{\"color\":\"white\"}},\"type\":\"table\"}],\"barpolar\":[{\"marker\":{\"line\":{\"color\":\"#E5ECF6\",\"width\":0.5},\"pattern\":{\"fillmode\":\"overlay\",\"size\":10,\"solidity\":0.2}},\"type\":\"barpolar\"}],\"pie\":[{\"automargin\":true,\"type\":\"pie\"}]},\"layout\":{\"autotypenumbers\":\"strict\",\"colorway\":[\"#636efa\",\"#EF553B\",\"#00cc96\",\"#ab63fa\",\"#FFA15A\",\"#19d3f3\",\"#FF6692\",\"#B6E880\",\"#FF97FF\",\"#FECB52\"],\"font\":{\"color\":\"#2a3f5f\"},\"hovermode\":\"closest\",\"hoverlabel\":{\"align\":\"left\"},\"paper_bgcolor\":\"white\",\"plot_bgcolor\":\"#E5ECF6\",\"polar\":{\"bgcolor\":\"#E5ECF6\",\"angularaxis\":{\"gridcolor\":\"white\",\"linecolor\":\"white\",\"ticks\":\"\"},\"radialaxis\":{\"gridcolor\":\"white\",\"linecolor\":\"white\",\"ticks\":\"\"}},\"ternary\":{\"bgcolor\":\"#E5ECF6\",\"aaxis\":{\"gridcolor\":\"white\",\"linecolor\":\"white\",\"ticks\":\"\"},\"baxis\":{\"gridcolor\":\"white\",\"linecolor\":\"white\",\"ticks\":\"\"},\"caxis\":{\"gridcolor\":\"white\",\"linecolor\":\"white\",\"ticks\":\"\"}},\"coloraxis\":{\"colorbar\":{\"outlinewidth\":0,\"ticks\":\"\"}},\"colorscale\":{\"sequential\":[[0.0,\"#0d0887\"],[0.1111111111111111,\"#46039f\"],[0.2222222222222222,\"#7201a8\"],[0.3333333333333333,\"#9c179e\"],[0.4444444444444444,\"#bd3786\"],[0.5555555555555556,\"#d8576b\"],[0.6666666666666666,\"#ed7953\"],[0.7777777777777778,\"#fb9f3a\"],[0.8888888888888888,\"#fdca26\"],[1.0,\"#f0f921\"]],\"sequentialminus\":[[0.0,\"#0d0887\"],[0.1111111111111111,\"#46039f\"],[0.2222222222222222,\"#7201a8\"],[0.3333333333333333,\"#9c179e\"],[0.4444444444444444,\"#bd3786\"],[0.5555555555555556,\"#d8576b\"],[0.6666666666666666,\"#ed7953\"],[0.7777777777777778,\"#fb9f3a\"],[0.8888888888888888,\"#fdca26\"],[1.0,\"#f0f921\"]],\"diverging\":[[0,\"#8e0152\"],[0.1,\"#c51b7d\"],[0.2,\"#de77ae\"],[0.3,\"#f1b6da\"],[0.4,\"#fde0ef\"],[0.5,\"#f7f7f7\"],[0.6,\"#e6f5d0\"],[0.7,\"#b8e186\"],[0.8,\"#7fbc41\"],[0.9,\"#4d9221\"],[1,\"#276419\"]]},\"xaxis\":{\"gridcolor\":\"white\",\"linecolor\":\"white\",\"ticks\":\"\",\"title\":{\"standoff\":15},\"zerolinecolor\":\"white\",\"automargin\":true,\"zerolinewidth\":2},\"yaxis\":{\"gridcolor\":\"white\",\"linecolor\":\"white\",\"ticks\":\"\",\"title\":{\"standoff\":15},\"zerolinecolor\":\"white\",\"automargin\":true,\"zerolinewidth\":2},\"scene\":{\"xaxis\":{\"backgroundcolor\":\"#E5ECF6\",\"gridcolor\":\"white\",\"linecolor\":\"white\",\"showbackground\":true,\"ticks\":\"\",\"zerolinecolor\":\"white\",\"gridwidth\":2},\"yaxis\":{\"backgroundcolor\":\"#E5ECF6\",\"gridcolor\":\"white\",\"linecolor\":\"white\",\"showbackground\":true,\"ticks\":\"\",\"zerolinecolor\":\"white\",\"gridwidth\":2},\"zaxis\":{\"backgroundcolor\":\"#E5ECF6\",\"gridcolor\":\"white\",\"linecolor\":\"white\",\"showbackground\":true,\"ticks\":\"\",\"zerolinecolor\":\"white\",\"gridwidth\":2}},\"shapedefaults\":{\"line\":{\"color\":\"#2a3f5f\"}},\"annotationdefaults\":{\"arrowcolor\":\"#2a3f5f\",\"arrowhead\":0,\"arrowwidth\":1},\"geo\":{\"bgcolor\":\"white\",\"landcolor\":\"#E5ECF6\",\"subunitcolor\":\"white\",\"showland\":true,\"showlakes\":true,\"lakecolor\":\"white\"},\"title\":{\"x\":0.05},\"mapbox\":{\"style\":\"light\"}}}},                        {\"responsive\": true}                    ).then(function(){\n",
       "                            \n",
       "var gd = document.getElementById('95d0bd56-8f09-4253-ad74-d82235a5fd13');\n",
       "var x = new MutationObserver(function (mutations, observer) {{\n",
       "        var display = window.getComputedStyle(gd).display;\n",
       "        if (!display || display === 'none') {{\n",
       "            console.log([gd, 'removed!']);\n",
       "            Plotly.purge(gd);\n",
       "            observer.disconnect();\n",
       "        }}\n",
       "}});\n",
       "\n",
       "// Listen for the removal of the full notebook cells\n",
       "var notebookContainer = gd.closest('#notebook-container');\n",
       "if (notebookContainer) {{\n",
       "    x.observe(notebookContainer, {childList: true});\n",
       "}}\n",
       "\n",
       "// Listen for the clearing of the current output cell\n",
       "var outputEl = gd.closest('.output');\n",
       "if (outputEl) {{\n",
       "    x.observe(outputEl, {childList: true});\n",
       "}}\n",
       "\n",
       "                        })                };                });            </script>        </div>"
      ]
     },
     "metadata": {},
     "output_type": "display_data"
    }
   ],
   "source": [
    "# Where was the vaccine given/administered\n",
    "\n",
    "import plotly.graph_objects as go\n",
    "g_index = vaers_df['V_ADMINBY'].value_counts().index\n",
    "g_value = vaers_df['V_ADMINBY'].value_counts().values\n",
    "fig = go.Figure(data=[go.Pie(labels=g_index,values=g_value,textinfo = 'label + percent')])\n",
    "fig.show()"
   ]
  },
  {
   "cell_type": "code",
   "execution_count": 180,
   "id": "f69368d6-14b4-4582-bf86-2a605b8b3078",
   "metadata": {},
   "outputs": [
    {
     "data": {
      "text/plain": [
       "<Axes: title={'center': 'Lot number of the vaccines'}, xlabel='VAX_DOSE_SERIES'>"
      ]
     },
     "execution_count": 180,
     "metadata": {},
     "output_type": "execute_result"
    },
    {
     "data": {
      "image/png": "[encoded data removed]",
      "text/plain": [
       "<Figure size 1000x800 with 1 Axes>"
      ]
     },
     "metadata": {},
     "output_type": "display_data"
    }
   ],
   "source": [
    "plt.figure(figsize=(10,8))\n",
    "lot = vaers_df['VAX_DOSE_SERIES'].value_counts().sort_values(ascending=False)[-10:]\n",
    "lot.plot(kind='bar', title='Lot number of the vaccines')"
   ]
  },
  {
   "cell_type": "markdown",
   "id": "704ceda4-260a-4345-8342-d44a5678a1b5",
   "metadata": {},
   "source": [
    "## From the above we found that there is no significant information which we can use for further analysis so we are dropping the columns"
   ]
  },
  {
   "cell_type": "code",
   "execution_count": 182,
   "id": "06e35d15-e64f-4006-b367-c488d1ec3acb",
   "metadata": {},
   "outputs": [
    {
     "data": {
      "text/html": [
       "<div>\n",
       "<style scoped>\n",
       "    .dataframe tbody tr th:only-of-type {\n",
       "        vertical-align: middle;\n",
       "    }\n",
       "\n",
       "    .dataframe tbody tr th {\n",
       "        vertical-align: top;\n",
       "    }\n",
       "\n",
       "    .dataframe thead th {\n",
       "        text-align: right;\n",
       "    }\n",
       "</style>\n",
       "<table border=\"1\" class=\"dataframe\">\n",
       "  <thead>\n",
       "    <tr style=\"text-align: right;\">\n",
       "      <th></th>\n",
       "      <th>VAERS_ID</th>\n",
       "      <th>STATE</th>\n",
       "      <th>AGE_YRS</th>\n",
       "      <th>SEX</th>\n",
       "      <th>SYMPTOM_TEXT</th>\n",
       "      <th>DIED</th>\n",
       "      <th>L_THREAT</th>\n",
       "      <th>HOSPITAL</th>\n",
       "      <th>HOSPDAYS</th>\n",
       "      <th>DISABLE</th>\n",
       "      <th>...</th>\n",
       "      <th>VAX_TYPE</th>\n",
       "      <th>VAX_MANU</th>\n",
       "      <th>VAX_NAME</th>\n",
       "      <th>ORDER_y</th>\n",
       "      <th>SYMPTOM1</th>\n",
       "      <th>SYMPTOM2</th>\n",
       "      <th>SYMPTOM3</th>\n",
       "      <th>SYMPTOM4</th>\n",
       "      <th>SYMPTOM5</th>\n",
       "      <th>ORDER</th>\n",
       "    </tr>\n",
       "  </thead>\n",
       "  <tbody>\n",
       "    <tr>\n",
       "      <th>0</th>\n",
       "      <td>547879</td>\n",
       "      <td>WI</td>\n",
       "      <td>11.0</td>\n",
       "      <td>0.0</td>\n",
       "      <td>SENSITIVY TO LIGHT TROUBLE HEARING SHORT TERM ...</td>\n",
       "      <td>0</td>\n",
       "      <td>0</td>\n",
       "      <td>0</td>\n",
       "      <td>0.0</td>\n",
       "      <td>1</td>\n",
       "      <td>...</td>\n",
       "      <td>HPV4</td>\n",
       "      <td>MERCK &amp; CO. INC.</td>\n",
       "      <td>HPV (GARDASIL)</td>\n",
       "      <td>2</td>\n",
       "      <td>ABDOMINAL PAIN</td>\n",
       "      <td>BLOOD PRESSURE DECREASED</td>\n",
       "      <td>CHRONIC FATIGUE SYNDROME</td>\n",
       "      <td>DIZZINESS</td>\n",
       "      <td>HEART RATE INCREASED</td>\n",
       "      <td>2</td>\n",
       "    </tr>\n",
       "    <tr>\n",
       "      <th>1</th>\n",
       "      <td>547879</td>\n",
       "      <td>WI</td>\n",
       "      <td>11.0</td>\n",
       "      <td>0.0</td>\n",
       "      <td>SENSITIVY TO LIGHT TROUBLE HEARING SHORT TERM ...</td>\n",
       "      <td>0</td>\n",
       "      <td>0</td>\n",
       "      <td>0</td>\n",
       "      <td>0.0</td>\n",
       "      <td>1</td>\n",
       "      <td>...</td>\n",
       "      <td>HPV4</td>\n",
       "      <td>MERCK &amp; CO. INC.</td>\n",
       "      <td>HPV (GARDASIL)</td>\n",
       "      <td>2</td>\n",
       "      <td>INSOMNIA</td>\n",
       "      <td>MIGRAINE</td>\n",
       "      <td>NAUSEA</td>\n",
       "      <td>POSTURAL ORTHOSTATIC TACHYCARDIA SYNDROME</td>\n",
       "      <td>SERUM FERRITIN DECREASED</td>\n",
       "      <td>2</td>\n",
       "    </tr>\n",
       "  </tbody>\n",
       "</table>\n",
       "<p>2 rows × 30 columns</p>\n",
       "</div>"
      ],
      "text/plain": [
       "   VAERS_ID STATE  AGE_YRS  SEX  \\\n",
       "0    547879    WI     11.0  0.0   \n",
       "1    547879    WI     11.0  0.0   \n",
       "\n",
       "                                        SYMPTOM_TEXT  DIED  L_THREAT  \\\n",
       "0  SENSITIVY TO LIGHT TROUBLE HEARING SHORT TERM ...     0         0   \n",
       "1  SENSITIVY TO LIGHT TROUBLE HEARING SHORT TERM ...     0         0   \n",
       "\n",
       "   HOSPITAL  HOSPDAYS  DISABLE  ...  VAX_TYPE          VAX_MANU  \\\n",
       "0         0       0.0        1  ...      HPV4  MERCK & CO. INC.   \n",
       "1         0       0.0        1  ...      HPV4  MERCK & CO. INC.   \n",
       "\n",
       "         VAX_NAME  ORDER_y        SYMPTOM1                  SYMPTOM2  \\\n",
       "0  HPV (GARDASIL)        2  ABDOMINAL PAIN  BLOOD PRESSURE DECREASED   \n",
       "1  HPV (GARDASIL)        2        INSOMNIA                  MIGRAINE   \n",
       "\n",
       "                   SYMPTOM3                                   SYMPTOM4  \\\n",
       "0  CHRONIC FATIGUE SYNDROME                                  DIZZINESS   \n",
       "1                    NAUSEA  POSTURAL ORTHOSTATIC TACHYCARDIA SYNDROME   \n",
       "\n",
       "                   SYMPTOM5  ORDER  \n",
       "0      HEART RATE INCREASED      2  \n",
       "1  SERUM FERRITIN DECREASED      2  \n",
       "\n",
       "[2 rows x 30 columns]"
      ]
     },
     "execution_count": 182,
     "metadata": {},
     "output_type": "execute_result"
    }
   ],
   "source": [
    "\n",
    "vaers_df = vaers_df.drop(columns =['VAX_LOT', 'VAX_DOSE_SERIES', 'VAX_ROUTE', 'VAX_SITE', 'V_ADMINBY'])\n",
    "vaers_df.head(2)"
   ]
  },
  {
   "cell_type": "code",
   "execution_count": 183,
   "id": "a9e0cb5f-3b6f-4ceb-8e1f-56541d6e1a30",
   "metadata": {},
   "outputs": [
    {
     "name": "stdout",
     "output_type": "stream",
     "text": [
      "<class 'pandas.core.frame.DataFrame'>\n",
      "Index: 1501302 entries, 0 to 1588394\n",
      "Data columns (total 30 columns):\n",
      " #   Column        Non-Null Count    Dtype  \n",
      "---  ------        --------------    -----  \n",
      " 0   VAERS_ID      1501302 non-null  int64  \n",
      " 1   STATE         1501302 non-null  object \n",
      " 2   AGE_YRS       1501302 non-null  float64\n",
      " 3   SEX           1501268 non-null  float64\n",
      " 4   SYMPTOM_TEXT  1501302 non-null  object \n",
      " 5   DIED          1501302 non-null  int64  \n",
      " 6   L_THREAT      1501302 non-null  int64  \n",
      " 7   HOSPITAL      1501302 non-null  int64  \n",
      " 8   HOSPDAYS      1501302 non-null  float64\n",
      " 9   DISABLE       1501302 non-null  int64  \n",
      " 10  RECOVD        1501302 non-null  int64  \n",
      " 11  VAX_DATE      1501302 non-null  object \n",
      " 12  ONSET_DATE    1501302 non-null  object \n",
      " 13  NUMDAYS       1501302 non-null  int64  \n",
      " 14  OTHER_MEDS    1501302 non-null  object \n",
      " 15  CUR_ILL       1501302 non-null  object \n",
      " 16  HISTORY       1501302 non-null  object \n",
      " 17  BIRTH_DEFECT  1501302 non-null  int64  \n",
      " 18  ALLERGIES     1501302 non-null  object \n",
      " 19  ORDER_x       1501302 non-null  int64  \n",
      " 20  VAX_TYPE      1501302 non-null  object \n",
      " 21  VAX_MANU      1501302 non-null  object \n",
      " 22  VAX_NAME      1501302 non-null  object \n",
      " 23  ORDER_y       1501302 non-null  int64  \n",
      " 24  SYMPTOM1      1501302 non-null  object \n",
      " 25  SYMPTOM2      1501302 non-null  object \n",
      " 26  SYMPTOM3      1501302 non-null  object \n",
      " 27  SYMPTOM4      1501302 non-null  object \n",
      " 28  SYMPTOM5      1501302 non-null  object \n",
      " 29  ORDER         1501302 non-null  int64  \n",
      "dtypes: float64(3), int64(11), object(16)\n",
      "memory usage: 355.1+ MB\n"
     ]
    }
   ],
   "source": [
    "vaers_df.info()"
   ]
  },
  {
   "cell_type": "code",
   "execution_count": 184,
   "id": "ccdf1116-bec6-423b-90ac-ffaa3b6af457",
   "metadata": {},
   "outputs": [],
   "source": [
    "vaers_df.to_csv(r'C:\\Users\\Admin\\Downloads\\capstone\\cleaned_vaers.csv', index=False)"
   ]
  },
  {
   "cell_type": "code",
   "execution_count": 185,
   "id": "10f09a1a-a8e0-4624-9e20-af335324d922",
   "metadata": {},
   "outputs": [
    {
     "data": {
      "text/plain": [
       "(1501302, 30)"
      ]
     },
     "execution_count": 185,
     "metadata": {},
     "output_type": "execute_result"
    }
   ],
   "source": [
    "\n",
    "vaers_df.shape"
   ]
  },
  {
   "cell_type": "markdown",
   "id": "492a64ff-e2d8-46b7-a08f-c29e42ab2327",
   "metadata": {},
   "source": [
    "## Merging symptoms 1-5 as a single column symptom"
   ]
  },
  {
   "cell_type": "code",
   "execution_count": 187,
   "id": "ab550aeb-116b-47df-9aae-069e832f9a6c",
   "metadata": {},
   "outputs": [
    {
     "data": {
      "text/html": [
       "<div>\n",
       "<style scoped>\n",
       "    .dataframe tbody tr th:only-of-type {\n",
       "        vertical-align: middle;\n",
       "    }\n",
       "\n",
       "    .dataframe tbody tr th {\n",
       "        vertical-align: top;\n",
       "    }\n",
       "\n",
       "    .dataframe thead th {\n",
       "        text-align: right;\n",
       "    }\n",
       "</style>\n",
       "<table border=\"1\" class=\"dataframe\">\n",
       "  <thead>\n",
       "    <tr style=\"text-align: right;\">\n",
       "      <th></th>\n",
       "      <th>VAERS_ID</th>\n",
       "      <th>STATE</th>\n",
       "      <th>AGE_YRS</th>\n",
       "      <th>SEX</th>\n",
       "      <th>SYMPTOM_TEXT</th>\n",
       "      <th>DIED</th>\n",
       "      <th>L_THREAT</th>\n",
       "      <th>HOSPITAL</th>\n",
       "      <th>HOSPDAYS</th>\n",
       "      <th>DISABLE</th>\n",
       "      <th>...</th>\n",
       "      <th>VAX_TYPE</th>\n",
       "      <th>VAX_MANU</th>\n",
       "      <th>VAX_NAME</th>\n",
       "      <th>ORDER_y</th>\n",
       "      <th>SYMPTOM1</th>\n",
       "      <th>SYMPTOM2</th>\n",
       "      <th>SYMPTOM3</th>\n",
       "      <th>SYMPTOM4</th>\n",
       "      <th>SYMPTOM5</th>\n",
       "      <th>ORDER</th>\n",
       "    </tr>\n",
       "  </thead>\n",
       "  <tbody>\n",
       "    <tr>\n",
       "      <th>1</th>\n",
       "      <td>547879</td>\n",
       "      <td>WI</td>\n",
       "      <td>11.0</td>\n",
       "      <td>0.0</td>\n",
       "      <td>SENSITIVY TO LIGHT TROUBLE HEARING SHORT TERM ...</td>\n",
       "      <td>0</td>\n",
       "      <td>0</td>\n",
       "      <td>0</td>\n",
       "      <td>0.0</td>\n",
       "      <td>1</td>\n",
       "      <td>...</td>\n",
       "      <td>HPV4</td>\n",
       "      <td>MERCK &amp; CO. INC.</td>\n",
       "      <td>HPV (GARDASIL)</td>\n",
       "      <td>2</td>\n",
       "      <td>INSOMNIA</td>\n",
       "      <td>MIGRAINE</td>\n",
       "      <td>NAUSEA</td>\n",
       "      <td>POSTURAL ORTHOSTATIC TACHYCARDIA SYNDROME</td>\n",
       "      <td>SERUM FERRITIN DECREASED</td>\n",
       "      <td>2</td>\n",
       "    </tr>\n",
       "    <tr>\n",
       "      <th>2</th>\n",
       "      <td>547879</td>\n",
       "      <td>WI</td>\n",
       "      <td>11.0</td>\n",
       "      <td>0.0</td>\n",
       "      <td>SENSITIVY TO LIGHT TROUBLE HEARING SHORT TERM ...</td>\n",
       "      <td>0</td>\n",
       "      <td>0</td>\n",
       "      <td>0</td>\n",
       "      <td>0.0</td>\n",
       "      <td>1</td>\n",
       "      <td>...</td>\n",
       "      <td>HPV4</td>\n",
       "      <td>MERCK &amp; CO. INC.</td>\n",
       "      <td>HPV (GARDASIL)</td>\n",
       "      <td>2</td>\n",
       "      <td>SYNCOPE</td>\n",
       "      <td>TILT TABLE TEST POSITIVE</td>\n",
       "      <td>VITAMIN D DECREASED</td>\n",
       "      <td>VITAMIN D DEFICIENCY</td>\n",
       "      <td></td>\n",
       "      <td>2</td>\n",
       "    </tr>\n",
       "    <tr>\n",
       "      <th>3</th>\n",
       "      <td>547879</td>\n",
       "      <td>WI</td>\n",
       "      <td>11.0</td>\n",
       "      <td>0.0</td>\n",
       "      <td>SENSITIVY TO LIGHT TROUBLE HEARING SHORT TERM ...</td>\n",
       "      <td>0</td>\n",
       "      <td>0</td>\n",
       "      <td>0</td>\n",
       "      <td>0.0</td>\n",
       "      <td>1</td>\n",
       "      <td>...</td>\n",
       "      <td>HPV4</td>\n",
       "      <td>MERCK &amp; CO. INC.</td>\n",
       "      <td>HPV (GARDASIL)</td>\n",
       "      <td>2</td>\n",
       "      <td>ABDOMINAL DISCOMFORT</td>\n",
       "      <td>ABDOMINAL PAIN</td>\n",
       "      <td>AGITATION</td>\n",
       "      <td>AMNESIA</td>\n",
       "      <td>ANTIBODY TEST POSITIVE</td>\n",
       "      <td>3</td>\n",
       "    </tr>\n",
       "    <tr>\n",
       "      <th>4</th>\n",
       "      <td>547879</td>\n",
       "      <td>WI</td>\n",
       "      <td>11.0</td>\n",
       "      <td>0.0</td>\n",
       "      <td>SENSITIVY TO LIGHT TROUBLE HEARING SHORT TERM ...</td>\n",
       "      <td>0</td>\n",
       "      <td>0</td>\n",
       "      <td>0</td>\n",
       "      <td>0.0</td>\n",
       "      <td>1</td>\n",
       "      <td>...</td>\n",
       "      <td>HPV4</td>\n",
       "      <td>MERCK &amp; CO. INC.</td>\n",
       "      <td>HPV (GARDASIL)</td>\n",
       "      <td>2</td>\n",
       "      <td>ARTHRALGIA</td>\n",
       "      <td>ASTHENIA</td>\n",
       "      <td>AUTOIMMUNE NEUROPATHY</td>\n",
       "      <td>AUTONOMIC NEUROPATHY</td>\n",
       "      <td>BACK PAIN</td>\n",
       "      <td>3</td>\n",
       "    </tr>\n",
       "    <tr>\n",
       "      <th>5</th>\n",
       "      <td>547879</td>\n",
       "      <td>WI</td>\n",
       "      <td>11.0</td>\n",
       "      <td>0.0</td>\n",
       "      <td>SENSITIVY TO LIGHT TROUBLE HEARING SHORT TERM ...</td>\n",
       "      <td>0</td>\n",
       "      <td>0</td>\n",
       "      <td>0</td>\n",
       "      <td>0.0</td>\n",
       "      <td>1</td>\n",
       "      <td>...</td>\n",
       "      <td>HPV4</td>\n",
       "      <td>MERCK &amp; CO. INC.</td>\n",
       "      <td>HPV (GARDASIL)</td>\n",
       "      <td>2</td>\n",
       "      <td>BEDRIDDEN</td>\n",
       "      <td>BONE PAIN</td>\n",
       "      <td>CENTRAL VENOUS CATHETERISATION</td>\n",
       "      <td>CHEST PAIN</td>\n",
       "      <td>CHILLS</td>\n",
       "      <td>3</td>\n",
       "    </tr>\n",
       "    <tr>\n",
       "      <th>...</th>\n",
       "      <td>...</td>\n",
       "      <td>...</td>\n",
       "      <td>...</td>\n",
       "      <td>...</td>\n",
       "      <td>...</td>\n",
       "      <td>...</td>\n",
       "      <td>...</td>\n",
       "      <td>...</td>\n",
       "      <td>...</td>\n",
       "      <td>...</td>\n",
       "      <td>...</td>\n",
       "      <td>...</td>\n",
       "      <td>...</td>\n",
       "      <td>...</td>\n",
       "      <td>...</td>\n",
       "      <td>...</td>\n",
       "      <td>...</td>\n",
       "      <td>...</td>\n",
       "      <td>...</td>\n",
       "      <td>...</td>\n",
       "      <td>...</td>\n",
       "    </tr>\n",
       "    <tr>\n",
       "      <th>1588388</th>\n",
       "      <td>2855969</td>\n",
       "      <td>TN</td>\n",
       "      <td>57.0</td>\n",
       "      <td>0.0</td>\n",
       "      <td>PT SAYS SHE ON SHE WAS FEELING VERY FATIGUE AN...</td>\n",
       "      <td>0</td>\n",
       "      <td>0</td>\n",
       "      <td>1</td>\n",
       "      <td>14.0</td>\n",
       "      <td>1</td>\n",
       "      <td>...</td>\n",
       "      <td>COVID</td>\n",
       "      <td>PFIZER\\BIONTECH</td>\n",
       "      <td>COVID19 (COVID19 (PFIZER-BIONTECH))</td>\n",
       "      <td>1</td>\n",
       "      <td>LABORATORY TEST</td>\n",
       "      <td>MAGNETIC RESO CE IMAGING</td>\n",
       "      <td>MUSCULAR WEAKNESS</td>\n",
       "      <td>MYELITIS TRANSVERSE</td>\n",
       "      <td>PAIN IN EXTREMITY</td>\n",
       "      <td>1</td>\n",
       "    </tr>\n",
       "    <tr>\n",
       "      <th>1588389</th>\n",
       "      <td>2855969</td>\n",
       "      <td>TN</td>\n",
       "      <td>57.0</td>\n",
       "      <td>0.0</td>\n",
       "      <td>PT SAYS SHE ON SHE WAS FEELING VERY FATIGUE AN...</td>\n",
       "      <td>0</td>\n",
       "      <td>0</td>\n",
       "      <td>1</td>\n",
       "      <td>14.0</td>\n",
       "      <td>1</td>\n",
       "      <td>...</td>\n",
       "      <td>COVID</td>\n",
       "      <td>PFIZER\\BIONTECH</td>\n",
       "      <td>COVID19 (COVID19 (PFIZER-BIONTECH))</td>\n",
       "      <td>1</td>\n",
       "      <td>PLASMAPHERESIS</td>\n",
       "      <td>WHEELCHAIR USER</td>\n",
       "      <td></td>\n",
       "      <td></td>\n",
       "      <td></td>\n",
       "      <td>1</td>\n",
       "    </tr>\n",
       "    <tr>\n",
       "      <th>1588391</th>\n",
       "      <td>2855970</td>\n",
       "      <td>FL</td>\n",
       "      <td>66.0</td>\n",
       "      <td>0.0</td>\n",
       "      <td>I GOT THE INJECTION AROUND NOON AND I CAME HOM...</td>\n",
       "      <td>0</td>\n",
       "      <td>0</td>\n",
       "      <td>0</td>\n",
       "      <td>0.0</td>\n",
       "      <td>0</td>\n",
       "      <td>...</td>\n",
       "      <td>FLU</td>\n",
       "      <td>SANOFI PASTEUR</td>\n",
       "      <td>INFLUENZA (SEASONAL) (FLUBLOK)</td>\n",
       "      <td>1</td>\n",
       "      <td>VOMITING</td>\n",
       "      <td></td>\n",
       "      <td></td>\n",
       "      <td></td>\n",
       "      <td></td>\n",
       "      <td>1</td>\n",
       "    </tr>\n",
       "    <tr>\n",
       "      <th>1588393</th>\n",
       "      <td>2855990</td>\n",
       "      <td>TX</td>\n",
       "      <td>32.0</td>\n",
       "      <td>1.0</td>\n",
       "      <td>ARM WRIST LEG SWELLING THAT COMES AND GOES AND...</td>\n",
       "      <td>0</td>\n",
       "      <td>0</td>\n",
       "      <td>0</td>\n",
       "      <td>0.0</td>\n",
       "      <td>1</td>\n",
       "      <td>...</td>\n",
       "      <td>COVID</td>\n",
       "      <td>PFIZER\\BIONTECH</td>\n",
       "      <td>COVID19 (COVID19 (PFIZER-BIONTECH))</td>\n",
       "      <td>1</td>\n",
       "      <td>CHEST X-RAY NORMAL</td>\n",
       "      <td>COMPUTERISED TOMOGRAM HEAD NORMAL</td>\n",
       "      <td>FATIGUE</td>\n",
       "      <td>HYPERACUSIS</td>\n",
       "      <td>JOINT SWELLING</td>\n",
       "      <td>1</td>\n",
       "    </tr>\n",
       "    <tr>\n",
       "      <th>1588394</th>\n",
       "      <td>2855990</td>\n",
       "      <td>TX</td>\n",
       "      <td>32.0</td>\n",
       "      <td>1.0</td>\n",
       "      <td>ARM WRIST LEG SWELLING THAT COMES AND GOES AND...</td>\n",
       "      <td>0</td>\n",
       "      <td>0</td>\n",
       "      <td>0</td>\n",
       "      <td>0.0</td>\n",
       "      <td>1</td>\n",
       "      <td>...</td>\n",
       "      <td>COVID</td>\n",
       "      <td>PFIZER\\BIONTECH</td>\n",
       "      <td>COVID19 (COVID19 (PFIZER-BIONTECH))</td>\n",
       "      <td>1</td>\n",
       "      <td>PERIPHERAL SWELLING</td>\n",
       "      <td>POSTURAL ORTHOSTATIC TACHYCARDIA SYNDROME</td>\n",
       "      <td>SARS-COV-2 ANTIBODY TEST POSITIVE</td>\n",
       "      <td>TREMOR</td>\n",
       "      <td></td>\n",
       "      <td>1</td>\n",
       "    </tr>\n",
       "  </tbody>\n",
       "</table>\n",
       "<p>711931 rows × 30 columns</p>\n",
       "</div>"
      ],
      "text/plain": [
       "         VAERS_ID STATE  AGE_YRS  SEX  \\\n",
       "1          547879    WI     11.0  0.0   \n",
       "2          547879    WI     11.0  0.0   \n",
       "3          547879    WI     11.0  0.0   \n",
       "4          547879    WI     11.0  0.0   \n",
       "5          547879    WI     11.0  0.0   \n",
       "...           ...   ...      ...  ...   \n",
       "1588388   2855969    TN     57.0  0.0   \n",
       "1588389   2855969    TN     57.0  0.0   \n",
       "1588391   2855970    FL     66.0  0.0   \n",
       "1588393   2855990    TX     32.0  1.0   \n",
       "1588394   2855990    TX     32.0  1.0   \n",
       "\n",
       "                                              SYMPTOM_TEXT  DIED  L_THREAT  \\\n",
       "1        SENSITIVY TO LIGHT TROUBLE HEARING SHORT TERM ...     0         0   \n",
       "2        SENSITIVY TO LIGHT TROUBLE HEARING SHORT TERM ...     0         0   \n",
       "3        SENSITIVY TO LIGHT TROUBLE HEARING SHORT TERM ...     0         0   \n",
       "4        SENSITIVY TO LIGHT TROUBLE HEARING SHORT TERM ...     0         0   \n",
       "5        SENSITIVY TO LIGHT TROUBLE HEARING SHORT TERM ...     0         0   \n",
       "...                                                    ...   ...       ...   \n",
       "1588388  PT SAYS SHE ON SHE WAS FEELING VERY FATIGUE AN...     0         0   \n",
       "1588389  PT SAYS SHE ON SHE WAS FEELING VERY FATIGUE AN...     0         0   \n",
       "1588391  I GOT THE INJECTION AROUND NOON AND I CAME HOM...     0         0   \n",
       "1588393  ARM WRIST LEG SWELLING THAT COMES AND GOES AND...     0         0   \n",
       "1588394  ARM WRIST LEG SWELLING THAT COMES AND GOES AND...     0         0   \n",
       "\n",
       "         HOSPITAL  HOSPDAYS  DISABLE  ...  VAX_TYPE          VAX_MANU  \\\n",
       "1               0       0.0        1  ...      HPV4  MERCK & CO. INC.   \n",
       "2               0       0.0        1  ...      HPV4  MERCK & CO. INC.   \n",
       "3               0       0.0        1  ...      HPV4  MERCK & CO. INC.   \n",
       "4               0       0.0        1  ...      HPV4  MERCK & CO. INC.   \n",
       "5               0       0.0        1  ...      HPV4  MERCK & CO. INC.   \n",
       "...           ...       ...      ...  ...       ...               ...   \n",
       "1588388         1      14.0        1  ...     COVID   PFIZER\\BIONTECH   \n",
       "1588389         1      14.0        1  ...     COVID   PFIZER\\BIONTECH   \n",
       "1588391         0       0.0        0  ...       FLU    SANOFI PASTEUR   \n",
       "1588393         0       0.0        1  ...     COVID   PFIZER\\BIONTECH   \n",
       "1588394         0       0.0        1  ...     COVID   PFIZER\\BIONTECH   \n",
       "\n",
       "                                    VAX_NAME  ORDER_y              SYMPTOM1  \\\n",
       "1                             HPV (GARDASIL)        2              INSOMNIA   \n",
       "2                             HPV (GARDASIL)        2               SYNCOPE   \n",
       "3                             HPV (GARDASIL)        2  ABDOMINAL DISCOMFORT   \n",
       "4                             HPV (GARDASIL)        2            ARTHRALGIA   \n",
       "5                             HPV (GARDASIL)        2             BEDRIDDEN   \n",
       "...                                      ...      ...                   ...   \n",
       "1588388  COVID19 (COVID19 (PFIZER-BIONTECH))        1       LABORATORY TEST   \n",
       "1588389  COVID19 (COVID19 (PFIZER-BIONTECH))        1        PLASMAPHERESIS   \n",
       "1588391       INFLUENZA (SEASONAL) (FLUBLOK)        1              VOMITING   \n",
       "1588393  COVID19 (COVID19 (PFIZER-BIONTECH))        1    CHEST X-RAY NORMAL   \n",
       "1588394  COVID19 (COVID19 (PFIZER-BIONTECH))        1   PERIPHERAL SWELLING   \n",
       "\n",
       "                                          SYMPTOM2  \\\n",
       "1                                         MIGRAINE   \n",
       "2                         TILT TABLE TEST POSITIVE   \n",
       "3                                   ABDOMINAL PAIN   \n",
       "4                                         ASTHENIA   \n",
       "5                                        BONE PAIN   \n",
       "...                                            ...   \n",
       "1588388                   MAGNETIC RESO CE IMAGING   \n",
       "1588389                            WHEELCHAIR USER   \n",
       "1588391                                              \n",
       "1588393          COMPUTERISED TOMOGRAM HEAD NORMAL   \n",
       "1588394  POSTURAL ORTHOSTATIC TACHYCARDIA SYNDROME   \n",
       "\n",
       "                                  SYMPTOM3  \\\n",
       "1                                   NAUSEA   \n",
       "2                      VITAMIN D DECREASED   \n",
       "3                                AGITATION   \n",
       "4                    AUTOIMMUNE NEUROPATHY   \n",
       "5           CENTRAL VENOUS CATHETERISATION   \n",
       "...                                    ...   \n",
       "1588388                  MUSCULAR WEAKNESS   \n",
       "1588389                                      \n",
       "1588391                                      \n",
       "1588393                            FATIGUE   \n",
       "1588394  SARS-COV-2 ANTIBODY TEST POSITIVE   \n",
       "\n",
       "                                          SYMPTOM4                  SYMPTOM5  \\\n",
       "1        POSTURAL ORTHOSTATIC TACHYCARDIA SYNDROME  SERUM FERRITIN DECREASED   \n",
       "2                             VITAMIN D DEFICIENCY                             \n",
       "3                                          AMNESIA    ANTIBODY TEST POSITIVE   \n",
       "4                             AUTONOMIC NEUROPATHY                 BACK PAIN   \n",
       "5                                       CHEST PAIN                    CHILLS   \n",
       "...                                            ...                       ...   \n",
       "1588388                        MYELITIS TRANSVERSE         PAIN IN EXTREMITY   \n",
       "1588389                                                                        \n",
       "1588391                                                                        \n",
       "1588393                                HYPERACUSIS            JOINT SWELLING   \n",
       "1588394                                     TREMOR                             \n",
       "\n",
       "         ORDER  \n",
       "1            2  \n",
       "2            2  \n",
       "3            3  \n",
       "4            3  \n",
       "5            3  \n",
       "...        ...  \n",
       "1588388      1  \n",
       "1588389      1  \n",
       "1588391      1  \n",
       "1588393      1  \n",
       "1588394      1  \n",
       "\n",
       "[711931 rows x 30 columns]"
      ]
     },
     "execution_count": 187,
     "metadata": {},
     "output_type": "execute_result"
    }
   ],
   "source": [
    "\n",
    "vaers_df.loc[vaers_df.duplicated(subset=['VAERS_ID']), :]"
   ]
  },
  {
   "cell_type": "code",
   "execution_count": 188,
   "id": "2a72ad4b-5e96-485a-93d8-2a0c72bfcf9c",
   "metadata": {},
   "outputs": [
    {
     "data": {
      "text/plain": [
       "(1501302, 30)"
      ]
     },
     "execution_count": 188,
     "metadata": {},
     "output_type": "execute_result"
    }
   ],
   "source": [
    "\n",
    "vaers_df.shape"
   ]
  },
  {
   "cell_type": "code",
   "execution_count": 189,
   "id": "777615f6-bb47-48c1-bb4d-cb9e19f4cf4f",
   "metadata": {},
   "outputs": [],
   "source": [
    "# First, combine all symptom columns into a single list\n",
    "vaers = vaers_df.copy()\n",
    "symptom_columns = ['SYMPTOM1', 'SYMPTOM2', 'SYMPTOM3', 'SYMPTOM4', 'SYMPTOM5']\n",
    "vaers_df['SYMPTOMS'] = vaers_df[symptom_columns].apply(lambda row: ','.join(row.dropna()), axis=1)\n",
    "\n",
    "# Now, drop the individual symptom columns\n",
    "vaers_df = vaers_df.drop(columns=symptom_columns)\n",
    "\n",
    "# Group by VAERS_ID and SYMPTOMS, then reset the index\n",
    "vaers_df = vaers_df.groupby(['VAERS_ID', 'SYMPTOMS']).first().reset_index()\n",
    "\n",
    "# Split the SYMPTOMS string into a list\n",
    "vaers_df['SYMPTOMS'] = vaers_df['SYMPTOMS'].str.split(',')\n",
    "\n",
    "# Remove any empty strings from the SYMPTOMS lists\n",
    "vaers_df['SYMPTOMS'] = vaers_df['SYMPTOMS'].apply(lambda x: [sym.strip() for sym in x if sym.strip()])"
   ]
  },
  {
   "cell_type": "code",
   "execution_count": 190,
   "id": "afc85e8d-5ed6-4425-bf29-43c1e61f63e1",
   "metadata": {},
   "outputs": [
    {
     "data": {
      "text/html": [
       "<div>\n",
       "<style scoped>\n",
       "    .dataframe tbody tr th:only-of-type {\n",
       "        vertical-align: middle;\n",
       "    }\n",
       "\n",
       "    .dataframe tbody tr th {\n",
       "        vertical-align: top;\n",
       "    }\n",
       "\n",
       "    .dataframe thead th {\n",
       "        text-align: right;\n",
       "    }\n",
       "</style>\n",
       "<table border=\"1\" class=\"dataframe\">\n",
       "  <thead>\n",
       "    <tr style=\"text-align: right;\">\n",
       "      <th></th>\n",
       "      <th>VAERS_ID</th>\n",
       "      <th>SYMPTOMS</th>\n",
       "      <th>STATE</th>\n",
       "      <th>AGE_YRS</th>\n",
       "      <th>SEX</th>\n",
       "      <th>SYMPTOM_TEXT</th>\n",
       "      <th>DIED</th>\n",
       "      <th>L_THREAT</th>\n",
       "      <th>HOSPITAL</th>\n",
       "      <th>HOSPDAYS</th>\n",
       "      <th>...</th>\n",
       "      <th>CUR_ILL</th>\n",
       "      <th>HISTORY</th>\n",
       "      <th>BIRTH_DEFECT</th>\n",
       "      <th>ALLERGIES</th>\n",
       "      <th>ORDER_x</th>\n",
       "      <th>VAX_TYPE</th>\n",
       "      <th>VAX_MANU</th>\n",
       "      <th>VAX_NAME</th>\n",
       "      <th>ORDER_y</th>\n",
       "      <th>ORDER</th>\n",
       "    </tr>\n",
       "  </thead>\n",
       "  <tbody>\n",
       "    <tr>\n",
       "      <th>0</th>\n",
       "      <td>50938</td>\n",
       "      <td>[ARTHRALGIA, CONDITION AGGRAVATED, ERYTHEMA, E...</td>\n",
       "      <td>OR</td>\n",
       "      <td>73.0</td>\n",
       "      <td>0.0</td>\n",
       "      <td>LUMP ITCHY LARGE RED LUMP COLD JOINT PAIN RUNN...</td>\n",
       "      <td>0</td>\n",
       "      <td>0</td>\n",
       "      <td>0</td>\n",
       "      <td>0.0</td>\n",
       "      <td>...</td>\n",
       "      <td>ARTHRALGIA DIABETES HERPES ZOSTER IMMUNOCOMPRO...</td>\n",
       "      <td>MEDICAL HISTORY CONCURRENT CONDITIONS HEART TR...</td>\n",
       "      <td>0</td>\n",
       "      <td></td>\n",
       "      <td>3</td>\n",
       "      <td>HEP</td>\n",
       "      <td>UNKNOWN MANUFACTURER</td>\n",
       "      <td>HEP B (NO BRAND NAME)</td>\n",
       "      <td>2</td>\n",
       "      <td>3</td>\n",
       "    </tr>\n",
       "    <tr>\n",
       "      <th>1</th>\n",
       "      <td>50938</td>\n",
       "      <td>[INJECTION SITE ERYTHEMA, INJECTION SITE MASS,...</td>\n",
       "      <td>OR</td>\n",
       "      <td>73.0</td>\n",
       "      <td>0.0</td>\n",
       "      <td>LUMP ITCHY LARGE RED LUMP COLD JOINT PAIN RUNN...</td>\n",
       "      <td>0</td>\n",
       "      <td>0</td>\n",
       "      <td>0</td>\n",
       "      <td>0.0</td>\n",
       "      <td>...</td>\n",
       "      <td>ARTHRALGIA DIABETES HERPES ZOSTER IMMUNOCOMPRO...</td>\n",
       "      <td>MEDICAL HISTORY CONCURRENT CONDITIONS HEART TR...</td>\n",
       "      <td>0</td>\n",
       "      <td></td>\n",
       "      <td>3</td>\n",
       "      <td>HEP</td>\n",
       "      <td>UNKNOWN MANUFACTURER</td>\n",
       "      <td>HEP B (NO BRAND NAME)</td>\n",
       "      <td>2</td>\n",
       "      <td>3</td>\n",
       "    </tr>\n",
       "  </tbody>\n",
       "</table>\n",
       "<p>2 rows × 26 columns</p>\n",
       "</div>"
      ],
      "text/plain": [
       "   VAERS_ID                                           SYMPTOMS STATE  AGE_YRS  \\\n",
       "0     50938  [ARTHRALGIA, CONDITION AGGRAVATED, ERYTHEMA, E...    OR     73.0   \n",
       "1     50938  [INJECTION SITE ERYTHEMA, INJECTION SITE MASS,...    OR     73.0   \n",
       "\n",
       "   SEX                                       SYMPTOM_TEXT  DIED  L_THREAT  \\\n",
       "0  0.0  LUMP ITCHY LARGE RED LUMP COLD JOINT PAIN RUNN...     0         0   \n",
       "1  0.0  LUMP ITCHY LARGE RED LUMP COLD JOINT PAIN RUNN...     0         0   \n",
       "\n",
       "   HOSPITAL  HOSPDAYS  ...                                            CUR_ILL  \\\n",
       "0         0       0.0  ...  ARTHRALGIA DIABETES HERPES ZOSTER IMMUNOCOMPRO...   \n",
       "1         0       0.0  ...  ARTHRALGIA DIABETES HERPES ZOSTER IMMUNOCOMPRO...   \n",
       "\n",
       "                                             HISTORY BIRTH_DEFECT ALLERGIES  \\\n",
       "0  MEDICAL HISTORY CONCURRENT CONDITIONS HEART TR...            0             \n",
       "1  MEDICAL HISTORY CONCURRENT CONDITIONS HEART TR...            0             \n",
       "\n",
       "   ORDER_x VAX_TYPE              VAX_MANU               VAX_NAME  ORDER_y  \\\n",
       "0        3      HEP  UNKNOWN MANUFACTURER  HEP B (NO BRAND NAME)        2   \n",
       "1        3      HEP  UNKNOWN MANUFACTURER  HEP B (NO BRAND NAME)        2   \n",
       "\n",
       "  ORDER  \n",
       "0     3  \n",
       "1     3  \n",
       "\n",
       "[2 rows x 26 columns]"
      ]
     },
     "execution_count": 190,
     "metadata": {},
     "output_type": "execute_result"
    }
   ],
   "source": [
    "\n",
    "vaers_df.head(2)"
   ]
  },
  {
   "cell_type": "code",
   "execution_count": 191,
   "id": "53ba1050-bb2d-404e-8fea-480087b726e1",
   "metadata": {},
   "outputs": [
    {
     "data": {
      "text/html": [
       "<div>\n",
       "<style scoped>\n",
       "    .dataframe tbody tr th:only-of-type {\n",
       "        vertical-align: middle;\n",
       "    }\n",
       "\n",
       "    .dataframe tbody tr th {\n",
       "        vertical-align: top;\n",
       "    }\n",
       "\n",
       "    .dataframe thead th {\n",
       "        text-align: right;\n",
       "    }\n",
       "</style>\n",
       "<table border=\"1\" class=\"dataframe\">\n",
       "  <thead>\n",
       "    <tr style=\"text-align: right;\">\n",
       "      <th></th>\n",
       "      <th>VAERS_ID</th>\n",
       "      <th>SYMPTOMS</th>\n",
       "    </tr>\n",
       "  </thead>\n",
       "  <tbody>\n",
       "    <tr>\n",
       "      <th>0</th>\n",
       "      <td>50938</td>\n",
       "      <td>[ARTHRALGIA, CONDITION AGGRAVATED, ERYTHEMA, E...</td>\n",
       "    </tr>\n",
       "    <tr>\n",
       "      <th>1</th>\n",
       "      <td>50938</td>\n",
       "      <td>[INJECTION SITE ERYTHEMA, INJECTION SITE MASS,...</td>\n",
       "    </tr>\n",
       "  </tbody>\n",
       "</table>\n",
       "</div>"
      ],
      "text/plain": [
       "   VAERS_ID                                           SYMPTOMS\n",
       "0     50938  [ARTHRALGIA, CONDITION AGGRAVATED, ERYTHEMA, E...\n",
       "1     50938  [INJECTION SITE ERYTHEMA, INJECTION SITE MASS,..."
      ]
     },
     "execution_count": 191,
     "metadata": {},
     "output_type": "execute_result"
    }
   ],
   "source": [
    "sym_df = vaers_df[['VAERS_ID', 'SYMPTOMS']]\n",
    "sym_df.head(2)"
   ]
  },
  {
   "cell_type": "code",
   "execution_count": 192,
   "id": "e956e67c-93eb-4082-a0b4-6956f4a2b865",
   "metadata": {},
   "outputs": [
    {
     "data": {
      "text/html": [
       "<div>\n",
       "<style scoped>\n",
       "    .dataframe tbody tr th:only-of-type {\n",
       "        vertical-align: middle;\n",
       "    }\n",
       "\n",
       "    .dataframe tbody tr th {\n",
       "        vertical-align: top;\n",
       "    }\n",
       "\n",
       "    .dataframe thead th {\n",
       "        text-align: right;\n",
       "    }\n",
       "</style>\n",
       "<table border=\"1\" class=\"dataframe\">\n",
       "  <thead>\n",
       "    <tr style=\"text-align: right;\">\n",
       "      <th></th>\n",
       "      <th>VAERS_ID</th>\n",
       "      <th>SYMPTOMS</th>\n",
       "    </tr>\n",
       "  </thead>\n",
       "  <tbody>\n",
       "    <tr>\n",
       "      <th>0</th>\n",
       "      <td>50938</td>\n",
       "      <td>ARTHRALGIA</td>\n",
       "    </tr>\n",
       "    <tr>\n",
       "      <th>0</th>\n",
       "      <td>50938</td>\n",
       "      <td>CONDITION AGGRAVATED</td>\n",
       "    </tr>\n",
       "    <tr>\n",
       "      <th>0</th>\n",
       "      <td>50938</td>\n",
       "      <td>ERYTHEMA</td>\n",
       "    </tr>\n",
       "    <tr>\n",
       "      <th>0</th>\n",
       "      <td>50938</td>\n",
       "      <td>EYE DISCHARGE</td>\n",
       "    </tr>\n",
       "    <tr>\n",
       "      <th>0</th>\n",
       "      <td>50938</td>\n",
       "      <td>FEELING ABNORMAL</td>\n",
       "    </tr>\n",
       "    <tr>\n",
       "      <th>...</th>\n",
       "      <td>...</td>\n",
       "      <td>...</td>\n",
       "    </tr>\n",
       "    <tr>\n",
       "      <th>1129923</th>\n",
       "      <td>2855990</td>\n",
       "      <td>JOINT SWELLING</td>\n",
       "    </tr>\n",
       "    <tr>\n",
       "      <th>1129924</th>\n",
       "      <td>2855990</td>\n",
       "      <td>PERIPHERAL SWELLING</td>\n",
       "    </tr>\n",
       "    <tr>\n",
       "      <th>1129924</th>\n",
       "      <td>2855990</td>\n",
       "      <td>POSTURAL ORTHOSTATIC TACHYCARDIA SYNDROME</td>\n",
       "    </tr>\n",
       "    <tr>\n",
       "      <th>1129924</th>\n",
       "      <td>2855990</td>\n",
       "      <td>SARS-COV-2 ANTIBODY TEST POSITIVE</td>\n",
       "    </tr>\n",
       "    <tr>\n",
       "      <th>1129924</th>\n",
       "      <td>2855990</td>\n",
       "      <td>TREMOR</td>\n",
       "    </tr>\n",
       "  </tbody>\n",
       "</table>\n",
       "<p>3798087 rows × 2 columns</p>\n",
       "</div>"
      ],
      "text/plain": [
       "         VAERS_ID                                   SYMPTOMS\n",
       "0           50938                                 ARTHRALGIA\n",
       "0           50938                       CONDITION AGGRAVATED\n",
       "0           50938                                   ERYTHEMA\n",
       "0           50938                              EYE DISCHARGE\n",
       "0           50938                           FEELING ABNORMAL\n",
       "...           ...                                        ...\n",
       "1129923   2855990                             JOINT SWELLING\n",
       "1129924   2855990                        PERIPHERAL SWELLING\n",
       "1129924   2855990  POSTURAL ORTHOSTATIC TACHYCARDIA SYNDROME\n",
       "1129924   2855990          SARS-COV-2 ANTIBODY TEST POSITIVE\n",
       "1129924   2855990                                     TREMOR\n",
       "\n",
       "[3798087 rows x 2 columns]"
      ]
     },
     "execution_count": 192,
     "metadata": {},
     "output_type": "execute_result"
    }
   ],
   "source": [
    "\n",
    "sym_df.explode('SYMPTOMS')"
   ]
  },
  {
   "cell_type": "code",
   "execution_count": 193,
   "id": "3e53e08c-4fcf-48ca-9f7c-c9b5c6e57a6c",
   "metadata": {},
   "outputs": [],
   "source": [
    "unique_ade = [val.strip() for sublist in vaers_df.SYMPTOMS for val in sublist if isinstance(val, str)]"
   ]
  },
  {
   "cell_type": "code",
   "execution_count": 194,
   "id": "17fb5e67-af0d-41fe-8e13-48672241dcb9",
   "metadata": {},
   "outputs": [],
   "source": [
    "# Flatten the list of symptoms\n",
    "all_symptoms = [symptom for symptoms_list in vaers_df['SYMPTOMS'] for symptom in symptoms_list if isinstance(symptom, str)]\n",
    "\n",
    "# Create a DataFrame with symptom counts\n",
    "symptoms_summary = pd.DataFrame(all_symptoms, columns=['SYMPTOMS'])\n",
    "symptoms_summary = symptoms_summary['SYMPTOMS'].value_counts().reset_index()\n",
    "symptoms_summary.columns = ['SYMPTOMS', 'count']"
   ]
  },
  {
   "cell_type": "code",
   "execution_count": 195,
   "id": "c378955e-dedc-47b9-aeb3-85c2a973967d",
   "metadata": {},
   "outputs": [
    {
     "data": {
      "text/html": [
       "<div>\n",
       "<style scoped>\n",
       "    .dataframe tbody tr th:only-of-type {\n",
       "        vertical-align: middle;\n",
       "    }\n",
       "\n",
       "    .dataframe tbody tr th {\n",
       "        vertical-align: top;\n",
       "    }\n",
       "\n",
       "    .dataframe thead th {\n",
       "        text-align: right;\n",
       "    }\n",
       "</style>\n",
       "<table border=\"1\" class=\"dataframe\">\n",
       "  <thead>\n",
       "    <tr style=\"text-align: right;\">\n",
       "      <th></th>\n",
       "      <th>SYMPTOMS</th>\n",
       "      <th>count</th>\n",
       "    </tr>\n",
       "  </thead>\n",
       "  <tbody>\n",
       "    <tr>\n",
       "      <th>0</th>\n",
       "      <td>HEADACHE</td>\n",
       "      <td>135239</td>\n",
       "    </tr>\n",
       "    <tr>\n",
       "      <th>1</th>\n",
       "      <td>FATIGUE</td>\n",
       "      <td>117431</td>\n",
       "    </tr>\n",
       "    <tr>\n",
       "      <th>2</th>\n",
       "      <td>PYREXIA</td>\n",
       "      <td>115998</td>\n",
       "    </tr>\n",
       "    <tr>\n",
       "      <th>3</th>\n",
       "      <td>PAIN</td>\n",
       "      <td>110531</td>\n",
       "    </tr>\n",
       "    <tr>\n",
       "      <th>4</th>\n",
       "      <td>CHILLS</td>\n",
       "      <td>100062</td>\n",
       "    </tr>\n",
       "    <tr>\n",
       "      <th>5</th>\n",
       "      <td>PAIN IN EXTREMITY</td>\n",
       "      <td>82020</td>\n",
       "    </tr>\n",
       "    <tr>\n",
       "      <th>6</th>\n",
       "      <td>DIZZINESS</td>\n",
       "      <td>80986</td>\n",
       "    </tr>\n",
       "    <tr>\n",
       "      <th>7</th>\n",
       "      <td>NAUSEA</td>\n",
       "      <td>78938</td>\n",
       "    </tr>\n",
       "    <tr>\n",
       "      <th>8</th>\n",
       "      <td>INJECTION SITE PAIN</td>\n",
       "      <td>61520</td>\n",
       "    </tr>\n",
       "    <tr>\n",
       "      <th>9</th>\n",
       "      <td>ARTHRALGIA</td>\n",
       "      <td>49696</td>\n",
       "    </tr>\n",
       "  </tbody>\n",
       "</table>\n",
       "</div>"
      ],
      "text/plain": [
       "              SYMPTOMS   count\n",
       "0             HEADACHE  135239\n",
       "1              FATIGUE  117431\n",
       "2              PYREXIA  115998\n",
       "3                 PAIN  110531\n",
       "4               CHILLS  100062\n",
       "5    PAIN IN EXTREMITY   82020\n",
       "6            DIZZINESS   80986\n",
       "7               NAUSEA   78938\n",
       "8  INJECTION SITE PAIN   61520\n",
       "9           ARTHRALGIA   49696"
      ]
     },
     "execution_count": 195,
     "metadata": {},
     "output_type": "execute_result"
    }
   ],
   "source": [
    "\n",
    "symptoms_summary[0:10]"
   ]
  },
  {
   "cell_type": "code",
   "execution_count": 196,
   "id": "5d654b9b-b02d-4d3d-b7f1-a75dc22c6fec",
   "metadata": {},
   "outputs": [
    {
     "data": {
      "text/plain": [
       "0    HEADACHE\n",
       "1     FATIGUE\n",
       "2     PYREXIA\n",
       "3        PAIN\n",
       "4      CHILLS\n",
       "Name: SYMPTOMS, dtype: object"
      ]
     },
     "execution_count": 196,
     "metadata": {},
     "output_type": "execute_result"
    }
   ],
   "source": [
    "\n",
    "symptoms_summary.SYMPTOMS[0:5]"
   ]
  },
  {
   "cell_type": "code",
   "execution_count": 297,
   "id": "bff09fe4-b2ec-4829-bc30-40847b61e235",
   "metadata": {},
   "outputs": [],
   "source": [
    "covid_df = vaers[vaers['VAX_TYPE'].str.contains(\"COVID\", case=False, na=False)].copy()\n",
    "non_covid_df = vaers[~vaers['VAX_TYPE'].str.contains(\"COVID\", case=False, na=False)].copy()\n"
   ]
  },
  {
   "cell_type": "code",
   "execution_count": 197,
   "id": "3c80ade2-6098-4475-b459-2f3acff3a354",
   "metadata": {},
   "outputs": [
    {
     "data": {
      "image/png": "[encoded data removed]",
      "text/plain": [
       "<Figure size 1500x1000 with 1 Axes>"
      ]
     },
     "metadata": {},
     "output_type": "display_data"
    }
   ],
   "source": [
    "top_25_symptoms = symptoms_summary.sort_values('count', ascending=False).head(25)\n",
    "total_count = symptoms_summary['count'].sum()\n",
    "\n",
    "# Create the plot\n",
    "plt.figure(figsize=(15, 10))\n",
    "bars = plt.bar(top_25_symptoms['SYMPTOMS'], top_25_symptoms['count'])\n",
    "\n",
    "plt.xticks(rotation=90, ha='right')\n",
    "\n",
    "# Add value labels on top of each bar\n",
    "for bar in bars:\n",
    "    height = bar.get_height()\n",
    "    plt.text(bar.get_x() + bar.get_width()/2., height,\n",
    "             f'{height:,.0f}',\n",
    "             ha='center', va='bottom')\n",
    "\n",
    "plt.title('Top 25 Reported Symptoms', fontsize=16)\n",
    "plt.xlabel('Symptoms', fontsize=12)\n",
    "plt.ylabel('Count', fontsize=12)\n",
    "\n",
    "# Show the plot\n",
    "plt.show()"
   ]
  },
  {
   "cell_type": "markdown",
   "id": "a9a20d8b",
   "metadata": {},
   "source": [
    "\n",
    "#🧹 COVID-19 vs Non-COVID Analysis\n",
    "\n",
    "Separating **COVID-19 vaccine reports** from all others, \n",
    "we now filter the VAERS dataset into two subsets:\n",
    "- **COVID-19**: `VAX_TYPE == 'COVID19'`\n",
    "- **Non-COVID**: all other vaccine types\n",
    "\n",
    "We then perform EDA and cleaning comparisons on both groups.\n"
   ]
  },
  {
   "cell_type": "code",
   "execution_count": 199,
   "id": "68c48881",
   "metadata": {},
   "outputs": [
    {
     "name": "stdout",
     "output_type": "stream",
     "text": [
      "COVID Reports: (0, 30)\n",
      "Non-COVID Reports: (1501302, 30)\n"
     ]
    }
   ],
   "source": [
    "\n",
    "# Separate COVID-19 vs Non-COVID reports\n",
    "covid_df = vaers[vaers['VAX_TYPE'] == 'COVID19'].copy()\n",
    "non_covid_df = vaers[vaers['VAX_TYPE'] != 'COVID19'].copy()\n",
    "\n",
    "print(\"COVID Reports:\", covid_df.shape)\n",
    "print(\"Non-COVID Reports:\", non_covid_df.shape)\n"
   ]
  },
  {
   "cell_type": "markdown",
   "id": "7333fd41",
   "metadata": {},
   "source": [
    "## 👩‍⚕️ Demographics Comparison"
   ]
  },
  {
   "cell_type": "code",
   "execution_count": 299,
   "id": "a3b709f4",
   "metadata": {},
   "outputs": [
    {
     "data": {
      "image/png": "[encoded data removed]",
      "text/plain": [
       "<Figure size 1000x500 with 1 Axes>"
      ]
     },
     "metadata": {},
     "output_type": "display_data"
    },
    {
     "name": "stdout",
     "output_type": "stream",
     "text": [
      "COVID Gender Distribution:\n",
      " SEX\n",
      "0.0    0.691686\n",
      "1.0    0.304786\n",
      "2.0    0.003528\n",
      "Name: proportion, dtype: float64\n",
      "\n",
      "Non-COVID Gender Distribution:\n",
      " SEX\n",
      "0.0    0.675394\n",
      "1.0    0.317285\n",
      "2.0    0.007322\n",
      "Name: proportion, dtype: float64\n"
     ]
    }
   ],
   "source": [
    "\n",
    "# Age distribution comparison\n",
    "import matplotlib.pyplot as plt\n",
    "\n",
    "plt.figure(figsize=(10,5))\n",
    "covid_df['AGE_YRS'].dropna().hist(bins=30, alpha=0.6, label=\"COVID\")\n",
    "non_covid_df['AGE_YRS'].dropna().hist(bins=30, alpha=0.6, label=\"Non-COVID\")\n",
    "plt.xlabel(\"Age (years)\")\n",
    "plt.ylabel(\"Count\")\n",
    "plt.title(\"Age Distribution: COVID vs Non-COVID VAERS Reports\")\n",
    "plt.legend()\n",
    "plt.show()\n",
    "\n",
    "# Gender distribution comparison\n",
    "print(\"COVID Gender Distribution:\\n\", covid_df['SEX'].value_counts(normalize=True))\n",
    "print(\"\\nNon-COVID Gender Distribution:\\n\", non_covid_df['SEX'].value_counts(normalize=True))\n"
   ]
  },
  {
   "cell_type": "markdown",
   "id": "9319ba10",
   "metadata": {},
   "source": [
    "## 🏥 Outcomes Comparison"
   ]
  },
  {
   "cell_type": "code",
   "execution_count": 301,
   "id": "afd2714b",
   "metadata": {},
   "outputs": [
    {
     "name": "stdout",
     "output_type": "stream",
     "text": [
      "=== DIED ===\n",
      "COVID:\n",
      " DIED\n",
      "0    0.970657\n",
      "1    0.029343\n",
      "Name: proportion, dtype: float64\n",
      "Non-COVID:\n",
      " DIED\n",
      "0    0.991764\n",
      "1    0.008236\n",
      "Name: proportion, dtype: float64\n",
      "\n",
      "\n",
      "=== L_THREAT ===\n",
      "COVID:\n",
      " L_THREAT\n",
      "0    0.951525\n",
      "1    0.048475\n",
      "Name: proportion, dtype: float64\n",
      "Non-COVID:\n",
      " L_THREAT\n",
      "0    0.976007\n",
      "1    0.023993\n",
      "Name: proportion, dtype: float64\n",
      "\n",
      "\n",
      "=== HOSPITAL ===\n",
      "COVID:\n",
      " HOSPITAL\n",
      "0    0.832646\n",
      "1    0.167354\n",
      "Name: proportion, dtype: float64\n",
      "Non-COVID:\n",
      " HOSPITAL\n",
      "0    0.914037\n",
      "1    0.085963\n",
      "Name: proportion, dtype: float64\n",
      "\n",
      "\n",
      "=== DISABLE ===\n",
      "COVID:\n",
      " DISABLE\n",
      "0    0.945008\n",
      "1    0.054992\n",
      "Name: proportion, dtype: float64\n",
      "Non-COVID:\n",
      " DISABLE\n",
      "0    0.954422\n",
      "1    0.045578\n",
      "Name: proportion, dtype: float64\n",
      "\n",
      "\n"
     ]
    }
   ],
   "source": [
    "\n",
    "outcomes = ['DIED', 'L_THREAT', 'HOSPITAL', 'DISABLE']\n",
    "\n",
    "for col in outcomes:\n",
    "    covid_rate = covid_df[col].value_counts(normalize=True)\n",
    "    noncovid_rate = non_covid_df[col].value_counts(normalize=True)\n",
    "    print(f\"=== {col} ===\")\n",
    "    print(\"COVID:\\n\", covid_rate)\n",
    "    print(\"Non-COVID:\\n\", noncovid_rate)\n",
    "    print(\"\\n\")\n"
   ]
  },
  {
   "cell_type": "markdown",
   "id": "8f170f34",
   "metadata": {},
   "source": [
    "## 🤒 Symptom Comparison"
   ]
  },
  {
   "cell_type": "code",
   "execution_count": 304,
   "id": "46bc94e2",
   "metadata": {},
   "outputs": [
    {
     "name": "stdout",
     "output_type": "stream",
     "text": [
      "Top 10 COVID Symptoms:\n",
      "SYMPTOM1\n",
      "CHILLS                     50212\n",
      "ARTHRALGIA                 43662\n",
      "DIZZINESS                  35110\n",
      "FATIGUE                    27287\n",
      "ASTHENIA                   27081\n",
      "HEADACHE                   24964\n",
      "COVID-19                   22544\n",
      "PYREXIA                    19704\n",
      "INJECTION SITE ERYTHEMA    17500\n",
      "PAIN                       16663\n",
      "Name: count, dtype: int64\n",
      "\n",
      "Top 10 Non-COVID Symptoms:\n",
      "SYMPTOM1\n",
      "INJECTION SITE ERYTHEMA    14739\n",
      "CHILLS                     13246\n",
      "ERYTHEMA                   12888\n",
      "ARTHRALGIA                 10629\n",
      "DIZZINESS                   9074\n",
      "ASTHENIA                    7061\n",
      "INJECTION SITE PAIN         6538\n",
      "EXTRA DOSE ADMINISTERED     6432\n",
      "NO ADVERSE EVENT            5704\n",
      "PYREXIA                     5606\n",
      "Name: count, dtype: int64\n"
     ]
    }
   ],
   "source": [
    "\n",
    "# Most common symptoms for COVID vs Non-COVID\n",
    "print(\"Top 10 COVID Symptoms:\")\n",
    "print(covid_df['SYMPTOM1'].value_counts().head(10))\n",
    "\n",
    "print(\"\\nTop 10 Non-COVID Symptoms:\")\n",
    "print(non_covid_df['SYMPTOM1'].value_counts().head(10))\n"
   ]
  },
  {
   "cell_type": "code",
   "execution_count": 306,
   "id": "4115b2de-c7b7-4357-8aa8-0dd0592b5409",
   "metadata": {},
   "outputs": [
    {
     "data": {
      "image/png": "[encoded data removed]",
      "text/plain": [
       "<Figure size 800x600 with 2 Axes>"
      ]
     },
     "metadata": {},
     "output_type": "display_data"
    },
    {
     "data": {
      "image/png": "[encoded data removed]",
      "text/plain": [
       "<Figure size 800x600 with 2 Axes>"
      ]
     },
     "metadata": {},
     "output_type": "display_data"
    }
   ],
   "source": [
    "import seaborn as sns\n",
    "\n",
    "plt.figure(figsize=(8,6))\n",
    "sns.heatmap(covid_df[['AGE_YRS','NUMDAYS','DIED','L_THREAT','HOSPITAL','DISABLE']].corr(),\n",
    "            annot=True, cmap=\"coolwarm\", vmin=-1, vmax=1)\n",
    "plt.title(\"Correlation Heatmap – COVID Reports\")\n",
    "plt.show()\n",
    "\n",
    "plt.figure(figsize=(8,6))\n",
    "sns.heatmap(non_covid_df[['AGE_YRS','NUMDAYS','DIED','L_THREAT','HOSPITAL','DISABLE']].corr(),\n",
    "            annot=True, cmap=\"coolwarm\", vmin=-1, vmax=1)\n",
    "plt.title(\"Correlation Heatmap – Non-COVID Reports\")\n",
    "plt.show()\n"
   ]
  },
  {
   "cell_type": "code",
   "execution_count": 308,
   "id": "3926eb65-5765-43b0-8d26-32944ed0c2fc",
   "metadata": {},
   "outputs": [
    {
     "data": {
      "image/png": "[encoded data removed]",
      "text/plain": [
       "<Figure size 1400x600 with 2 Axes>"
      ]
     },
     "metadata": {},
     "output_type": "display_data"
    }
   ],
   "source": [
    "top_covid_symptoms = covid_df['SYMPTOM1'].value_counts().head(10)\n",
    "top_non_covid_symptoms = non_covid_df['SYMPTOM1'].value_counts().head(10)\n",
    "\n",
    "fig, axes = plt.subplots(1, 2, figsize=(14,6), sharey=True)\n",
    "\n",
    "sns.barplot(y=top_covid_symptoms.index, x=top_covid_symptoms.values, ax=axes[0], color=\"red\")\n",
    "axes[0].set_title(\"Top 10 COVID Symptoms\")\n",
    "\n",
    "sns.barplot(y=top_non_covid_symptoms.index, x=top_non_covid_symptoms.values, ax=axes[1], color=\"blue\")\n",
    "axes[1].set_title(\"Top 10 Non-COVID Symptoms\")\n",
    "\n",
    "plt.tight_layout()\n",
    "plt.show()\n"
   ]
  },
  {
   "cell_type": "code",
   "execution_count": 310,
   "id": "2e4b5112-3d41-41dc-b343-9f88d5f64138",
   "metadata": {},
   "outputs": [
    {
     "data": {
      "image/png": "[encoded data removed]",
      "text/plain": [
       "<Figure size 800x500 with 1 Axes>"
      ]
     },
     "metadata": {},
     "output_type": "display_data"
    }
   ],
   "source": [
    "def age_bucket(age):\n",
    "    if age < 18: return \"0-17\"\n",
    "    elif age < 45: return \"18-44\"\n",
    "    elif age < 65: return \"45-64\"\n",
    "    else: return \"65+\"\n",
    "\n",
    "covid_df['AGE_GROUP'] = covid_df['AGE_YRS'].dropna().apply(age_bucket)\n",
    "non_covid_df['AGE_GROUP'] = non_covid_df['AGE_YRS'].dropna().apply(age_bucket)\n",
    "\n",
    "age_outcomes_covid = covid_df.groupby('AGE_GROUP')['HOSPITAL'].mean()\n",
    "age_outcomes_non = non_covid_df.groupby('AGE_GROUP')['HOSPITAL'].mean()\n",
    "\n",
    "compare_df = pd.DataFrame({\"COVID\": age_outcomes_covid, \"Non-COVID\": age_outcomes_non})\n",
    "compare_df.plot(kind=\"bar\", figsize=(8,5))\n",
    "plt.title(\"Hospitalization Rate by Age Group\")\n",
    "plt.ylabel(\"Proportion Hospitalized\")\n",
    "plt.show()\n"
   ]
  },
  {
   "cell_type": "code",
   "execution_count": null,
   "id": "3419fb6f-5e71-4309-9972-9ea83c123075",
   "metadata": {},
   "outputs": [],
   "source": []
  },
  {
   "cell_type": "code",
   "execution_count": null,
   "id": "cd818180-368f-464e-995c-89484478795c",
   "metadata": {},
   "outputs": [],
   "source": []
  },
  {
   "cell_type": "code",
   "execution_count": null,
   "id": "4acabf81-1da0-4812-8cad-0c6099615019",
   "metadata": {},
   "outputs": [],
   "source": []
  }
 ],
 "metadata": {
  "kernelspec": {
   "display_name": "Python 3 (ipykernel)",
   "language": "python",
   "name": "python3"
  },
  "language_info": {
   "codemirror_mode": {
    "name": "ipython",
    "version": 3
   },
   "file_extension": ".py",
   "mimetype": "text/x-python",
   "name": "python",
   "nbconvert_exporter": "python",
   "pygments_lexer": "ipython3",
   "version": "3.12.4"
  }
 },
 "nbformat": 4,
 "nbformat_minor": 5
}
