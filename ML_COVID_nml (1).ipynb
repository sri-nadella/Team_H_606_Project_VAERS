{
 "cells": [
  {
   "cell_type": "code",
   "execution_count": null,
   "id": "f040fc88-ff5b-461d-b7bd-e7278375f544",
   "metadata": {},
   "outputs": [],
   "source": [
    "# Import the necessary libraries\n",
    "import pandas as pd\n",
    "import numpy as np\n",
    "import re\n",
    "import warnings\n",
    "warnings.filterwarnings(action='ignore')\n",
    "\n",
    "# Text processing and vectorizing\n",
    "from sklearn.feature_extraction.text import TfidfVectorizer\n",
    "import nltk\n",
    "\n",
    "# Pipeline and transformers\n",
    "from sklearn.pipeline import Pipeline\n",
    "from sklearn.compose import ColumnTransformer\n",
    "from sklearn.preprocessing import StandardScaler, OneHotEncoder\n",
    "\n",
    "# Model training and evaluation\n",
    "from sklearn.linear_model import LogisticRegression\n",
    "from sklearn.ensemble import AdaBoostClassifier, RandomForestClassifier\n",
    "from sklearn.metrics import classification_report, confusion_matrix, accuracy_score\n",
    "from sklearn.model_selection import train_test_split\n",
    "from sklearn.metrics import ConfusionMatrixDisplay, RocCurveDisplay\n",
    "import matplotlib.pyplot as plt"
   ]
  },
  {
   "cell_type": "code",
   "execution_count": null,
   "id": "85776672-2a48-4a73-aa1a-b3e768360b20",
   "metadata": {},
   "outputs": [],
   "source": [
    "covid_clean =pd.read_csv(r'/Users/eeshanimaheshgundi/Downloads/capstone_sankalp_files/all_types_files/covid_ml.csv')"
   ]
  },
  {
   "cell_type": "code",
   "execution_count": null,
   "id": "749f052a-0cff-480b-aef2-2c38fb22fa93",
   "metadata": {},
   "outputs": [],
   "source": [
    "custom_stopwords = nltk.corpus.stopwords.words('english')\n",
    "\n",
    "stopword_list = ['moderna', 'flu', 'mrna', 'vaccine', 'the', 'patient', 'pfizer', \n",
    "                 'biontech', 'nan', 'none', 'mg', 'medical', 'history', 'allergy', \n",
    "                 'year', 'old','uk','nkda','nka','known','reported','listed']"
   ]
  },
  {
   "cell_type": "code",
   "execution_count": null,
   "id": "467e9bb7-6443-402a-b1db-2330e9505b62",
   "metadata": {},
   "outputs": [],
   "source": [
    "textTransformer_0 = Pipeline(steps=[\n",
    "    ('text_bow', TfidfVectorizer(lowercase=True,\\\n",
    "                                 token_pattern=r\"(?u)\\b\\w+\\b\",\\\n",
    "                                 stop_words=stopword_list,\n",
    "                                 ngram_range=(2, 2),max_features=5000))])"
   ]
  },
  {
   "cell_type": "code",
   "execution_count": null,
   "id": "a4c62e8a-8a46-48b6-b6dc-6d381c14d739",
   "metadata": {},
   "outputs": [],
   "source": [
    "from sklearn.preprocessing import StandardScaler, OneHotEncoder\n",
    "from sklearn.compose import ColumnTransformer\n",
    "from sklearn.feature_extraction.text import TfidfVectorizer\n",
    "\n",
    "# Define preprocessing (only existing columns)\n",
    "numeric_features = ['AGE_YRS', 'HOSPDAYS']   \n",
    "categorical_features = ['SEX']\n",
    "text_feature = 'SYMPTOM_TEXT'\n",
    "\n",
    "numeric_transformer = StandardScaler()\n",
    "categorical_transformer = OneHotEncoder(handle_unknown='ignore')\n",
    "text_transformer = TfidfVectorizer(max_features=5000, stop_words='english')\n",
    "\n",
    "preprocessor = ColumnTransformer(\n",
    "    transformers=[\n",
    "        ('num', numeric_transformer, numeric_features),\n",
    "        ('cat', categorical_transformer, categorical_features),\n",
    "        ('text', text_transformer, text_feature)\n",
    "    ],\n",
    "    remainder='drop'\n",
    ")\n"
   ]
  },
  {
   "cell_type": "code",
   "execution_count": null,
   "id": "2b201fc4-9393-4673-b7a6-d1829daba9af",
   "metadata": {},
   "outputs": [],
   "source": [
    "tfidfprocess = ColumnTransformer(transformers=[('text1', textTransformer_0, 'SYMPTOM_TEXT'),\n",
    "                                              ('text2', textTransformer_0, 'OTHER_MEDS'),\n",
    "                                              ('text3', textTransformer_0, 'CUR_ILL'),\n",
    "                                              ('text4', textTransformer_0, 'HISTORY'),\n",
    "                                              ('text5', textTransformer_0, 'ALLERGIES')\n",
    "],remainder='passthrough')"
   ]
  },
  {
   "cell_type": "code",
   "execution_count": null,
   "id": "7e9ef27f-5913-4026-a480-1c567516c2dc",
   "metadata": {},
   "outputs": [],
   "source": [
    "vaccine_data = pd.get_dummies(covid_clean.VAX_MANU)\n",
    "covid_clean = pd.merge(covid_clean, vaccine_data, left_index=True, right_index=True)\n",
    "covid_clean.rename(columns = {'JANSSEN':'JANSSEN','MODERNA': 'MODERNA', 'NOVAVAX':'NOVAVAX', 'PFIZER\\BIONTECH': 'PFIZER'}, inplace = True)\n"
   ]
  },
  {
   "cell_type": "code",
   "execution_count": null,
   "id": "e40e9bcc-dfcd-4d7a-9d33-2c64417a7af2",
   "metadata": {},
   "outputs": [],
   "source": [
    "covid_clean.OTHER_MEDS = covid_clean.OTHER_MEDS.replace(np.nan,'',regex=True)\n",
    "covid_clean.CUR_ILL = covid_clean.CUR_ILL.replace(np.nan,'',regex=True)\n",
    "covid_clean.HISTORY = covid_clean.HISTORY.replace(np.nan,'',regex=True)\n",
    "covid_clean.ALLERGIES = covid_clean.ALLERGIES.replace(np.nan,'',regex=True)\n",
    "     \n"
   ]
  },
  {
   "cell_type": "code",
   "execution_count": null,
   "id": "a7fd572e-1ebf-417c-8dab-e3e1708d7b66",
   "metadata": {},
   "outputs": [],
   "source": [
    "from sklearn.model_selection import train_test_split\n",
    "\n",
    "y= covid_clean.SERIOUS\n",
    "X= covid_clean.drop(['SERIOUS','SYMPTOM1','SYMPTOM2','SYMPTOM3','SYMPTOM4',\n",
    "                    'SYMPTOM5','VAX_MANU'], axis=1)\n",
    "X_train, X_test, y_train, y_test = train_test_split(X, y, test_size=.3, \n",
    "                                                    random_state=200, stratify=y)\n",
    "\n",
    "print(f'Training examples: {X_train.shape[0]:,}')\n",
    "print(f'Test examples: {X_test.shape[0]:,}')"
   ]
  },
  {
   "cell_type": "code",
   "execution_count": null,
   "id": "21afed1a-2f9b-4ffd-b65a-1c17a9c1ffe1",
   "metadata": {},
   "outputs": [],
   "source": []
  },
  {
   "cell_type": "code",
   "execution_count": null,
   "id": "91df626b-f64f-4398-b0eb-1193af7d7b73",
   "metadata": {},
   "outputs": [],
   "source": []
  },
  {
   "cell_type": "code",
   "execution_count": null,
   "id": "33b370f0-baf5-4a0a-aa07-d396618a66e5",
   "metadata": {},
   "outputs": [],
   "source": [
    "pipeline_logistic = Pipeline([\n",
    "    ('tfidf', tfidfprocess),  # Use the TF-IDF transformer\n",
    "    ('classifier', LogisticRegression(max_iter=1000,class_weight='balanced', random_state=200))\n",
    "])"
   ]
  },
  {
   "cell_type": "code",
   "execution_count": null,
   "id": "720c5b04-d904-49c0-91e4-79e1b79b0816",
   "metadata": {},
   "outputs": [],
   "source": [
    "pipeline_logistic.fit(X_train, y_train)"
   ]
  },
  {
   "cell_type": "code",
   "execution_count": null,
   "id": "70915fd2-42bb-4c81-ab4d-4bb529de9f84",
   "metadata": {},
   "outputs": [],
   "source": [
    "# Predict on the test data\n",
    "y_pred_log = pipeline_logistic.predict(X_test)"
   ]
  },
  {
   "cell_type": "code",
   "execution_count": null,
   "id": "7ed46359-3992-4eff-8595-b58a9f9b64c1",
   "metadata": {},
   "outputs": [],
   "source": [
    "from sklearn.ensemble import RandomForestClassifier\n",
    "from xgboost import XGBClassifier\n",
    "from sklearn.metrics import (\n",
    "    accuracy_score, classification_report, confusion_matrix,\n",
    "    roc_auc_score, average_precision_score\n",
    ")\n",
    "import seaborn as sns\n",
    "import matplotlib.pyplot as plt\n",
    "\n",
    "models = {\n",
    "    \"Logistic Regression\": LogisticRegression(max_iter=1000, class_weight='balanced'),\n",
    "    \"Random Forest\": RandomForestClassifier(n_estimators=200, class_weight='balanced', random_state=42),\n",
    "    \"XGBoost\": XGBClassifier(\n",
    "        n_estimators=300,\n",
    "        learning_rate=0.05,\n",
    "        max_depth=6,\n",
    "        subsample=0.8,\n",
    "        colsample_bytree=0.8,\n",
    "        eval_metric='logloss',\n",
    "        use_label_encoder=False\n",
    "    )\n",
    "}\n",
    "\n",
    "results = []\n",
    "\n",
    "for name, model in models.items():\n",
    "    pipeline = Pipeline(steps=[\n",
    "        ('preprocessor', preprocessor),\n",
    "        ('classifier', model)\n",
    "    ])\n",
    "    pipeline.fit(X_train, y_train)\n",
    "    y_pred = pipeline.predict(X_test)\n",
    "    y_pred_proba = pipeline.predict_proba(X_test)[:, 1]\n",
    "    acc = accuracy_score(y_test, y_pred)\n",
    "    roc_auc = roc_auc_score(y_test, y_pred_proba)\n",
    "    pr_auc = average_precision_score(y_test, y_pred_proba)\n",
    "    print(f\"\\\\n=== {name} ===\")\n",
    "    print(classification_report(y_test, y_pred))\n",
    "    print(f\"Accuracy: {acc:.4f} | ROC-AUC: {roc_auc:.4f} | PR-AUC: {pr_auc:.4f}\")\n",
    "    plt.figure(figsize=(4,3))\n",
    "    sns.heatmap(confusion_matrix(y_test, y_pred), annot=True, fmt='d', cmap='Blues')\n",
    "    plt.title(f'Confusion Matrix - {name}')\n",
    "    plt.xlabel('Predicted')\n",
    "    plt.ylabel('Actual')\n",
    "    plt.show()\n",
    "    results.append((name, acc, roc_auc, pr_auc))\n",
    "\n",
    "results_df = pd.DataFrame(results, columns=['Model', 'Accuracy', 'ROC-AUC', 'PR-AUC'])\n",
    "print(\"\\\\nModel Comparison Summary:\")\n",
    "display(results_df)\n"
   ]
  },
  {
   "cell_type": "code",
   "execution_count": null,
   "id": "60b98db3-b347-403b-93a5-f5b005b2cce2",
   "metadata": {},
   "outputs": [],
   "source": []
  },
  {
   "cell_type": "code",
   "execution_count": null,
   "id": "5a7c8d20-476e-466d-a3c7-0bdc8c54457f",
   "metadata": {},
   "outputs": [],
   "source": [
    "plt.figure(figsize=(8,6))\n",
    "\n",
    "for name, model in models.items():\n",
    "    pipeline = Pipeline(steps=[\n",
    "        ('preprocessor', preprocessor),\n",
    "        ('classifier', model)\n",
    "    ])\n",
    "    pipeline.fit(X_train, y_train)\n",
    "    y_pred_proba = pipeline.predict_proba(X_test)[:, 1]\n",
    "    RocCurveDisplay.from_predictions(\n",
    "        y_test, y_pred_proba, name=name, ax=plt.gca(), lw=2\n",
    "    )\n",
    "\n",
    "plt.title(\"ROC Curves – Logistic vs Random Forest vs XGBoost\")\n",
    "plt.legend(loc=\"lower right\")\n",
    "plt.show(from sklearn.metrics import (\n",
    "    recall_score, precision_score, f1_score, matthews_corrcoef\n",
    ")\n",
    "\n",
    "results = []\n",
    "\n",
    "for name, model in models.items():\n",
    "    pipeline = Pipeline(steps=[\n",
    "        ('preprocessor', preprocessor),\n",
    "        ('classifier', model)\n",
    "    ])\n",
    "    pipeline.fit(X_train, y_train)\n",
    "    y_pred = pipeline.predict(X_test)\n",
    "    y_pred_proba = pipeline.predict_proba(X_test)[:, 1]\n",
    "\n",
    "    acc = accuracy_score(y_test, y_pred)\n",
    "    roc_auc = roc_auc_score(y_test, y_pred_proba)\n",
    "    pr_auc = average_precision_score(y_test, y_pred_proba)\n",
    "    precision = precision_score(y_test, y_pred)\n",
    "    recall = recall_score(y_test, y_pred)\n",
    "    f1 = f1_score(y_test, y_pred)\n",
    "    mcc = matthews_corrcoef(y_test, y_pred)\n",
    "\n",
    "    results.append((name, acc, precision, recall, f1, roc_auc, pr_auc, mcc))\n",
    "\n",
    "results_df = pd.DataFrame(results, columns=[\n",
    "    'Model', 'Accuracy', 'Precision', 'Recall', 'F1-Score',\n",
    "    'ROC-AUC', 'PR-AUC', 'MCC'\n",
    "])\n",
    "\n",
    "display(results_df.sort_values(by='ROC-AUC', ascending=False))\n"
   ]
  },
  {
   "cell_type": "code",
   "execution_count": null,
   "id": "8e27ae55-9563-496d-91c8-9afac1ca39ec",
   "metadata": {},
   "outputs": [],
   "source": [
    "sns.barplot(data=results_df.melt(id_vars='Model',\n",
    "            value_vars=['Accuracy','Recall','Precision','F1-Score']),\n",
    "            x='variable', y='value', hue='Model')\n",
    "plt.title(\"Performance Metrics Comparison\")\n",
    "plt.ylabel(\"Score\")\n",
    "plt.show()\n"
   ]
  },
  {
   "cell_type": "code",
   "execution_count": null,
   "id": "ad65de70-2873-4e05-8151-f25310124ff6",
   "metadata": {},
   "outputs": [],
   "source": []
  },
  {
   "cell_type": "code",
   "execution_count": null,
   "id": "2961423d-0d88-45f0-acdb-661bf6c2c5b9",
   "metadata": {},
   "outputs": [],
   "source": []
  },
  {
   "cell_type": "code",
   "execution_count": null,
   "id": "126a5ad9-6082-4a91-9239-3451c331477e",
   "metadata": {},
   "outputs": [],
   "source": []
  },
  {
   "cell_type": "code",
   "execution_count": null,
   "id": "bb0dd89e-b4d2-4c91-95fc-a9cab87a941e",
   "metadata": {},
   "outputs": [],
   "source": []
  }
 ],
 "metadata": {
  "kernelspec": {
   "display_name": "Python [conda env:base] *",
   "language": "python",
   "name": "conda-base-py"
  },
  "language_info": {
   "codemirror_mode": {
    "name": "ipython",
    "version": 3
   },
   "file_extension": ".py",
   "mimetype": "text/x-python",
   "name": "python",
   "nbconvert_exporter": "python",
   "pygments_lexer": "ipython3",
   "version": "3.12.7"
  }
 },
 "nbformat": 4,
 "nbformat_minor": 5
}
